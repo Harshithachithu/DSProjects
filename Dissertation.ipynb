{
 "cells": [
  {
   "cell_type": "code",
   "execution_count": 2,
   "id": "6a848e8f",
   "metadata": {
    "collapsed": true
   },
   "outputs": [
    {
     "name": "stdout",
     "output_type": "stream",
     "text": [
      "Collecting pandas\n"
     ]
    },
    {
     "name": "stderr",
     "output_type": "stream",
     "text": [
      "ERROR: pip's dependency resolver does not currently take into account all the packages that are installed. This behaviour is the source of the following dependency conflicts.\n",
      "tensorflow-gpu 2.9.1 requires absl-py>=1.0.0, which is not installed.\n",
      "tensorflow-gpu 2.9.1 requires astunparse>=1.6.0, which is not installed.\n",
      "tensorflow-gpu 2.9.1 requires flatbuffers<2,>=1.12, which is not installed.\n",
      "tensorflow-gpu 2.9.1 requires gast<=0.4.0,>=0.2.1, which is not installed.\n",
      "tensorflow-gpu 2.9.1 requires google-pasta>=0.1.1, which is not installed.\n",
      "tensorflow-gpu 2.9.1 requires grpcio<2.0,>=1.24.3, which is not installed.\n",
      "tensorflow-gpu 2.9.1 requires h5py>=2.9.0, which is not installed.\n",
      "tensorflow-gpu 2.9.1 requires keras<2.10.0,>=2.9.0rc0, which is not installed.\n",
      "tensorflow-gpu 2.9.1 requires keras-preprocessing>=1.1.1, which is not installed.\n",
      "tensorflow-gpu 2.9.1 requires libclang>=13.0.0, which is not installed.\n",
      "tensorflow-gpu 2.9.1 requires opt-einsum>=2.3.2, which is not installed.\n",
      "tensorflow-gpu 2.9.1 requires protobuf<3.20,>=3.9.2, which is not installed.\n",
      "tensorflow-gpu 2.9.1 requires tensorboard<2.10,>=2.9, which is not installed.\n",
      "tensorflow-gpu 2.9.1 requires tensorflow-estimator<2.10.0,>=2.9.0rc0, which is not installed.\n",
      "tensorflow-gpu 2.9.1 requires tensorflow-io-gcs-filesystem>=0.23.1, which is not installed.\n",
      "tensorflow-gpu 2.9.1 requires termcolor>=1.1.0, which is not installed.\n",
      "tensorflow-gpu 2.9.1 requires wrapt>=1.11.0, which is not installed.\n"
     ]
    },
    {
     "name": "stdout",
     "output_type": "stream",
     "text": [
      "  Downloading pandas-1.4.3-cp39-cp39-win_amd64.whl (10.6 MB)\n",
      "     ---------------------------------------- 10.6/10.6 MB 5.2 MB/s eta 0:00:00\n",
      "Requirement already satisfied: pytz>=2020.1 in c:\\users\\harsh\\anaconda3\\envs\\dissertation\\lib\\site-packages (from pandas) (2022.1)\n",
      "Collecting numpy>=1.18.5\n",
      "  Downloading numpy-1.23.2-cp39-cp39-win_amd64.whl (14.7 MB)\n",
      "     ---------------------------------------- 14.7/14.7 MB 4.7 MB/s eta 0:00:00\n",
      "Requirement already satisfied: python-dateutil>=2.8.1 in c:\\users\\harsh\\anaconda3\\envs\\dissertation\\lib\\site-packages (from pandas) (2.8.2)\n",
      "Requirement already satisfied: six>=1.5 in c:\\users\\harsh\\anaconda3\\envs\\dissertation\\lib\\site-packages (from python-dateutil>=2.8.1->pandas) (1.16.0)\n",
      "Installing collected packages: numpy, pandas\n",
      "Successfully installed numpy-1.23.2 pandas-1.4.3\n"
     ]
    }
   ],
   "source": [
    "#!pip install pandas"
   ]
  },
  {
   "cell_type": "code",
   "execution_count": 4,
   "id": "5034d418",
   "metadata": {
    "collapsed": true
   },
   "outputs": [
    {
     "name": "stdout",
     "output_type": "stream",
     "text": [
      "Collecting Bio\n",
      "  Using cached bio-1.4.0-py3-none-any.whl (270 kB)\n",
      "Requirement already satisfied: requests in c:\\users\\harsh\\anaconda3\\envs\\dissertation\\lib\\site-packages (from Bio) (2.28.1)\n",
      "Collecting tqdm\n",
      "  Downloading tqdm-4.64.0-py2.py3-none-any.whl (78 kB)\n",
      "     ---------------------------------------- 78.4/78.4 kB 4.3 MB/s eta 0:00:00\n",
      "Collecting mygene\n",
      "  Using cached mygene-3.2.2-py2.py3-none-any.whl (5.4 kB)\n",
      "Collecting biopython>=1.79\n",
      "  Using cached biopython-1.79-cp39-cp39-win_amd64.whl (2.3 MB)\n",
      "Requirement already satisfied: numpy in c:\\users\\harsh\\anaconda3\\envs\\dissertation\\lib\\site-packages (from biopython>=1.79->Bio) (1.23.2)\n",
      "Collecting biothings-client>=0.2.6\n",
      "  Using cached biothings_client-0.2.6-py2.py3-none-any.whl (37 kB)\n",
      "Requirement already satisfied: charset-normalizer<3,>=2 in c:\\users\\harsh\\anaconda3\\envs\\dissertation\\lib\\site-packages (from requests->Bio) (2.0.4)\n",
      "Requirement already satisfied: idna<4,>=2.5 in c:\\users\\harsh\\anaconda3\\envs\\dissertation\\lib\\site-packages (from requests->Bio) (3.3)\n",
      "Requirement already satisfied: certifi>=2017.4.17 in c:\\users\\harsh\\anaconda3\\envs\\dissertation\\lib\\site-packages (from requests->Bio) (2022.6.15)\n",
      "Requirement already satisfied: urllib3<1.27,>=1.21.1 in c:\\users\\harsh\\anaconda3\\envs\\dissertation\\lib\\site-packages (from requests->Bio) (1.26.11)\n",
      "Requirement already satisfied: colorama in c:\\users\\harsh\\anaconda3\\envs\\dissertation\\lib\\site-packages (from tqdm->Bio) (0.4.5)\n",
      "Installing collected packages: tqdm, biopython, biothings-client, mygene, Bio\n",
      "Successfully installed Bio-1.4.0 biopython-1.79 biothings-client-0.2.6 mygene-3.2.2 tqdm-4.64.0\n"
     ]
    }
   ],
   "source": [
    "#!pip install Bio"
   ]
  },
  {
   "cell_type": "code",
   "execution_count": 6,
   "id": "8b4afe1f",
   "metadata": {
    "collapsed": true
   },
   "outputs": [
    {
     "name": "stdout",
     "output_type": "stream",
     "text": [
      "Collecting matplotlib\n",
      "  Downloading matplotlib-3.5.3-cp39-cp39-win_amd64.whl (7.2 MB)\n",
      "     ---------------------------------------- 7.2/7.2 MB 7.5 MB/s eta 0:00:00\n",
      "Requirement already satisfied: numpy>=1.17 in c:\\users\\harsh\\anaconda3\\envs\\dissertation\\lib\\site-packages (from matplotlib) (1.23.2)\n",
      "Collecting cycler>=0.10\n",
      "  Downloading cycler-0.11.0-py3-none-any.whl (6.4 kB)\n",
      "Collecting kiwisolver>=1.0.1\n",
      "  Downloading kiwisolver-1.4.4-cp39-cp39-win_amd64.whl (55 kB)\n",
      "     ---------------------------------------- 55.4/55.4 kB 3.0 MB/s eta 0:00:00\n",
      "Requirement already satisfied: python-dateutil>=2.7 in c:\\users\\harsh\\anaconda3\\envs\\dissertation\\lib\\site-packages (from matplotlib) (2.8.2)\n",
      "Collecting pillow>=6.2.0\n",
      "  Downloading Pillow-9.2.0-cp39-cp39-win_amd64.whl (3.3 MB)\n",
      "     ---------------------------------------- 3.3/3.3 MB 5.0 MB/s eta 0:00:00\n",
      "Requirement already satisfied: packaging>=20.0 in c:\\users\\harsh\\anaconda3\\envs\\dissertation\\lib\\site-packages (from matplotlib) (21.3)\n",
      "Requirement already satisfied: pyparsing>=2.2.1 in c:\\users\\harsh\\anaconda3\\envs\\dissertation\\lib\\site-packages (from matplotlib) (3.0.4)\n",
      "Collecting fonttools>=4.22.0\n",
      "  Downloading fonttools-4.36.0-py3-none-any.whl (950 kB)\n",
      "     -------------------------------------- 950.4/950.4 kB 6.7 MB/s eta 0:00:00\n",
      "Requirement already satisfied: six>=1.5 in c:\\users\\harsh\\anaconda3\\envs\\dissertation\\lib\\site-packages (from python-dateutil>=2.7->matplotlib) (1.16.0)\n",
      "Installing collected packages: pillow, kiwisolver, fonttools, cycler, matplotlib\n",
      "Successfully installed cycler-0.11.0 fonttools-4.36.0 kiwisolver-1.4.4 matplotlib-3.5.3 pillow-9.2.0\n"
     ]
    }
   ],
   "source": [
    "#!pip install matplotlib"
   ]
  },
  {
   "cell_type": "code",
   "execution_count": 8,
   "id": "8b78d8b3",
   "metadata": {
    "collapsed": true
   },
   "outputs": [
    {
     "name": "stdout",
     "output_type": "stream",
     "text": [
      "Collecting seaborn\n",
      "  Downloading seaborn-0.11.2-py3-none-any.whl (292 kB)\n",
      "     -------------------------------------- 292.8/292.8 kB 3.0 MB/s eta 0:00:00\n",
      "Collecting scipy>=1.0\n",
      "  Downloading scipy-1.9.0-cp39-cp39-win_amd64.whl (38.6 MB)\n",
      "     ---------------------------------------- 38.6/38.6 MB 3.9 MB/s eta 0:00:00\n",
      "Requirement already satisfied: numpy>=1.15 in c:\\users\\harsh\\anaconda3\\envs\\dissertation\\lib\\site-packages (from seaborn) (1.23.2)\n",
      "Requirement already satisfied: matplotlib>=2.2 in c:\\users\\harsh\\anaconda3\\envs\\dissertation\\lib\\site-packages (from seaborn) (3.5.3)\n",
      "Requirement already satisfied: pandas>=0.23 in c:\\users\\harsh\\anaconda3\\envs\\dissertation\\lib\\site-packages (from seaborn) (1.4.3)\n",
      "Requirement already satisfied: pillow>=6.2.0 in c:\\users\\harsh\\anaconda3\\envs\\dissertation\\lib\\site-packages (from matplotlib>=2.2->seaborn) (9.2.0)\n",
      "Requirement already satisfied: kiwisolver>=1.0.1 in c:\\users\\harsh\\anaconda3\\envs\\dissertation\\lib\\site-packages (from matplotlib>=2.2->seaborn) (1.4.4)\n",
      "Requirement already satisfied: pyparsing>=2.2.1 in c:\\users\\harsh\\anaconda3\\envs\\dissertation\\lib\\site-packages (from matplotlib>=2.2->seaborn) (3.0.4)\n",
      "Requirement already satisfied: cycler>=0.10 in c:\\users\\harsh\\anaconda3\\envs\\dissertation\\lib\\site-packages (from matplotlib>=2.2->seaborn) (0.11.0)\n",
      "Requirement already satisfied: fonttools>=4.22.0 in c:\\users\\harsh\\anaconda3\\envs\\dissertation\\lib\\site-packages (from matplotlib>=2.2->seaborn) (4.36.0)\n",
      "Requirement already satisfied: packaging>=20.0 in c:\\users\\harsh\\anaconda3\\envs\\dissertation\\lib\\site-packages (from matplotlib>=2.2->seaborn) (21.3)\n",
      "Requirement already satisfied: python-dateutil>=2.7 in c:\\users\\harsh\\anaconda3\\envs\\dissertation\\lib\\site-packages (from matplotlib>=2.2->seaborn) (2.8.2)\n",
      "Requirement already satisfied: pytz>=2020.1 in c:\\users\\harsh\\anaconda3\\envs\\dissertation\\lib\\site-packages (from pandas>=0.23->seaborn) (2022.1)\n",
      "Requirement already satisfied: six>=1.5 in c:\\users\\harsh\\anaconda3\\envs\\dissertation\\lib\\site-packages (from python-dateutil>=2.7->matplotlib>=2.2->seaborn) (1.16.0)\n",
      "Installing collected packages: scipy, seaborn\n",
      "Successfully installed scipy-1.9.0 seaborn-0.11.2\n"
     ]
    }
   ],
   "source": [
    "#!pip install seaborn"
   ]
  },
  {
   "cell_type": "code",
   "execution_count": 10,
   "id": "e9815325",
   "metadata": {
    "collapsed": true
   },
   "outputs": [
    {
     "name": "stdout",
     "output_type": "stream",
     "text": [
      "Collecting scikit-learn\n",
      "  Downloading scikit_learn-1.1.2-cp39-cp39-win_amd64.whl (7.4 MB)\n",
      "     ---------------------------------------- 7.4/7.4 MB 6.4 MB/s eta 0:00:00\n",
      "Requirement already satisfied: numpy>=1.17.3 in c:\\users\\harsh\\anaconda3\\envs\\dissertation\\lib\\site-packages (from scikit-learn) (1.23.2)\n",
      "Requirement already satisfied: scipy>=1.3.2 in c:\\users\\harsh\\anaconda3\\envs\\dissertation\\lib\\site-packages (from scikit-learn) (1.9.0)\n",
      "Collecting threadpoolctl>=2.0.0\n",
      "  Downloading threadpoolctl-3.1.0-py3-none-any.whl (14 kB)\n",
      "Collecting joblib>=1.0.0\n",
      "  Using cached joblib-1.1.0-py2.py3-none-any.whl (306 kB)\n",
      "Installing collected packages: threadpoolctl, joblib, scikit-learn\n",
      "Successfully installed joblib-1.1.0 scikit-learn-1.1.2 threadpoolctl-3.1.0\n"
     ]
    }
   ],
   "source": [
    "#!pip install scikit-learn"
   ]
  },
  {
   "cell_type": "code",
   "execution_count": 11,
   "id": "211885c1",
   "metadata": {},
   "outputs": [],
   "source": [
    "import pandas as pd\n",
    "from Bio import SeqIO\n",
    "import matplotlib.pyplot as plt\n",
    "import seaborn as sns\n",
    "from sklearn.metrics import roc_auc_score, roc_curve, auc, precision_recall_curve, average_precision_score\n",
    "%matplotlib inline"
   ]
  },
  {
   "cell_type": "code",
   "execution_count": 12,
   "id": "522930e4",
   "metadata": {},
   "outputs": [],
   "source": [
    "metadata = pd.read_csv(r'C:\\Users\\harsh\\Downloads\\Dissertation\\V95_38_MUTANT.csv')"
   ]
  },
  {
   "cell_type": "code",
   "execution_count": 13,
   "id": "4e26dbef",
   "metadata": {},
   "outputs": [],
   "source": [
    "data = r'C:\\Users\\harsh\\Downloads\\Dissertation\\All_COSMIC_Genes\\All_COSMIC_Genes.fasta'"
   ]
  },
  {
   "cell_type": "code",
   "execution_count": 14,
   "id": "4412239e",
   "metadata": {},
   "outputs": [],
   "source": [
    "sequences = [i for i in SeqIO.parse(data,'fasta')]"
   ]
  },
  {
   "cell_type": "code",
   "execution_count": 15,
   "id": "3f07cf98",
   "metadata": {},
   "outputs": [],
   "source": [
    "description = []\n",
    "pros_sequence = []\n",
    "for sequence in sequences:\n",
    "    description.append(sequence.description)\n",
    "    pros_sequence.append(str(sequence.seq))"
   ]
  },
  {
   "cell_type": "code",
   "execution_count": 16,
   "id": "2b45be25",
   "metadata": {
    "scrolled": true
   },
   "outputs": [
    {
     "data": {
      "text/html": [
       "<div>\n",
       "<style scoped>\n",
       "    .dataframe tbody tr th:only-of-type {\n",
       "        vertical-align: middle;\n",
       "    }\n",
       "\n",
       "    .dataframe tbody tr th {\n",
       "        vertical-align: top;\n",
       "    }\n",
       "\n",
       "    .dataframe thead th {\n",
       "        text-align: right;\n",
       "    }\n",
       "</style>\n",
       "<table border=\"1\" class=\"dataframe\">\n",
       "  <thead>\n",
       "    <tr style=\"text-align: right;\">\n",
       "      <th></th>\n",
       "      <th>Description</th>\n",
       "      <th>Sequence</th>\n",
       "    </tr>\n",
       "  </thead>\n",
       "  <tbody>\n",
       "    <tr>\n",
       "      <th>0</th>\n",
       "      <td>OR4F5_ENST00000641515 ENST00000641515.2 1:6541...</td>\n",
       "      <td>atgaagaaggtaactgcagaggctatttcctggaatgaatcaacga...</td>\n",
       "    </tr>\n",
       "    <tr>\n",
       "      <th>1</th>\n",
       "      <td>OR4F5 ENST00000335137.4 1:69055-70108(+)</td>\n",
       "      <td>atggtgactgaattcatttttctgggtctctctgattctcaggaac...</td>\n",
       "    </tr>\n",
       "    <tr>\n",
       "      <th>2</th>\n",
       "      <td>OR4F29 ENST00000426406.3 1:450703-451697(-)</td>\n",
       "      <td>atggatggagagaatcactcagtggtatctgagtttttgtttctgg...</td>\n",
       "    </tr>\n",
       "    <tr>\n",
       "      <th>3</th>\n",
       "      <td>OR4F16 ENST00000332831.4 1:685679-686673(-)</td>\n",
       "      <td>atggatggagagaatcactcagtggtatctgagtttttgtttctgg...</td>\n",
       "    </tr>\n",
       "    <tr>\n",
       "      <th>4</th>\n",
       "      <td>SAMD11 ENST00000342066.7 1:925738-944575(+)</td>\n",
       "      <td>atgtccaaggggatcctgcaggtgcatcctccgatctgcgactgcc...</td>\n",
       "    </tr>\n",
       "    <tr>\n",
       "      <th>...</th>\n",
       "      <td>...</td>\n",
       "      <td>...</td>\n",
       "    </tr>\n",
       "    <tr>\n",
       "      <th>56469</th>\n",
       "      <td>MT-ND4L ENST00000361335.1 25:10470-10766(+)</td>\n",
       "      <td>atgcccctcatttacataaatattatactagcatttaccatctcac...</td>\n",
       "    </tr>\n",
       "    <tr>\n",
       "      <th>56470</th>\n",
       "      <td>MT-ND4 ENST00000361381.2 25:10760-12137(+)</td>\n",
       "      <td>atgctaaaactaatcgtcccaacaattatattactaccactgacat...</td>\n",
       "    </tr>\n",
       "    <tr>\n",
       "      <th>56471</th>\n",
       "      <td>MT-ND5 ENST00000361567.2 25:12337-14148(+)</td>\n",
       "      <td>ataaccatgcacactactataaccaccctaaccctgacttccctaa...</td>\n",
       "    </tr>\n",
       "    <tr>\n",
       "      <th>56472</th>\n",
       "      <td>MT-ND6 ENST00000361681.2 25:14149-14673(-)</td>\n",
       "      <td>atgatgtatgctttgtttctgttgagtgtgggtttagtaatggggt...</td>\n",
       "    </tr>\n",
       "    <tr>\n",
       "      <th>56473</th>\n",
       "      <td>MT-CYB ENST00000361789.2 25:14747-15887(+)</td>\n",
       "      <td>atgaccccaatacgcaaaactaaccccctaataaaattaattaacc...</td>\n",
       "    </tr>\n",
       "  </tbody>\n",
       "</table>\n",
       "<p>56474 rows × 2 columns</p>\n",
       "</div>"
      ],
      "text/plain": [
       "                                             Description  \\\n",
       "0      OR4F5_ENST00000641515 ENST00000641515.2 1:6541...   \n",
       "1               OR4F5 ENST00000335137.4 1:69055-70108(+)   \n",
       "2            OR4F29 ENST00000426406.3 1:450703-451697(-)   \n",
       "3            OR4F16 ENST00000332831.4 1:685679-686673(-)   \n",
       "4            SAMD11 ENST00000342066.7 1:925738-944575(+)   \n",
       "...                                                  ...   \n",
       "56469        MT-ND4L ENST00000361335.1 25:10470-10766(+)   \n",
       "56470         MT-ND4 ENST00000361381.2 25:10760-12137(+)   \n",
       "56471         MT-ND5 ENST00000361567.2 25:12337-14148(+)   \n",
       "56472         MT-ND6 ENST00000361681.2 25:14149-14673(-)   \n",
       "56473         MT-CYB ENST00000361789.2 25:14747-15887(+)   \n",
       "\n",
       "                                                Sequence  \n",
       "0      atgaagaaggtaactgcagaggctatttcctggaatgaatcaacga...  \n",
       "1      atggtgactgaattcatttttctgggtctctctgattctcaggaac...  \n",
       "2      atggatggagagaatcactcagtggtatctgagtttttgtttctgg...  \n",
       "3      atggatggagagaatcactcagtggtatctgagtttttgtttctgg...  \n",
       "4      atgtccaaggggatcctgcaggtgcatcctccgatctgcgactgcc...  \n",
       "...                                                  ...  \n",
       "56469  atgcccctcatttacataaatattatactagcatttaccatctcac...  \n",
       "56470  atgctaaaactaatcgtcccaacaattatattactaccactgacat...  \n",
       "56471  ataaccatgcacactactataaccaccctaaccctgacttccctaa...  \n",
       "56472  atgatgtatgctttgtttctgttgagtgtgggtttagtaatggggt...  \n",
       "56473  atgaccccaatacgcaaaactaaccccctaataaaattaattaacc...  \n",
       "\n",
       "[56474 rows x 2 columns]"
      ]
     },
     "execution_count": 16,
     "metadata": {},
     "output_type": "execute_result"
    }
   ],
   "source": [
    "sequencepd = pd.DataFrame({'Description':description, 'Sequence': pros_sequence})\n",
    "sequencepd"
   ]
  },
  {
   "cell_type": "code",
   "execution_count": 17,
   "id": "2cb5cb11",
   "metadata": {},
   "outputs": [
    {
     "name": "stdout",
     "output_type": "stream",
     "text": [
      "                                             Description  \\\n",
      "0      OR4F5_ENST00000641515 ENST00000641515.2 1:6541...   \n",
      "1               OR4F5 ENST00000335137.4 1:69055-70108(+)   \n",
      "2            OR4F29 ENST00000426406.3 1:450703-451697(-)   \n",
      "3            OR4F16 ENST00000332831.4 1:685679-686673(-)   \n",
      "4            SAMD11 ENST00000342066.7 1:925738-944575(+)   \n",
      "...                                                  ...   \n",
      "56469        MT-ND4L ENST00000361335.1 25:10470-10766(+)   \n",
      "56470         MT-ND4 ENST00000361381.2 25:10760-12137(+)   \n",
      "56471         MT-ND5 ENST00000361567.2 25:12337-14148(+)   \n",
      "56472         MT-ND6 ENST00000361681.2 25:14149-14673(-)   \n",
      "56473         MT-CYB ENST00000361789.2 25:14747-15887(+)   \n",
      "\n",
      "                                                Sequence   Accession_number  \n",
      "0      atgaagaaggtaactgcagaggctatttcctggaatgaatcaacga...  ENST00000641515.2  \n",
      "1      atggtgactgaattcatttttctgggtctctctgattctcaggaac...                NaN  \n",
      "2      atggatggagagaatcactcagtggtatctgagtttttgtttctgg...                NaN  \n",
      "3      atggatggagagaatcactcagtggtatctgagtttttgtttctgg...                NaN  \n",
      "4      atgtccaaggggatcctgcaggtgcatcctccgatctgcgactgcc...  ENST00000342066.7  \n",
      "...                                                  ...                ...  \n",
      "56469  atgcccctcatttacataaatattatactagcatttaccatctcac...                NaN  \n",
      "56470  atgctaaaactaatcgtcccaacaattatattactaccactgacat...  ENST00000361381.2  \n",
      "56471  ataaccatgcacactactataaccaccctaaccctgacttccctaa...  ENST00000361567.2  \n",
      "56472  atgatgtatgctttgtttctgttgagtgtgggtttagtaatggggt...                NaN  \n",
      "56473  atgaccccaatacgcaaaactaaccccctaataaaattaattaacc...  ENST00000361789.2  \n",
      "\n",
      "[56474 rows x 3 columns]\n"
     ]
    }
   ],
   "source": [
    "pat = '|'.join(r\"\\b{}\\b\".format(x) for x in metadata[' ACCESSION_NUMBER'])\n",
    "sequencepd['Accession_number']= sequencepd['Description'].str.extract('('+ pat + ')', expand=False)\n",
    "print (sequencepd)"
   ]
  },
  {
   "cell_type": "code",
   "execution_count": 18,
   "id": "4f66aa23",
   "metadata": {
    "scrolled": true
   },
   "outputs": [
    {
     "data": {
      "text/html": [
       "<div>\n",
       "<style scoped>\n",
       "    .dataframe tbody tr th:only-of-type {\n",
       "        vertical-align: middle;\n",
       "    }\n",
       "\n",
       "    .dataframe tbody tr th {\n",
       "        vertical-align: top;\n",
       "    }\n",
       "\n",
       "    .dataframe thead th {\n",
       "        text-align: right;\n",
       "    }\n",
       "</style>\n",
       "<table border=\"1\" class=\"dataframe\">\n",
       "  <thead>\n",
       "    <tr style=\"text-align: right;\">\n",
       "      <th></th>\n",
       "      <th>Description</th>\n",
       "      <th>Sequence</th>\n",
       "      <th>Accession_number</th>\n",
       "    </tr>\n",
       "  </thead>\n",
       "  <tbody>\n",
       "    <tr>\n",
       "      <th>0</th>\n",
       "      <td>OR4F5_ENST00000641515 ENST00000641515.2 1:6541...</td>\n",
       "      <td>atgaagaaggtaactgcagaggctatttcctggaatgaatcaacga...</td>\n",
       "      <td>ENST00000641515.2</td>\n",
       "    </tr>\n",
       "    <tr>\n",
       "      <th>1</th>\n",
       "      <td>OR4F5 ENST00000335137.4 1:69055-70108(+)</td>\n",
       "      <td>atggtgactgaattcatttttctgggtctctctgattctcaggaac...</td>\n",
       "      <td>NaN</td>\n",
       "    </tr>\n",
       "    <tr>\n",
       "      <th>2</th>\n",
       "      <td>OR4F29 ENST00000426406.3 1:450703-451697(-)</td>\n",
       "      <td>atggatggagagaatcactcagtggtatctgagtttttgtttctgg...</td>\n",
       "      <td>NaN</td>\n",
       "    </tr>\n",
       "    <tr>\n",
       "      <th>3</th>\n",
       "      <td>OR4F16 ENST00000332831.4 1:685679-686673(-)</td>\n",
       "      <td>atggatggagagaatcactcagtggtatctgagtttttgtttctgg...</td>\n",
       "      <td>NaN</td>\n",
       "    </tr>\n",
       "    <tr>\n",
       "      <th>4</th>\n",
       "      <td>SAMD11 ENST00000342066.7 1:925738-944575(+)</td>\n",
       "      <td>atgtccaaggggatcctgcaggtgcatcctccgatctgcgactgcc...</td>\n",
       "      <td>ENST00000342066.7</td>\n",
       "    </tr>\n",
       "    <tr>\n",
       "      <th>...</th>\n",
       "      <td>...</td>\n",
       "      <td>...</td>\n",
       "      <td>...</td>\n",
       "    </tr>\n",
       "    <tr>\n",
       "      <th>56469</th>\n",
       "      <td>MT-ND4L ENST00000361335.1 25:10470-10766(+)</td>\n",
       "      <td>atgcccctcatttacataaatattatactagcatttaccatctcac...</td>\n",
       "      <td>NaN</td>\n",
       "    </tr>\n",
       "    <tr>\n",
       "      <th>56470</th>\n",
       "      <td>MT-ND4 ENST00000361381.2 25:10760-12137(+)</td>\n",
       "      <td>atgctaaaactaatcgtcccaacaattatattactaccactgacat...</td>\n",
       "      <td>ENST00000361381.2</td>\n",
       "    </tr>\n",
       "    <tr>\n",
       "      <th>56471</th>\n",
       "      <td>MT-ND5 ENST00000361567.2 25:12337-14148(+)</td>\n",
       "      <td>ataaccatgcacactactataaccaccctaaccctgacttccctaa...</td>\n",
       "      <td>ENST00000361567.2</td>\n",
       "    </tr>\n",
       "    <tr>\n",
       "      <th>56472</th>\n",
       "      <td>MT-ND6 ENST00000361681.2 25:14149-14673(-)</td>\n",
       "      <td>atgatgtatgctttgtttctgttgagtgtgggtttagtaatggggt...</td>\n",
       "      <td>NaN</td>\n",
       "    </tr>\n",
       "    <tr>\n",
       "      <th>56473</th>\n",
       "      <td>MT-CYB ENST00000361789.2 25:14747-15887(+)</td>\n",
       "      <td>atgaccccaatacgcaaaactaaccccctaataaaattaattaacc...</td>\n",
       "      <td>ENST00000361789.2</td>\n",
       "    </tr>\n",
       "  </tbody>\n",
       "</table>\n",
       "<p>56474 rows × 3 columns</p>\n",
       "</div>"
      ],
      "text/plain": [
       "                                             Description  \\\n",
       "0      OR4F5_ENST00000641515 ENST00000641515.2 1:6541...   \n",
       "1               OR4F5 ENST00000335137.4 1:69055-70108(+)   \n",
       "2            OR4F29 ENST00000426406.3 1:450703-451697(-)   \n",
       "3            OR4F16 ENST00000332831.4 1:685679-686673(-)   \n",
       "4            SAMD11 ENST00000342066.7 1:925738-944575(+)   \n",
       "...                                                  ...   \n",
       "56469        MT-ND4L ENST00000361335.1 25:10470-10766(+)   \n",
       "56470         MT-ND4 ENST00000361381.2 25:10760-12137(+)   \n",
       "56471         MT-ND5 ENST00000361567.2 25:12337-14148(+)   \n",
       "56472         MT-ND6 ENST00000361681.2 25:14149-14673(-)   \n",
       "56473         MT-CYB ENST00000361789.2 25:14747-15887(+)   \n",
       "\n",
       "                                                Sequence   Accession_number  \n",
       "0      atgaagaaggtaactgcagaggctatttcctggaatgaatcaacga...  ENST00000641515.2  \n",
       "1      atggtgactgaattcatttttctgggtctctctgattctcaggaac...                NaN  \n",
       "2      atggatggagagaatcactcagtggtatctgagtttttgtttctgg...                NaN  \n",
       "3      atggatggagagaatcactcagtggtatctgagtttttgtttctgg...                NaN  \n",
       "4      atgtccaaggggatcctgcaggtgcatcctccgatctgcgactgcc...  ENST00000342066.7  \n",
       "...                                                  ...                ...  \n",
       "56469  atgcccctcatttacataaatattatactagcatttaccatctcac...                NaN  \n",
       "56470  atgctaaaactaatcgtcccaacaattatattactaccactgacat...  ENST00000361381.2  \n",
       "56471  ataaccatgcacactactataaccaccctaaccctgacttccctaa...  ENST00000361567.2  \n",
       "56472  atgatgtatgctttgtttctgttgagtgtgggtttagtaatggggt...                NaN  \n",
       "56473  atgaccccaatacgcaaaactaaccccctaataaaattaattaacc...  ENST00000361789.2  \n",
       "\n",
       "[56474 rows x 3 columns]"
      ]
     },
     "execution_count": 18,
     "metadata": {},
     "output_type": "execute_result"
    }
   ],
   "source": [
    "sequencepd"
   ]
  },
  {
   "cell_type": "code",
   "execution_count": 19,
   "id": "5eac7808",
   "metadata": {},
   "outputs": [
    {
     "name": "stderr",
     "output_type": "stream",
     "text": [
      "C:\\Users\\harsh\\AppData\\Local\\Temp\\ipykernel_4232\\297800821.py:1: FutureWarning: The default value of regex will change from True to False in a future version.\n",
      "  sequencepd['Sequence'] = sequencepd['Sequence'].str.replace(' |\\n', '')\n"
     ]
    }
   ],
   "source": [
    "sequencepd['Sequence'] = sequencepd['Sequence'].str.replace(' |\\n', '')"
   ]
  },
  {
   "cell_type": "code",
   "execution_count": 20,
   "id": "7ea0e3a7",
   "metadata": {},
   "outputs": [],
   "source": [
    "#sequencepd.to_csv(r'C:\\Users\\harsh\\Downloads\\Dissertation\\full.csv',index=False)"
   ]
  },
  {
   "cell_type": "code",
   "execution_count": 21,
   "id": "3ef27173",
   "metadata": {},
   "outputs": [
    {
     "data": {
      "text/plain": [
       "1301"
      ]
     },
     "execution_count": 21,
     "metadata": {},
     "output_type": "execute_result"
    }
   ],
   "source": [
    "sequencepd['Accession_number'].isnull().sum()"
   ]
  },
  {
   "cell_type": "code",
   "execution_count": 22,
   "id": "49c0ea9f",
   "metadata": {},
   "outputs": [
    {
     "data": {
      "text/html": [
       "<div>\n",
       "<style scoped>\n",
       "    .dataframe tbody tr th:only-of-type {\n",
       "        vertical-align: middle;\n",
       "    }\n",
       "\n",
       "    .dataframe tbody tr th {\n",
       "        vertical-align: top;\n",
       "    }\n",
       "\n",
       "    .dataframe thead th {\n",
       "        text-align: right;\n",
       "    }\n",
       "</style>\n",
       "<table border=\"1\" class=\"dataframe\">\n",
       "  <thead>\n",
       "    <tr style=\"text-align: right;\">\n",
       "      <th></th>\n",
       "      <th>Description</th>\n",
       "      <th>Sequence</th>\n",
       "      <th>Accession_number</th>\n",
       "    </tr>\n",
       "  </thead>\n",
       "  <tbody>\n",
       "    <tr>\n",
       "      <th>0</th>\n",
       "      <td>OR4F5_ENST00000641515 ENST00000641515.2 1:6541...</td>\n",
       "      <td>atgaagaaggtaactgcagaggctatttcctggaatgaatcaacga...</td>\n",
       "      <td>ENST00000641515.2</td>\n",
       "    </tr>\n",
       "  </tbody>\n",
       "</table>\n",
       "</div>"
      ],
      "text/plain": [
       "                                         Description  \\\n",
       "0  OR4F5_ENST00000641515 ENST00000641515.2 1:6541...   \n",
       "\n",
       "                                            Sequence   Accession_number  \n",
       "0  atgaagaaggtaactgcagaggctatttcctggaatgaatcaacga...  ENST00000641515.2  "
      ]
     },
     "execution_count": 22,
     "metadata": {},
     "output_type": "execute_result"
    }
   ],
   "source": [
    "sequencepd.loc[sequencepd['Accession_number']=='ENST00000641515.2']"
   ]
  },
  {
   "cell_type": "code",
   "execution_count": 23,
   "id": "c8e4b92a",
   "metadata": {},
   "outputs": [
    {
     "data": {
      "text/html": [
       "<div>\n",
       "<style scoped>\n",
       "    .dataframe tbody tr th:only-of-type {\n",
       "        vertical-align: middle;\n",
       "    }\n",
       "\n",
       "    .dataframe tbody tr th {\n",
       "        vertical-align: top;\n",
       "    }\n",
       "\n",
       "    .dataframe thead th {\n",
       "        text-align: right;\n",
       "    }\n",
       "</style>\n",
       "<table border=\"1\" class=\"dataframe\">\n",
       "  <thead>\n",
       "    <tr style=\"text-align: right;\">\n",
       "      <th></th>\n",
       "      <th>GENE_NAME</th>\n",
       "      <th>ACCESSION_NUMBER</th>\n",
       "      <th>GENE_CDS_LENGTH</th>\n",
       "      <th>HGNC_ID</th>\n",
       "      <th>SAMPLE_NAME</th>\n",
       "      <th>ID_SAMPLE</th>\n",
       "      <th>ID_TUMOUR</th>\n",
       "      <th>PRIMARY_SITE</th>\n",
       "      <th>SITE_SUBTYPE_1</th>\n",
       "      <th>SITE_SUBTYPE_2</th>\n",
       "      <th>...</th>\n",
       "      <th>FATHMM_SCORE</th>\n",
       "      <th>MUTATION_SOMATIC_STATUS</th>\n",
       "      <th>PUBMED_PMID</th>\n",
       "      <th>ID_STUDY</th>\n",
       "      <th>SAMPLE_TYPE</th>\n",
       "      <th>TUMOUR_ORIGIN</th>\n",
       "      <th>AGE</th>\n",
       "      <th>HGVSP</th>\n",
       "      <th>HGVSC</th>\n",
       "      <th>HGVSG</th>\n",
       "    </tr>\n",
       "  </thead>\n",
       "  <tbody>\n",
       "    <tr>\n",
       "      <th>1385158</th>\n",
       "      <td>OR4F5_ENST00000641515</td>\n",
       "      <td>ENST00000641515.2</td>\n",
       "      <td>981</td>\n",
       "      <td>14825.0</td>\n",
       "      <td>CPCG0346-F1</td>\n",
       "      <td>2340648</td>\n",
       "      <td>2205631</td>\n",
       "      <td>prostate</td>\n",
       "      <td>NS</td>\n",
       "      <td>NS</td>\n",
       "      <td>...</td>\n",
       "      <td>NaN</td>\n",
       "      <td>Confirmed somatic variant</td>\n",
       "      <td>NaN</td>\n",
       "      <td>537.0</td>\n",
       "      <td>NS</td>\n",
       "      <td>primary</td>\n",
       "      <td>NaN</td>\n",
       "      <td>NaN</td>\n",
       "      <td>ENST00000641515.2:c.9+601_9+602del</td>\n",
       "      <td>1:g.66174_66175del</td>\n",
       "    </tr>\n",
       "    <tr>\n",
       "      <th>1385477</th>\n",
       "      <td>OR4F5_ENST00000641515</td>\n",
       "      <td>ENST00000641515.2</td>\n",
       "      <td>981</td>\n",
       "      <td>14825.0</td>\n",
       "      <td>CPCG0103-F1</td>\n",
       "      <td>2121422</td>\n",
       "      <td>1995658</td>\n",
       "      <td>prostate</td>\n",
       "      <td>NS</td>\n",
       "      <td>NS</td>\n",
       "      <td>...</td>\n",
       "      <td>NaN</td>\n",
       "      <td>Confirmed somatic variant</td>\n",
       "      <td>NaN</td>\n",
       "      <td>537.0</td>\n",
       "      <td>NS</td>\n",
       "      <td>NS</td>\n",
       "      <td>NaN</td>\n",
       "      <td>NaN</td>\n",
       "      <td>ENST00000641515.2:c.9+793_9+805delinsTATATTTT</td>\n",
       "      <td>1:g.66366_66378delinsTATATTTT</td>\n",
       "    </tr>\n",
       "    <tr>\n",
       "      <th>1386981</th>\n",
       "      <td>OR4F5_ENST00000641515</td>\n",
       "      <td>ENST00000641515.2</td>\n",
       "      <td>981</td>\n",
       "      <td>14825.0</td>\n",
       "      <td>0026_CRUK_PC_0026_T1_DNA</td>\n",
       "      <td>2457564</td>\n",
       "      <td>2320401</td>\n",
       "      <td>prostate</td>\n",
       "      <td>NS</td>\n",
       "      <td>NS</td>\n",
       "      <td>...</td>\n",
       "      <td>NaN</td>\n",
       "      <td>Confirmed somatic variant</td>\n",
       "      <td>NaN</td>\n",
       "      <td>538.0</td>\n",
       "      <td>NS</td>\n",
       "      <td>primary</td>\n",
       "      <td>65.0</td>\n",
       "      <td>NaN</td>\n",
       "      <td>ENST00000641515.2:c.9+1005_9+1006insTATATTATAT...</td>\n",
       "      <td>1:g.66578_66579insTATATTATATAAATATATT</td>\n",
       "    </tr>\n",
       "    <tr>\n",
       "      <th>1419329</th>\n",
       "      <td>OR4F5_ENST00000641515</td>\n",
       "      <td>ENST00000641515.2</td>\n",
       "      <td>981</td>\n",
       "      <td>14825.0</td>\n",
       "      <td>0031_CRUK_PC_0031_T1_DNA</td>\n",
       "      <td>2457557</td>\n",
       "      <td>2320394</td>\n",
       "      <td>prostate</td>\n",
       "      <td>NS</td>\n",
       "      <td>NS</td>\n",
       "      <td>...</td>\n",
       "      <td>NaN</td>\n",
       "      <td>Confirmed somatic variant</td>\n",
       "      <td>NaN</td>\n",
       "      <td>538.0</td>\n",
       "      <td>NS</td>\n",
       "      <td>primary</td>\n",
       "      <td>66.0</td>\n",
       "      <td>NaN</td>\n",
       "      <td>ENST00000641515.2:c.9+1005_9+1006insTATATTATAT...</td>\n",
       "      <td>1:g.66578_66579insTATATTATATAAATATATT</td>\n",
       "    </tr>\n",
       "    <tr>\n",
       "      <th>1423713</th>\n",
       "      <td>OR4F5_ENST00000641515</td>\n",
       "      <td>ENST00000641515.2</td>\n",
       "      <td>981</td>\n",
       "      <td>14825.0</td>\n",
       "      <td>0194_CRUK_PC_0194_T1_DNA</td>\n",
       "      <td>2634997</td>\n",
       "      <td>2495393</td>\n",
       "      <td>prostate</td>\n",
       "      <td>NS</td>\n",
       "      <td>NS</td>\n",
       "      <td>...</td>\n",
       "      <td>NaN</td>\n",
       "      <td>Confirmed somatic variant</td>\n",
       "      <td>NaN</td>\n",
       "      <td>538.0</td>\n",
       "      <td>NS</td>\n",
       "      <td>primary</td>\n",
       "      <td>53.0</td>\n",
       "      <td>NaN</td>\n",
       "      <td>ENST00000641515.2:c.9+949_9+950insATATA</td>\n",
       "      <td>1:g.66522_66523insATATA</td>\n",
       "    </tr>\n",
       "    <tr>\n",
       "      <th>1477768</th>\n",
       "      <td>OR4F5_ENST00000641515</td>\n",
       "      <td>ENST00000641515.2</td>\n",
       "      <td>981</td>\n",
       "      <td>14825.0</td>\n",
       "      <td>0237_CRUK_PC_0237_T1_DNA</td>\n",
       "      <td>2635061</td>\n",
       "      <td>2495457</td>\n",
       "      <td>prostate</td>\n",
       "      <td>NS</td>\n",
       "      <td>NS</td>\n",
       "      <td>...</td>\n",
       "      <td>NaN</td>\n",
       "      <td>Confirmed somatic variant</td>\n",
       "      <td>NaN</td>\n",
       "      <td>538.0</td>\n",
       "      <td>NS</td>\n",
       "      <td>primary</td>\n",
       "      <td>57.0</td>\n",
       "      <td>NaN</td>\n",
       "      <td>ENST00000641515.2:c.9+949_9+950insATATA</td>\n",
       "      <td>1:g.66522_66523insATATA</td>\n",
       "    </tr>\n",
       "    <tr>\n",
       "      <th>1503111</th>\n",
       "      <td>OR4F5_ENST00000641515</td>\n",
       "      <td>ENST00000641515.2</td>\n",
       "      <td>981</td>\n",
       "      <td>14825.0</td>\n",
       "      <td>CPCG0182-F1</td>\n",
       "      <td>2340853</td>\n",
       "      <td>2205836</td>\n",
       "      <td>prostate</td>\n",
       "      <td>NS</td>\n",
       "      <td>NS</td>\n",
       "      <td>...</td>\n",
       "      <td>NaN</td>\n",
       "      <td>Confirmed somatic variant</td>\n",
       "      <td>NaN</td>\n",
       "      <td>537.0</td>\n",
       "      <td>NS</td>\n",
       "      <td>primary</td>\n",
       "      <td>NaN</td>\n",
       "      <td>NaN</td>\n",
       "      <td>ENST00000641515.2:c.9+1009_9+1010insTATATAAATA...</td>\n",
       "      <td>1:g.66582_66583insTATATAAATATATTTATAT</td>\n",
       "    </tr>\n",
       "    <tr>\n",
       "      <th>1519068</th>\n",
       "      <td>OR4F5_ENST00000641515</td>\n",
       "      <td>ENST00000641515.2</td>\n",
       "      <td>981</td>\n",
       "      <td>14825.0</td>\n",
       "      <td>0048_CRUK_PC_0048_T1_DNA</td>\n",
       "      <td>2457581</td>\n",
       "      <td>2320418</td>\n",
       "      <td>prostate</td>\n",
       "      <td>NS</td>\n",
       "      <td>NS</td>\n",
       "      <td>...</td>\n",
       "      <td>NaN</td>\n",
       "      <td>Confirmed somatic variant</td>\n",
       "      <td>NaN</td>\n",
       "      <td>538.0</td>\n",
       "      <td>NS</td>\n",
       "      <td>primary</td>\n",
       "      <td>58.0</td>\n",
       "      <td>NaN</td>\n",
       "      <td>ENST00000641515.2:c.9+949_9+950insATATA</td>\n",
       "      <td>1:g.66522_66523insATATA</td>\n",
       "    </tr>\n",
       "    <tr>\n",
       "      <th>1545746</th>\n",
       "      <td>OR4F5_ENST00000641515</td>\n",
       "      <td>ENST00000641515.2</td>\n",
       "      <td>981</td>\n",
       "      <td>14825.0</td>\n",
       "      <td>CPCG_0183_Pr_P_F0</td>\n",
       "      <td>2121447</td>\n",
       "      <td>1995683</td>\n",
       "      <td>prostate</td>\n",
       "      <td>NS</td>\n",
       "      <td>NS</td>\n",
       "      <td>...</td>\n",
       "      <td>0.00508</td>\n",
       "      <td>Confirmed somatic variant</td>\n",
       "      <td>NaN</td>\n",
       "      <td>537.0</td>\n",
       "      <td>NS</td>\n",
       "      <td>NS</td>\n",
       "      <td>NaN</td>\n",
       "      <td>NaN</td>\n",
       "      <td>ENST00000641515.2:c.9+800A&gt;T</td>\n",
       "      <td>1:g.66373A&gt;T</td>\n",
       "    </tr>\n",
       "    <tr>\n",
       "      <th>1578037</th>\n",
       "      <td>OR4F5_ENST00000641515</td>\n",
       "      <td>ENST00000641515.2</td>\n",
       "      <td>981</td>\n",
       "      <td>14825.0</td>\n",
       "      <td>0195_CRUK_PC_0195_T1_DNA</td>\n",
       "      <td>2634998</td>\n",
       "      <td>2495394</td>\n",
       "      <td>prostate</td>\n",
       "      <td>NS</td>\n",
       "      <td>NS</td>\n",
       "      <td>...</td>\n",
       "      <td>NaN</td>\n",
       "      <td>Confirmed somatic variant</td>\n",
       "      <td>NaN</td>\n",
       "      <td>538.0</td>\n",
       "      <td>NS</td>\n",
       "      <td>primary</td>\n",
       "      <td>55.0</td>\n",
       "      <td>NaN</td>\n",
       "      <td>ENST00000641515.2:c.9+949_9+950insATATA</td>\n",
       "      <td>1:g.66522_66523insATATA</td>\n",
       "    </tr>\n",
       "  </tbody>\n",
       "</table>\n",
       "<p>10 rows × 39 columns</p>\n",
       "</div>"
      ],
      "text/plain": [
       "                     GENE_NAME   ACCESSION_NUMBER   GENE_CDS_LENGTH   HGNC_ID  \\\n",
       "1385158  OR4F5_ENST00000641515  ENST00000641515.2               981   14825.0   \n",
       "1385477  OR4F5_ENST00000641515  ENST00000641515.2               981   14825.0   \n",
       "1386981  OR4F5_ENST00000641515  ENST00000641515.2               981   14825.0   \n",
       "1419329  OR4F5_ENST00000641515  ENST00000641515.2               981   14825.0   \n",
       "1423713  OR4F5_ENST00000641515  ENST00000641515.2               981   14825.0   \n",
       "1477768  OR4F5_ENST00000641515  ENST00000641515.2               981   14825.0   \n",
       "1503111  OR4F5_ENST00000641515  ENST00000641515.2               981   14825.0   \n",
       "1519068  OR4F5_ENST00000641515  ENST00000641515.2               981   14825.0   \n",
       "1545746  OR4F5_ENST00000641515  ENST00000641515.2               981   14825.0   \n",
       "1578037  OR4F5_ENST00000641515  ENST00000641515.2               981   14825.0   \n",
       "\n",
       "                      SAMPLE_NAME   ID_SAMPLE   ID_TUMOUR  PRIMARY_SITE  \\\n",
       "1385158               CPCG0346-F1     2340648     2205631      prostate   \n",
       "1385477               CPCG0103-F1     2121422     1995658      prostate   \n",
       "1386981  0026_CRUK_PC_0026_T1_DNA     2457564     2320401      prostate   \n",
       "1419329  0031_CRUK_PC_0031_T1_DNA     2457557     2320394      prostate   \n",
       "1423713  0194_CRUK_PC_0194_T1_DNA     2634997     2495393      prostate   \n",
       "1477768  0237_CRUK_PC_0237_T1_DNA     2635061     2495457      prostate   \n",
       "1503111               CPCG0182-F1     2340853     2205836      prostate   \n",
       "1519068  0048_CRUK_PC_0048_T1_DNA     2457581     2320418      prostate   \n",
       "1545746         CPCG_0183_Pr_P_F0     2121447     1995683      prostate   \n",
       "1578037  0195_CRUK_PC_0195_T1_DNA     2634998     2495394      prostate   \n",
       "\n",
       "         SITE_SUBTYPE_1  SITE_SUBTYPE_2  ...  FATHMM_SCORE  \\\n",
       "1385158              NS              NS  ...           NaN   \n",
       "1385477              NS              NS  ...           NaN   \n",
       "1386981              NS              NS  ...           NaN   \n",
       "1419329              NS              NS  ...           NaN   \n",
       "1423713              NS              NS  ...           NaN   \n",
       "1477768              NS              NS  ...           NaN   \n",
       "1503111              NS              NS  ...           NaN   \n",
       "1519068              NS              NS  ...           NaN   \n",
       "1545746              NS              NS  ...       0.00508   \n",
       "1578037              NS              NS  ...           NaN   \n",
       "\n",
       "           MUTATION_SOMATIC_STATUS  PUBMED_PMID  ID_STUDY  SAMPLE_TYPE  \\\n",
       "1385158  Confirmed somatic variant          NaN     537.0           NS   \n",
       "1385477  Confirmed somatic variant          NaN     537.0           NS   \n",
       "1386981  Confirmed somatic variant          NaN     538.0           NS   \n",
       "1419329  Confirmed somatic variant          NaN     538.0           NS   \n",
       "1423713  Confirmed somatic variant          NaN     538.0           NS   \n",
       "1477768  Confirmed somatic variant          NaN     538.0           NS   \n",
       "1503111  Confirmed somatic variant          NaN     537.0           NS   \n",
       "1519068  Confirmed somatic variant          NaN     538.0           NS   \n",
       "1545746  Confirmed somatic variant          NaN     537.0           NS   \n",
       "1578037  Confirmed somatic variant          NaN     538.0           NS   \n",
       "\n",
       "         TUMOUR_ORIGIN   AGE  HGVSP  \\\n",
       "1385158        primary   NaN    NaN   \n",
       "1385477             NS   NaN    NaN   \n",
       "1386981        primary  65.0    NaN   \n",
       "1419329        primary  66.0    NaN   \n",
       "1423713        primary  53.0    NaN   \n",
       "1477768        primary  57.0    NaN   \n",
       "1503111        primary   NaN    NaN   \n",
       "1519068        primary  58.0    NaN   \n",
       "1545746             NS   NaN    NaN   \n",
       "1578037        primary  55.0    NaN   \n",
       "\n",
       "                                                     HGVSC  \\\n",
       "1385158                 ENST00000641515.2:c.9+601_9+602del   \n",
       "1385477      ENST00000641515.2:c.9+793_9+805delinsTATATTTT   \n",
       "1386981  ENST00000641515.2:c.9+1005_9+1006insTATATTATAT...   \n",
       "1419329  ENST00000641515.2:c.9+1005_9+1006insTATATTATAT...   \n",
       "1423713            ENST00000641515.2:c.9+949_9+950insATATA   \n",
       "1477768            ENST00000641515.2:c.9+949_9+950insATATA   \n",
       "1503111  ENST00000641515.2:c.9+1009_9+1010insTATATAAATA...   \n",
       "1519068            ENST00000641515.2:c.9+949_9+950insATATA   \n",
       "1545746                       ENST00000641515.2:c.9+800A>T   \n",
       "1578037            ENST00000641515.2:c.9+949_9+950insATATA   \n",
       "\n",
       "                                         HGVSG  \n",
       "1385158                     1:g.66174_66175del  \n",
       "1385477          1:g.66366_66378delinsTATATTTT  \n",
       "1386981  1:g.66578_66579insTATATTATATAAATATATT  \n",
       "1419329  1:g.66578_66579insTATATTATATAAATATATT  \n",
       "1423713                1:g.66522_66523insATATA  \n",
       "1477768                1:g.66522_66523insATATA  \n",
       "1503111  1:g.66582_66583insTATATAAATATATTTATAT  \n",
       "1519068                1:g.66522_66523insATATA  \n",
       "1545746                           1:g.66373A>T  \n",
       "1578037                1:g.66522_66523insATATA  \n",
       "\n",
       "[10 rows x 39 columns]"
      ]
     },
     "execution_count": 23,
     "metadata": {},
     "output_type": "execute_result"
    }
   ],
   "source": [
    "metadata.loc[metadata[' ACCESSION_NUMBER']=='ENST00000641515.2']"
   ]
  },
  {
   "cell_type": "code",
   "execution_count": 24,
   "id": "c2d6b067",
   "metadata": {},
   "outputs": [
    {
     "data": {
      "text/html": [
       "<div>\n",
       "<style scoped>\n",
       "    .dataframe tbody tr th:only-of-type {\n",
       "        vertical-align: middle;\n",
       "    }\n",
       "\n",
       "    .dataframe tbody tr th {\n",
       "        vertical-align: top;\n",
       "    }\n",
       "\n",
       "    .dataframe thead th {\n",
       "        text-align: right;\n",
       "    }\n",
       "</style>\n",
       "<table border=\"1\" class=\"dataframe\">\n",
       "  <thead>\n",
       "    <tr style=\"text-align: right;\">\n",
       "      <th></th>\n",
       "      <th>GENE_NAME</th>\n",
       "      <th>ACCESSION_NUMBER</th>\n",
       "      <th>GENE_CDS_LENGTH</th>\n",
       "      <th>HGNC_ID</th>\n",
       "      <th>SAMPLE_NAME</th>\n",
       "      <th>ID_SAMPLE</th>\n",
       "      <th>ID_TUMOUR</th>\n",
       "      <th>PRIMARY_SITE</th>\n",
       "      <th>SITE_SUBTYPE_1</th>\n",
       "      <th>SITE_SUBTYPE_2</th>\n",
       "      <th>...</th>\n",
       "      <th>PUBMED_PMID</th>\n",
       "      <th>ID_STUDY</th>\n",
       "      <th>SAMPLE_TYPE</th>\n",
       "      <th>TUMOUR_ORIGIN</th>\n",
       "      <th>AGE</th>\n",
       "      <th>HGVSP</th>\n",
       "      <th>HGVSC</th>\n",
       "      <th>HGVSG</th>\n",
       "      <th>Description</th>\n",
       "      <th>Sequence</th>\n",
       "    </tr>\n",
       "  </thead>\n",
       "  <tbody>\n",
       "    <tr>\n",
       "      <th>0</th>\n",
       "      <td>MFN2_ENST00000444836</td>\n",
       "      <td>ENST00000444836.5</td>\n",
       "      <td>2274</td>\n",
       "      <td>16877.0</td>\n",
       "      <td>P01-28</td>\n",
       "      <td>1691446</td>\n",
       "      <td>1599713</td>\n",
       "      <td>prostate</td>\n",
       "      <td>NS</td>\n",
       "      <td>NS</td>\n",
       "      <td>...</td>\n",
       "      <td>22610119.0</td>\n",
       "      <td>NaN</td>\n",
       "      <td>surgery fresh/frozen</td>\n",
       "      <td>primary</td>\n",
       "      <td>61.0</td>\n",
       "      <td>ENSP00000416338.1:p.Glu73=</td>\n",
       "      <td>ENST00000444836.5:c.219A&gt;G</td>\n",
       "      <td>1:g.11992598A&gt;G</td>\n",
       "      <td>MFN2_ENST00000444836 ENST00000444836.5 1:11980...</td>\n",
       "      <td>atgtccctgctcttctctcgatgcaactctatcgtcacagtcaaga...</td>\n",
       "    </tr>\n",
       "    <tr>\n",
       "      <th>1</th>\n",
       "      <td>MFN2_ENST00000444836</td>\n",
       "      <td>ENST00000444836.5</td>\n",
       "      <td>2274</td>\n",
       "      <td>16877.0</td>\n",
       "      <td>TCGA-HC-A6AN-01</td>\n",
       "      <td>2262845</td>\n",
       "      <td>2129829</td>\n",
       "      <td>prostate</td>\n",
       "      <td>NS</td>\n",
       "      <td>NS</td>\n",
       "      <td>...</td>\n",
       "      <td>NaN</td>\n",
       "      <td>435.0</td>\n",
       "      <td>NS</td>\n",
       "      <td>primary</td>\n",
       "      <td>67.0</td>\n",
       "      <td>ENSP00000416338.1:p.Glu90=</td>\n",
       "      <td>ENST00000444836.5:c.270G&gt;A</td>\n",
       "      <td>1:g.11992649G&gt;A</td>\n",
       "      <td>MFN2_ENST00000444836 ENST00000444836.5 1:11980...</td>\n",
       "      <td>atgtccctgctcttctctcgatgcaactctatcgtcacagtcaaga...</td>\n",
       "    </tr>\n",
       "    <tr>\n",
       "      <th>2</th>\n",
       "      <td>SELP_ENST00000458599</td>\n",
       "      <td>ENST00000458599.6</td>\n",
       "      <td>1941</td>\n",
       "      <td>10721.0</td>\n",
       "      <td>PR-1701</td>\n",
       "      <td>1669605</td>\n",
       "      <td>1582897</td>\n",
       "      <td>prostate</td>\n",
       "      <td>NS</td>\n",
       "      <td>NS</td>\n",
       "      <td>...</td>\n",
       "      <td>21307934.0</td>\n",
       "      <td>NaN</td>\n",
       "      <td>fresh/frozen - NOS</td>\n",
       "      <td>primary</td>\n",
       "      <td>62.0</td>\n",
       "      <td>NaN</td>\n",
       "      <td>ENST00000458599.6:c.1886+210T&gt;G</td>\n",
       "      <td>1:g.169591216A&gt;C</td>\n",
       "      <td>SELP_ENST00000458599 ENST00000458599.6 1:16959...</td>\n",
       "      <td>atggccaactgccaaatagccatcttgtaccagagattccagagag...</td>\n",
       "    </tr>\n",
       "    <tr>\n",
       "      <th>3</th>\n",
       "      <td>CDH6</td>\n",
       "      <td>ENST00000265071.2</td>\n",
       "      <td>2373</td>\n",
       "      <td>1765.0</td>\n",
       "      <td>PR-09-3566</td>\n",
       "      <td>1691530</td>\n",
       "      <td>1599797</td>\n",
       "      <td>prostate</td>\n",
       "      <td>NS</td>\n",
       "      <td>NS</td>\n",
       "      <td>...</td>\n",
       "      <td>22610119.0</td>\n",
       "      <td>NaN</td>\n",
       "      <td>surgery fresh/frozen</td>\n",
       "      <td>primary</td>\n",
       "      <td>65.0</td>\n",
       "      <td>ENSP00000265071.2:p.Trp57Arg</td>\n",
       "      <td>ENST00000265071.2:c.169T&gt;A</td>\n",
       "      <td>5:g.31267642T&gt;A</td>\n",
       "      <td>CDH6 ENST00000265071.2 5:31193750-31329146(+)</td>\n",
       "      <td>atgagaacttaccgctacttcttgctgctcttttgggtgggccagc...</td>\n",
       "    </tr>\n",
       "    <tr>\n",
       "      <th>4</th>\n",
       "      <td>NCOR2_ENST00000404621</td>\n",
       "      <td>ENST00000404621.5</td>\n",
       "      <td>7377</td>\n",
       "      <td>7673.0</td>\n",
       "      <td>PR-02-2072</td>\n",
       "      <td>1691505</td>\n",
       "      <td>1599772</td>\n",
       "      <td>prostate</td>\n",
       "      <td>NS</td>\n",
       "      <td>NS</td>\n",
       "      <td>...</td>\n",
       "      <td>22610119.0</td>\n",
       "      <td>NaN</td>\n",
       "      <td>surgery fresh/frozen</td>\n",
       "      <td>primary</td>\n",
       "      <td>54.0</td>\n",
       "      <td>ENSP00000384202.1:p.Pro164=</td>\n",
       "      <td>ENST00000404621.5:c.492G&gt;A</td>\n",
       "      <td>12:g.124473051C&gt;T</td>\n",
       "      <td>NCOR2_ENST00000404621 ENST00000404621.5 12:124...</td>\n",
       "      <td>atgtcgggatccacacagcctgtggcacagacgtggagggccactg...</td>\n",
       "    </tr>\n",
       "    <tr>\n",
       "      <th>...</th>\n",
       "      <td>...</td>\n",
       "      <td>...</td>\n",
       "      <td>...</td>\n",
       "      <td>...</td>\n",
       "      <td>...</td>\n",
       "      <td>...</td>\n",
       "      <td>...</td>\n",
       "      <td>...</td>\n",
       "      <td>...</td>\n",
       "      <td>...</td>\n",
       "      <td>...</td>\n",
       "      <td>...</td>\n",
       "      <td>...</td>\n",
       "      <td>...</td>\n",
       "      <td>...</td>\n",
       "      <td>...</td>\n",
       "      <td>...</td>\n",
       "      <td>...</td>\n",
       "      <td>...</td>\n",
       "      <td>...</td>\n",
       "      <td>...</td>\n",
       "    </tr>\n",
       "    <tr>\n",
       "      <th>2788999</th>\n",
       "      <td>SERINC5_ENST00000509193</td>\n",
       "      <td>ENST00000509193.5</td>\n",
       "      <td>1263</td>\n",
       "      <td>18825.0</td>\n",
       "      <td>DA13003</td>\n",
       "      <td>2634953</td>\n",
       "      <td>2495349</td>\n",
       "      <td>prostate</td>\n",
       "      <td>NS</td>\n",
       "      <td>NS</td>\n",
       "      <td>...</td>\n",
       "      <td>NaN</td>\n",
       "      <td>675.0</td>\n",
       "      <td>NS</td>\n",
       "      <td>primary</td>\n",
       "      <td>67.0</td>\n",
       "      <td>NaN</td>\n",
       "      <td>ENST00000509193.5:c.1238+4989T&gt;C</td>\n",
       "      <td>5:g.80141101A&gt;G</td>\n",
       "      <td>SERINC5_ENST00000509193 ENST00000509193.5 5:80...</td>\n",
       "      <td>atgtcagctcagtgctgtgcgggccagctggcctgctgctgtgggt...</td>\n",
       "    </tr>\n",
       "    <tr>\n",
       "      <th>2789000</th>\n",
       "      <td>CHEK2_ENST00000402731</td>\n",
       "      <td>ENST00000402731.5</td>\n",
       "      <td>1545</td>\n",
       "      <td>16627.0</td>\n",
       "      <td>2860310</td>\n",
       "      <td>2860310</td>\n",
       "      <td>2715598</td>\n",
       "      <td>prostate</td>\n",
       "      <td>NS</td>\n",
       "      <td>NS</td>\n",
       "      <td>...</td>\n",
       "      <td>32300177.0</td>\n",
       "      <td>NaN</td>\n",
       "      <td>surgery-fixed</td>\n",
       "      <td>NS</td>\n",
       "      <td>61.0</td>\n",
       "      <td>ENSP00000384835.1:p.Ala363=</td>\n",
       "      <td>ENST00000402731.5:c.1089G&gt;T</td>\n",
       "      <td>22:g.28695793C&gt;A</td>\n",
       "      <td>CHEK2_ENST00000402731 ENST00000402731.5 22:286...</td>\n",
       "      <td>atgtctcgggagtcggatgttgaggctcagcagtctcatggcagca...</td>\n",
       "    </tr>\n",
       "    <tr>\n",
       "      <th>2789001</th>\n",
       "      <td>CAMK2D_ENST00000394524</td>\n",
       "      <td>ENST00000394524.7</td>\n",
       "      <td>1437</td>\n",
       "      <td>1462.0</td>\n",
       "      <td>EOPC-174_tumor_01</td>\n",
       "      <td>2633755</td>\n",
       "      <td>2494151</td>\n",
       "      <td>prostate</td>\n",
       "      <td>NS</td>\n",
       "      <td>NS</td>\n",
       "      <td>...</td>\n",
       "      <td>NaN</td>\n",
       "      <td>534.0</td>\n",
       "      <td>NS</td>\n",
       "      <td>primary</td>\n",
       "      <td>52.0</td>\n",
       "      <td>NaN</td>\n",
       "      <td>ENST00000394524.7:c.161-38748G&gt;A</td>\n",
       "      <td>4:g.113700520C&gt;T</td>\n",
       "      <td>CAMK2D_ENST00000394524 ENST00000394524.7 4:113...</td>\n",
       "      <td>atggcttcgaccacaacctgcaccaggttcacggacgagtatcagc...</td>\n",
       "    </tr>\n",
       "    <tr>\n",
       "      <th>2789002</th>\n",
       "      <td>PCDH15_ENST00000395440</td>\n",
       "      <td>ENST00000395440.5</td>\n",
       "      <td>2160</td>\n",
       "      <td>14674.0</td>\n",
       "      <td>EOPC-174_tumor_01</td>\n",
       "      <td>2633755</td>\n",
       "      <td>2494151</td>\n",
       "      <td>prostate</td>\n",
       "      <td>NS</td>\n",
       "      <td>NS</td>\n",
       "      <td>...</td>\n",
       "      <td>NaN</td>\n",
       "      <td>534.0</td>\n",
       "      <td>NS</td>\n",
       "      <td>primary</td>\n",
       "      <td>52.0</td>\n",
       "      <td>NaN</td>\n",
       "      <td>ENST00000395440.5:c.91+58200G&gt;A</td>\n",
       "      <td>10:g.54605972C&gt;T</td>\n",
       "      <td>PCDH15_ENST00000395440 ENST00000395440.5 10:53...</td>\n",
       "      <td>atgtttcgacagttttatctctggacatgtttagcttcagggatca...</td>\n",
       "    </tr>\n",
       "    <tr>\n",
       "      <th>2789003</th>\n",
       "      <td>PTPRD_ENST00000537002</td>\n",
       "      <td>ENST00000537002.5</td>\n",
       "      <td>4491</td>\n",
       "      <td>9668.0</td>\n",
       "      <td>EOPC-016_tumor_01</td>\n",
       "      <td>2633795</td>\n",
       "      <td>2494191</td>\n",
       "      <td>prostate</td>\n",
       "      <td>NS</td>\n",
       "      <td>NS</td>\n",
       "      <td>...</td>\n",
       "      <td>NaN</td>\n",
       "      <td>534.0</td>\n",
       "      <td>NS</td>\n",
       "      <td>primary</td>\n",
       "      <td>44.0</td>\n",
       "      <td>NaN</td>\n",
       "      <td>ENST00000537002.5:c.211-976C&gt;A</td>\n",
       "      <td>9:g.8634434G&gt;T</td>\n",
       "      <td>PTPRD_ENST00000537002 ENST00000537002.5 9:8314...</td>\n",
       "      <td>atggtgcacgtagccaggctgctgctgctgctcctcactttcttcc...</td>\n",
       "    </tr>\n",
       "  </tbody>\n",
       "</table>\n",
       "<p>2789004 rows × 41 columns</p>\n",
       "</div>"
      ],
      "text/plain": [
       "                       GENE_NAME   ACCESSION_NUMBER   GENE_CDS_LENGTH  \\\n",
       "0           MFN2_ENST00000444836  ENST00000444836.5              2274   \n",
       "1           MFN2_ENST00000444836  ENST00000444836.5              2274   \n",
       "2           SELP_ENST00000458599  ENST00000458599.6              1941   \n",
       "3                           CDH6  ENST00000265071.2              2373   \n",
       "4          NCOR2_ENST00000404621  ENST00000404621.5              7377   \n",
       "...                          ...                ...               ...   \n",
       "2788999  SERINC5_ENST00000509193  ENST00000509193.5              1263   \n",
       "2789000    CHEK2_ENST00000402731  ENST00000402731.5              1545   \n",
       "2789001   CAMK2D_ENST00000394524  ENST00000394524.7              1437   \n",
       "2789002   PCDH15_ENST00000395440  ENST00000395440.5              2160   \n",
       "2789003    PTPRD_ENST00000537002  ENST00000537002.5              4491   \n",
       "\n",
       "          HGNC_ID        SAMPLE_NAME   ID_SAMPLE   ID_TUMOUR  PRIMARY_SITE  \\\n",
       "0         16877.0             P01-28     1691446     1599713      prostate   \n",
       "1         16877.0    TCGA-HC-A6AN-01     2262845     2129829      prostate   \n",
       "2         10721.0            PR-1701     1669605     1582897      prostate   \n",
       "3          1765.0         PR-09-3566     1691530     1599797      prostate   \n",
       "4          7673.0         PR-02-2072     1691505     1599772      prostate   \n",
       "...           ...                ...         ...         ...           ...   \n",
       "2788999   18825.0            DA13003     2634953     2495349      prostate   \n",
       "2789000   16627.0            2860310     2860310     2715598      prostate   \n",
       "2789001    1462.0  EOPC-174_tumor_01     2633755     2494151      prostate   \n",
       "2789002   14674.0  EOPC-174_tumor_01     2633755     2494151      prostate   \n",
       "2789003    9668.0  EOPC-016_tumor_01     2633795     2494191      prostate   \n",
       "\n",
       "         SITE_SUBTYPE_1  SITE_SUBTYPE_2  ...  PUBMED_PMID  ID_STUDY  \\\n",
       "0                    NS              NS  ...   22610119.0       NaN   \n",
       "1                    NS              NS  ...          NaN     435.0   \n",
       "2                    NS              NS  ...   21307934.0       NaN   \n",
       "3                    NS              NS  ...   22610119.0       NaN   \n",
       "4                    NS              NS  ...   22610119.0       NaN   \n",
       "...                 ...             ...  ...          ...       ...   \n",
       "2788999              NS              NS  ...          NaN     675.0   \n",
       "2789000              NS              NS  ...   32300177.0       NaN   \n",
       "2789001              NS              NS  ...          NaN     534.0   \n",
       "2789002              NS              NS  ...          NaN     534.0   \n",
       "2789003              NS              NS  ...          NaN     534.0   \n",
       "\n",
       "                  SAMPLE_TYPE  TUMOUR_ORIGIN   AGE  \\\n",
       "0        surgery fresh/frozen        primary  61.0   \n",
       "1                          NS        primary  67.0   \n",
       "2          fresh/frozen - NOS        primary  62.0   \n",
       "3        surgery fresh/frozen        primary  65.0   \n",
       "4        surgery fresh/frozen        primary  54.0   \n",
       "...                       ...            ...   ...   \n",
       "2788999                    NS        primary  67.0   \n",
       "2789000         surgery-fixed             NS  61.0   \n",
       "2789001                    NS        primary  52.0   \n",
       "2789002                    NS        primary  52.0   \n",
       "2789003                    NS        primary  44.0   \n",
       "\n",
       "                                HGVSP                             HGVSC  \\\n",
       "0          ENSP00000416338.1:p.Glu73=        ENST00000444836.5:c.219A>G   \n",
       "1          ENSP00000416338.1:p.Glu90=        ENST00000444836.5:c.270G>A   \n",
       "2                                 NaN   ENST00000458599.6:c.1886+210T>G   \n",
       "3        ENSP00000265071.2:p.Trp57Arg        ENST00000265071.2:c.169T>A   \n",
       "4         ENSP00000384202.1:p.Pro164=        ENST00000404621.5:c.492G>A   \n",
       "...                               ...                               ...   \n",
       "2788999                           NaN  ENST00000509193.5:c.1238+4989T>C   \n",
       "2789000   ENSP00000384835.1:p.Ala363=       ENST00000402731.5:c.1089G>T   \n",
       "2789001                           NaN  ENST00000394524.7:c.161-38748G>A   \n",
       "2789002                           NaN   ENST00000395440.5:c.91+58200G>A   \n",
       "2789003                           NaN    ENST00000537002.5:c.211-976C>A   \n",
       "\n",
       "                     HGVSG                                        Description  \\\n",
       "0          1:g.11992598A>G  MFN2_ENST00000444836 ENST00000444836.5 1:11980...   \n",
       "1          1:g.11992649G>A  MFN2_ENST00000444836 ENST00000444836.5 1:11980...   \n",
       "2         1:g.169591216A>C  SELP_ENST00000458599 ENST00000458599.6 1:16959...   \n",
       "3          5:g.31267642T>A      CDH6 ENST00000265071.2 5:31193750-31329146(+)   \n",
       "4        12:g.124473051C>T  NCOR2_ENST00000404621 ENST00000404621.5 12:124...   \n",
       "...                    ...                                                ...   \n",
       "2788999    5:g.80141101A>G  SERINC5_ENST00000509193 ENST00000509193.5 5:80...   \n",
       "2789000   22:g.28695793C>A  CHEK2_ENST00000402731 ENST00000402731.5 22:286...   \n",
       "2789001   4:g.113700520C>T  CAMK2D_ENST00000394524 ENST00000394524.7 4:113...   \n",
       "2789002   10:g.54605972C>T  PCDH15_ENST00000395440 ENST00000395440.5 10:53...   \n",
       "2789003     9:g.8634434G>T  PTPRD_ENST00000537002 ENST00000537002.5 9:8314...   \n",
       "\n",
       "                                                  Sequence  \n",
       "0        atgtccctgctcttctctcgatgcaactctatcgtcacagtcaaga...  \n",
       "1        atgtccctgctcttctctcgatgcaactctatcgtcacagtcaaga...  \n",
       "2        atggccaactgccaaatagccatcttgtaccagagattccagagag...  \n",
       "3        atgagaacttaccgctacttcttgctgctcttttgggtgggccagc...  \n",
       "4        atgtcgggatccacacagcctgtggcacagacgtggagggccactg...  \n",
       "...                                                    ...  \n",
       "2788999  atgtcagctcagtgctgtgcgggccagctggcctgctgctgtgggt...  \n",
       "2789000  atgtctcgggagtcggatgttgaggctcagcagtctcatggcagca...  \n",
       "2789001  atggcttcgaccacaacctgcaccaggttcacggacgagtatcagc...  \n",
       "2789002  atgtttcgacagttttatctctggacatgtttagcttcagggatca...  \n",
       "2789003  atggtgcacgtagccaggctgctgctgctgctcctcactttcttcc...  \n",
       "\n",
       "[2789004 rows x 41 columns]"
      ]
     },
     "execution_count": 24,
     "metadata": {},
     "output_type": "execute_result"
    }
   ],
   "source": [
    "sequencepd.rename(columns={'Accession_number':' ACCESSION_NUMBER'}, inplace=True)\n",
    "df1 = metadata.merge(sequencepd, on=' ACCESSION_NUMBER', how='left')\n",
    "df1"
   ]
  },
  {
   "cell_type": "code",
   "execution_count": 25,
   "id": "18fcfc84",
   "metadata": {},
   "outputs": [
    {
     "data": {
      "text/plain": [
       "0"
      ]
     },
     "execution_count": 25,
     "metadata": {},
     "output_type": "execute_result"
    }
   ],
   "source": [
    "df1['Sequence'].isna().sum()"
   ]
  },
  {
   "cell_type": "code",
   "execution_count": 26,
   "id": "0dfa1257",
   "metadata": {},
   "outputs": [
    {
     "data": {
      "text/plain": [
       "55173"
      ]
     },
     "execution_count": 26,
     "metadata": {},
     "output_type": "execute_result"
    }
   ],
   "source": [
    "metadata[' ACCESSION_NUMBER'].nunique()"
   ]
  },
  {
   "cell_type": "code",
   "execution_count": 27,
   "id": "521a81a7",
   "metadata": {},
   "outputs": [],
   "source": [
    "# df1.to_csv(r'C:\\Users\\harsh\\Downloads\\Dissertation\\full.csv',index=False)"
   ]
  },
  {
   "cell_type": "code",
   "execution_count": 28,
   "id": "e2449d46",
   "metadata": {},
   "outputs": [
    {
     "data": {
      "text/html": [
       "<div>\n",
       "<style scoped>\n",
       "    .dataframe tbody tr th:only-of-type {\n",
       "        vertical-align: middle;\n",
       "    }\n",
       "\n",
       "    .dataframe tbody tr th {\n",
       "        vertical-align: top;\n",
       "    }\n",
       "\n",
       "    .dataframe thead th {\n",
       "        text-align: right;\n",
       "    }\n",
       "</style>\n",
       "<table border=\"1\" class=\"dataframe\">\n",
       "  <thead>\n",
       "    <tr style=\"text-align: right;\">\n",
       "      <th></th>\n",
       "      <th>GENE_NAME</th>\n",
       "      <th>ACCESSION_NUMBER</th>\n",
       "      <th>GENE_CDS_LENGTH</th>\n",
       "      <th>HGNC_ID</th>\n",
       "      <th>SAMPLE_NAME</th>\n",
       "      <th>ID_SAMPLE</th>\n",
       "      <th>ID_TUMOUR</th>\n",
       "      <th>PRIMARY_SITE</th>\n",
       "      <th>SITE_SUBTYPE_1</th>\n",
       "      <th>SITE_SUBTYPE_2</th>\n",
       "      <th>...</th>\n",
       "      <th>PUBMED_PMID</th>\n",
       "      <th>ID_STUDY</th>\n",
       "      <th>SAMPLE_TYPE</th>\n",
       "      <th>TUMOUR_ORIGIN</th>\n",
       "      <th>AGE</th>\n",
       "      <th>HGVSP</th>\n",
       "      <th>HGVSC</th>\n",
       "      <th>HGVSG</th>\n",
       "      <th>Description</th>\n",
       "      <th>Sequence</th>\n",
       "    </tr>\n",
       "  </thead>\n",
       "  <tbody>\n",
       "    <tr>\n",
       "      <th>0</th>\n",
       "      <td>MFN2_ENST00000444836</td>\n",
       "      <td>ENST00000444836.5</td>\n",
       "      <td>2274</td>\n",
       "      <td>16877.0</td>\n",
       "      <td>P01-28</td>\n",
       "      <td>1691446</td>\n",
       "      <td>1599713</td>\n",
       "      <td>prostate</td>\n",
       "      <td>NS</td>\n",
       "      <td>NS</td>\n",
       "      <td>...</td>\n",
       "      <td>22610119.0</td>\n",
       "      <td>NaN</td>\n",
       "      <td>surgery fresh/frozen</td>\n",
       "      <td>primary</td>\n",
       "      <td>61.0</td>\n",
       "      <td>ENSP00000416338.1:p.Glu73=</td>\n",
       "      <td>ENST00000444836.5:c.219A&gt;G</td>\n",
       "      <td>1:g.11992598A&gt;G</td>\n",
       "      <td>MFN2_ENST00000444836 ENST00000444836.5 1:11980...</td>\n",
       "      <td>atgtccctgctcttctctcgatgcaactctatcgtcacagtcaaga...</td>\n",
       "    </tr>\n",
       "    <tr>\n",
       "      <th>2</th>\n",
       "      <td>SELP_ENST00000458599</td>\n",
       "      <td>ENST00000458599.6</td>\n",
       "      <td>1941</td>\n",
       "      <td>10721.0</td>\n",
       "      <td>PR-1701</td>\n",
       "      <td>1669605</td>\n",
       "      <td>1582897</td>\n",
       "      <td>prostate</td>\n",
       "      <td>NS</td>\n",
       "      <td>NS</td>\n",
       "      <td>...</td>\n",
       "      <td>21307934.0</td>\n",
       "      <td>NaN</td>\n",
       "      <td>fresh/frozen - NOS</td>\n",
       "      <td>primary</td>\n",
       "      <td>62.0</td>\n",
       "      <td>NaN</td>\n",
       "      <td>ENST00000458599.6:c.1886+210T&gt;G</td>\n",
       "      <td>1:g.169591216A&gt;C</td>\n",
       "      <td>SELP_ENST00000458599 ENST00000458599.6 1:16959...</td>\n",
       "      <td>atggccaactgccaaatagccatcttgtaccagagattccagagag...</td>\n",
       "    </tr>\n",
       "    <tr>\n",
       "      <th>3</th>\n",
       "      <td>CDH6</td>\n",
       "      <td>ENST00000265071.2</td>\n",
       "      <td>2373</td>\n",
       "      <td>1765.0</td>\n",
       "      <td>PR-09-3566</td>\n",
       "      <td>1691530</td>\n",
       "      <td>1599797</td>\n",
       "      <td>prostate</td>\n",
       "      <td>NS</td>\n",
       "      <td>NS</td>\n",
       "      <td>...</td>\n",
       "      <td>22610119.0</td>\n",
       "      <td>NaN</td>\n",
       "      <td>surgery fresh/frozen</td>\n",
       "      <td>primary</td>\n",
       "      <td>65.0</td>\n",
       "      <td>ENSP00000265071.2:p.Trp57Arg</td>\n",
       "      <td>ENST00000265071.2:c.169T&gt;A</td>\n",
       "      <td>5:g.31267642T&gt;A</td>\n",
       "      <td>CDH6 ENST00000265071.2 5:31193750-31329146(+)</td>\n",
       "      <td>atgagaacttaccgctacttcttgctgctcttttgggtgggccagc...</td>\n",
       "    </tr>\n",
       "    <tr>\n",
       "      <th>4</th>\n",
       "      <td>NCOR2_ENST00000404621</td>\n",
       "      <td>ENST00000404621.5</td>\n",
       "      <td>7377</td>\n",
       "      <td>7673.0</td>\n",
       "      <td>PR-02-2072</td>\n",
       "      <td>1691505</td>\n",
       "      <td>1599772</td>\n",
       "      <td>prostate</td>\n",
       "      <td>NS</td>\n",
       "      <td>NS</td>\n",
       "      <td>...</td>\n",
       "      <td>22610119.0</td>\n",
       "      <td>NaN</td>\n",
       "      <td>surgery fresh/frozen</td>\n",
       "      <td>primary</td>\n",
       "      <td>54.0</td>\n",
       "      <td>ENSP00000384202.1:p.Pro164=</td>\n",
       "      <td>ENST00000404621.5:c.492G&gt;A</td>\n",
       "      <td>12:g.124473051C&gt;T</td>\n",
       "      <td>NCOR2_ENST00000404621 ENST00000404621.5 12:124...</td>\n",
       "      <td>atgtcgggatccacacagcctgtggcacagacgtggagggccactg...</td>\n",
       "    </tr>\n",
       "    <tr>\n",
       "      <th>13</th>\n",
       "      <td>MCF2L_ENST00000375604</td>\n",
       "      <td>ENST00000375604.6</td>\n",
       "      <td>3372</td>\n",
       "      <td>14576.0</td>\n",
       "      <td>CPCG0098-F1</td>\n",
       "      <td>2340647</td>\n",
       "      <td>2205630</td>\n",
       "      <td>prostate</td>\n",
       "      <td>NS</td>\n",
       "      <td>NS</td>\n",
       "      <td>...</td>\n",
       "      <td>NaN</td>\n",
       "      <td>537.0</td>\n",
       "      <td>NS</td>\n",
       "      <td>primary</td>\n",
       "      <td>NaN</td>\n",
       "      <td>NaN</td>\n",
       "      <td>ENST00000375604.6:c.364-1852A&gt;T</td>\n",
       "      <td>13:g.113058741A&gt;T</td>\n",
       "      <td>MCF2L_ENST00000375604 ENST00000375604.6 13:113...</td>\n",
       "      <td>atgacggtgcgccggctgtcactgctgtgccgggacctctgggcgc...</td>\n",
       "    </tr>\n",
       "    <tr>\n",
       "      <th>...</th>\n",
       "      <td>...</td>\n",
       "      <td>...</td>\n",
       "      <td>...</td>\n",
       "      <td>...</td>\n",
       "      <td>...</td>\n",
       "      <td>...</td>\n",
       "      <td>...</td>\n",
       "      <td>...</td>\n",
       "      <td>...</td>\n",
       "      <td>...</td>\n",
       "      <td>...</td>\n",
       "      <td>...</td>\n",
       "      <td>...</td>\n",
       "      <td>...</td>\n",
       "      <td>...</td>\n",
       "      <td>...</td>\n",
       "      <td>...</td>\n",
       "      <td>...</td>\n",
       "      <td>...</td>\n",
       "      <td>...</td>\n",
       "      <td>...</td>\n",
       "    </tr>\n",
       "    <tr>\n",
       "      <th>2770628</th>\n",
       "      <td>HIST1H3F</td>\n",
       "      <td>ENST00000618052.1</td>\n",
       "      <td>411</td>\n",
       "      <td>4773.0</td>\n",
       "      <td>05-165M1</td>\n",
       "      <td>2575159</td>\n",
       "      <td>2436496</td>\n",
       "      <td>prostate</td>\n",
       "      <td>NS</td>\n",
       "      <td>NS</td>\n",
       "      <td>...</td>\n",
       "      <td>26928463.0</td>\n",
       "      <td>NaN</td>\n",
       "      <td>autopsy - NOS</td>\n",
       "      <td>metastasis</td>\n",
       "      <td>69.0</td>\n",
       "      <td>ENSP00000484095.1:p.Ala76=</td>\n",
       "      <td>ENST00000618052.1:c.228G&gt;A</td>\n",
       "      <td>6:g.26250378C&gt;T</td>\n",
       "      <td>HIST1H3F ENST00000618052.1 6:26250195-26250605(-)</td>\n",
       "      <td>atggcacgcacgaagcaaacagctcgtaagtccactggcggcaaag...</td>\n",
       "    </tr>\n",
       "    <tr>\n",
       "      <th>2772219</th>\n",
       "      <td>ZC3H11B</td>\n",
       "      <td>ENST00000636126.1</td>\n",
       "      <td>2418</td>\n",
       "      <td>25659.0</td>\n",
       "      <td>0085_CRUK_PC_0085_T1_DNA</td>\n",
       "      <td>2457600</td>\n",
       "      <td>2320437</td>\n",
       "      <td>prostate</td>\n",
       "      <td>NS</td>\n",
       "      <td>NS</td>\n",
       "      <td>...</td>\n",
       "      <td>NaN</td>\n",
       "      <td>538.0</td>\n",
       "      <td>NS</td>\n",
       "      <td>primary</td>\n",
       "      <td>61.0</td>\n",
       "      <td>ENSP00000489836.1:p.Arg510Ter</td>\n",
       "      <td>ENST00000636126.1:c.1528C&gt;T</td>\n",
       "      <td>1:g.219610535G&gt;A</td>\n",
       "      <td>ZC3H11B ENST00000636126.1 1:219608347-21961314...</td>\n",
       "      <td>atgcctaatcaaggagaagactgctatttttttttctattctacat...</td>\n",
       "    </tr>\n",
       "    <tr>\n",
       "      <th>2773048</th>\n",
       "      <td>MCRIP1_ENST00000457257</td>\n",
       "      <td>ENST00000457257.5</td>\n",
       "      <td>357</td>\n",
       "      <td>28007.0</td>\n",
       "      <td>CPCG0001-F1</td>\n",
       "      <td>2197576</td>\n",
       "      <td>2065854</td>\n",
       "      <td>prostate</td>\n",
       "      <td>NS</td>\n",
       "      <td>NS</td>\n",
       "      <td>...</td>\n",
       "      <td>NaN</td>\n",
       "      <td>537.0</td>\n",
       "      <td>NS</td>\n",
       "      <td>NS</td>\n",
       "      <td>NaN</td>\n",
       "      <td>ENSP00000408827.2:p.Phe60Leu</td>\n",
       "      <td>ENST00000457257.5:c.180C&gt;A</td>\n",
       "      <td>17:g.81824297G&gt;T</td>\n",
       "      <td>MCRIP1_ENST00000457257 ENST00000457257.5 17:81...</td>\n",
       "      <td>atgctgccacaccagaggctgaggggatctggcggtggagcgctag...</td>\n",
       "    </tr>\n",
       "    <tr>\n",
       "      <th>2774360</th>\n",
       "      <td>GNRH1</td>\n",
       "      <td>ENST00000276414.4</td>\n",
       "      <td>279</td>\n",
       "      <td>4419.0</td>\n",
       "      <td>0160_CRUK_PC_0160_T1_DNA</td>\n",
       "      <td>2634965</td>\n",
       "      <td>2495361</td>\n",
       "      <td>prostate</td>\n",
       "      <td>NS</td>\n",
       "      <td>NS</td>\n",
       "      <td>...</td>\n",
       "      <td>NaN</td>\n",
       "      <td>538.0</td>\n",
       "      <td>NS</td>\n",
       "      <td>primary</td>\n",
       "      <td>51.0</td>\n",
       "      <td>NaN</td>\n",
       "      <td>ENST00000276414.4:c.-589G&gt;C</td>\n",
       "      <td>8:g.25423919C&gt;G</td>\n",
       "      <td>GNRH1 ENST00000276414.4 8:25419262-25424654(-)</td>\n",
       "      <td>atgaagccaattcaaaaactcctagctggccttattctactgactt...</td>\n",
       "    </tr>\n",
       "    <tr>\n",
       "      <th>2778990</th>\n",
       "      <td>GPR151</td>\n",
       "      <td>ENST00000311104.2</td>\n",
       "      <td>1260</td>\n",
       "      <td>23624.0</td>\n",
       "      <td>0076_CRUK_PC_0076_T1_DNA</td>\n",
       "      <td>2457573</td>\n",
       "      <td>2320410</td>\n",
       "      <td>prostate</td>\n",
       "      <td>NS</td>\n",
       "      <td>NS</td>\n",
       "      <td>...</td>\n",
       "      <td>NaN</td>\n",
       "      <td>538.0</td>\n",
       "      <td>NS</td>\n",
       "      <td>primary</td>\n",
       "      <td>59.0</td>\n",
       "      <td>NaN</td>\n",
       "      <td>ENST00000311104.2:c.*424T&gt;C</td>\n",
       "      <td>5:g.146514430A&gt;G</td>\n",
       "      <td>GPR151 ENST00000311104.2 5:146513103-146516190(-)</td>\n",
       "      <td>atgctggcagctgcctttgcagactctaactccagcagcatgaatg...</td>\n",
       "    </tr>\n",
       "  </tbody>\n",
       "</table>\n",
       "<p>55173 rows × 41 columns</p>\n",
       "</div>"
      ],
      "text/plain": [
       "                      GENE_NAME   ACCESSION_NUMBER   GENE_CDS_LENGTH  \\\n",
       "0          MFN2_ENST00000444836  ENST00000444836.5              2274   \n",
       "2          SELP_ENST00000458599  ENST00000458599.6              1941   \n",
       "3                          CDH6  ENST00000265071.2              2373   \n",
       "4         NCOR2_ENST00000404621  ENST00000404621.5              7377   \n",
       "13        MCF2L_ENST00000375604  ENST00000375604.6              3372   \n",
       "...                         ...                ...               ...   \n",
       "2770628                HIST1H3F  ENST00000618052.1               411   \n",
       "2772219                 ZC3H11B  ENST00000636126.1              2418   \n",
       "2773048  MCRIP1_ENST00000457257  ENST00000457257.5               357   \n",
       "2774360                   GNRH1  ENST00000276414.4               279   \n",
       "2778990                  GPR151  ENST00000311104.2              1260   \n",
       "\n",
       "          HGNC_ID               SAMPLE_NAME   ID_SAMPLE   ID_TUMOUR  \\\n",
       "0         16877.0                    P01-28     1691446     1599713   \n",
       "2         10721.0                   PR-1701     1669605     1582897   \n",
       "3          1765.0                PR-09-3566     1691530     1599797   \n",
       "4          7673.0                PR-02-2072     1691505     1599772   \n",
       "13        14576.0               CPCG0098-F1     2340647     2205630   \n",
       "...           ...                       ...         ...         ...   \n",
       "2770628    4773.0                  05-165M1     2575159     2436496   \n",
       "2772219   25659.0  0085_CRUK_PC_0085_T1_DNA     2457600     2320437   \n",
       "2773048   28007.0               CPCG0001-F1     2197576     2065854   \n",
       "2774360    4419.0  0160_CRUK_PC_0160_T1_DNA     2634965     2495361   \n",
       "2778990   23624.0  0076_CRUK_PC_0076_T1_DNA     2457573     2320410   \n",
       "\n",
       "         PRIMARY_SITE  SITE_SUBTYPE_1  SITE_SUBTYPE_2  ...  PUBMED_PMID  \\\n",
       "0            prostate              NS              NS  ...   22610119.0   \n",
       "2            prostate              NS              NS  ...   21307934.0   \n",
       "3            prostate              NS              NS  ...   22610119.0   \n",
       "4            prostate              NS              NS  ...   22610119.0   \n",
       "13           prostate              NS              NS  ...          NaN   \n",
       "...               ...             ...             ...  ...          ...   \n",
       "2770628      prostate              NS              NS  ...   26928463.0   \n",
       "2772219      prostate              NS              NS  ...          NaN   \n",
       "2773048      prostate              NS              NS  ...          NaN   \n",
       "2774360      prostate              NS              NS  ...          NaN   \n",
       "2778990      prostate              NS              NS  ...          NaN   \n",
       "\n",
       "         ID_STUDY           SAMPLE_TYPE  TUMOUR_ORIGIN   AGE  \\\n",
       "0             NaN  surgery fresh/frozen        primary  61.0   \n",
       "2             NaN    fresh/frozen - NOS        primary  62.0   \n",
       "3             NaN  surgery fresh/frozen        primary  65.0   \n",
       "4             NaN  surgery fresh/frozen        primary  54.0   \n",
       "13          537.0                    NS        primary   NaN   \n",
       "...           ...                   ...            ...   ...   \n",
       "2770628       NaN         autopsy - NOS     metastasis  69.0   \n",
       "2772219     538.0                    NS        primary  61.0   \n",
       "2773048     537.0                    NS             NS   NaN   \n",
       "2774360     538.0                    NS        primary  51.0   \n",
       "2778990     538.0                    NS        primary  59.0   \n",
       "\n",
       "                                 HGVSP                            HGVSC  \\\n",
       "0           ENSP00000416338.1:p.Glu73=       ENST00000444836.5:c.219A>G   \n",
       "2                                  NaN  ENST00000458599.6:c.1886+210T>G   \n",
       "3         ENSP00000265071.2:p.Trp57Arg       ENST00000265071.2:c.169T>A   \n",
       "4          ENSP00000384202.1:p.Pro164=       ENST00000404621.5:c.492G>A   \n",
       "13                                 NaN  ENST00000375604.6:c.364-1852A>T   \n",
       "...                                ...                              ...   \n",
       "2770628     ENSP00000484095.1:p.Ala76=       ENST00000618052.1:c.228G>A   \n",
       "2772219  ENSP00000489836.1:p.Arg510Ter      ENST00000636126.1:c.1528C>T   \n",
       "2773048   ENSP00000408827.2:p.Phe60Leu       ENST00000457257.5:c.180C>A   \n",
       "2774360                            NaN      ENST00000276414.4:c.-589G>C   \n",
       "2778990                            NaN      ENST00000311104.2:c.*424T>C   \n",
       "\n",
       "                     HGVSG                                        Description  \\\n",
       "0          1:g.11992598A>G  MFN2_ENST00000444836 ENST00000444836.5 1:11980...   \n",
       "2         1:g.169591216A>C  SELP_ENST00000458599 ENST00000458599.6 1:16959...   \n",
       "3          5:g.31267642T>A      CDH6 ENST00000265071.2 5:31193750-31329146(+)   \n",
       "4        12:g.124473051C>T  NCOR2_ENST00000404621 ENST00000404621.5 12:124...   \n",
       "13       13:g.113058741A>T  MCF2L_ENST00000375604 ENST00000375604.6 13:113...   \n",
       "...                    ...                                                ...   \n",
       "2770628    6:g.26250378C>T  HIST1H3F ENST00000618052.1 6:26250195-26250605(-)   \n",
       "2772219   1:g.219610535G>A  ZC3H11B ENST00000636126.1 1:219608347-21961314...   \n",
       "2773048   17:g.81824297G>T  MCRIP1_ENST00000457257 ENST00000457257.5 17:81...   \n",
       "2774360    8:g.25423919C>G     GNRH1 ENST00000276414.4 8:25419262-25424654(-)   \n",
       "2778990   5:g.146514430A>G  GPR151 ENST00000311104.2 5:146513103-146516190(-)   \n",
       "\n",
       "                                                  Sequence  \n",
       "0        atgtccctgctcttctctcgatgcaactctatcgtcacagtcaaga...  \n",
       "2        atggccaactgccaaatagccatcttgtaccagagattccagagag...  \n",
       "3        atgagaacttaccgctacttcttgctgctcttttgggtgggccagc...  \n",
       "4        atgtcgggatccacacagcctgtggcacagacgtggagggccactg...  \n",
       "13       atgacggtgcgccggctgtcactgctgtgccgggacctctgggcgc...  \n",
       "...                                                    ...  \n",
       "2770628  atggcacgcacgaagcaaacagctcgtaagtccactggcggcaaag...  \n",
       "2772219  atgcctaatcaaggagaagactgctatttttttttctattctacat...  \n",
       "2773048  atgctgccacaccagaggctgaggggatctggcggtggagcgctag...  \n",
       "2774360  atgaagccaattcaaaaactcctagctggccttattctactgactt...  \n",
       "2778990  atgctggcagctgcctttgcagactctaactccagcagcatgaatg...  \n",
       "\n",
       "[55173 rows x 41 columns]"
      ]
     },
     "execution_count": 28,
     "metadata": {},
     "output_type": "execute_result"
    }
   ],
   "source": [
    "df2 = df1.drop_duplicates(' ACCESSION_NUMBER')\n",
    "df2"
   ]
  },
  {
   "cell_type": "code",
   "execution_count": 29,
   "id": "b39e8ba1",
   "metadata": {},
   "outputs": [],
   "source": [
    "# df2.to_csv(r'C:\\Users\\harsh\\Downloads\\Dissertation\\final.csv',index=False)"
   ]
  },
  {
   "cell_type": "code",
   "execution_count": 30,
   "id": "5d7b38d5",
   "metadata": {},
   "outputs": [],
   "source": [
    "# a = pd.concat(g for _, g in df2.groupby(\"Sequence\") if len(g) > 1)\n",
    "# a['Sequence'][0]"
   ]
  },
  {
   "cell_type": "code",
   "execution_count": 31,
   "id": "b1deb25d",
   "metadata": {},
   "outputs": [
    {
     "data": {
      "text/html": [
       "<div>\n",
       "<style scoped>\n",
       "    .dataframe tbody tr th:only-of-type {\n",
       "        vertical-align: middle;\n",
       "    }\n",
       "\n",
       "    .dataframe tbody tr th {\n",
       "        vertical-align: top;\n",
       "    }\n",
       "\n",
       "    .dataframe thead th {\n",
       "        text-align: right;\n",
       "    }\n",
       "</style>\n",
       "<table border=\"1\" class=\"dataframe\">\n",
       "  <thead>\n",
       "    <tr style=\"text-align: right;\">\n",
       "      <th></th>\n",
       "      <th>GENE_NAME</th>\n",
       "      <th>ACCESSION_NUMBER</th>\n",
       "      <th>GENE_CDS_LENGTH</th>\n",
       "      <th>HGNC_ID</th>\n",
       "      <th>SAMPLE_NAME</th>\n",
       "      <th>ID_SAMPLE</th>\n",
       "      <th>ID_TUMOUR</th>\n",
       "      <th>PRIMARY_SITE</th>\n",
       "      <th>SITE_SUBTYPE_1</th>\n",
       "      <th>SITE_SUBTYPE_2</th>\n",
       "      <th>...</th>\n",
       "      <th>PUBMED_PMID</th>\n",
       "      <th>ID_STUDY</th>\n",
       "      <th>SAMPLE_TYPE</th>\n",
       "      <th>TUMOUR_ORIGIN</th>\n",
       "      <th>AGE</th>\n",
       "      <th>HGVSP</th>\n",
       "      <th>HGVSC</th>\n",
       "      <th>HGVSG</th>\n",
       "      <th>Description</th>\n",
       "      <th>Sequence</th>\n",
       "    </tr>\n",
       "  </thead>\n",
       "  <tbody>\n",
       "  </tbody>\n",
       "</table>\n",
       "<p>0 rows × 41 columns</p>\n",
       "</div>"
      ],
      "text/plain": [
       "Empty DataFrame\n",
       "Columns: [GENE_NAME,  ACCESSION_NUMBER,  GENE_CDS_LENGTH,  HGNC_ID,  SAMPLE_NAME,  ID_SAMPLE,  ID_TUMOUR,  PRIMARY_SITE,  SITE_SUBTYPE_1,  SITE_SUBTYPE_2,  SITE_SUBTYPE_3,  PRIMARY_HISTOLOGY,  HISTOLOGY_SUBTYPE_1,  HISTOLOGY_SUBTYPE_2,  HISTOLOGY_SUBTYPE_3,  GENOME_WIDE_SCREEN,  GENOMIC_MUTATION_ID,  LEGACY_MUTATION_ID,  MUTATION_ID,  MUTATION_CDS,  MUTATION_AA,  MUTATION_DESCRIPTION,  MUTATION_ZYGOSITY,  LOH,  GRCH,  MUTATION_GENOME_POSITION,  MUTATION_STRAND,  RESISTANCE_MUTATION,  FATHMM_PREDICTION,  FATHMM_SCORE,  MUTATION_SOMATIC_STATUS,  PUBMED_PMID,  ID_STUDY,  SAMPLE_TYPE,  TUMOUR_ORIGIN,  AGE,  HGVSP,  HGVSC,  HGVSG, Description, Sequence]\n",
       "Index: []\n",
       "\n",
       "[0 rows x 41 columns]"
      ]
     },
     "execution_count": 31,
     "metadata": {},
     "output_type": "execute_result"
    }
   ],
   "source": [
    "df2[df2.duplicated(keep=False)]"
   ]
  },
  {
   "cell_type": "code",
   "execution_count": 32,
   "id": "74137aaf",
   "metadata": {},
   "outputs": [
    {
     "name": "stderr",
     "output_type": "stream",
     "text": [
      "C:\\Users\\harsh\\anaconda3\\envs\\Dissertation\\lib\\site-packages\\seaborn\\_decorators.py:36: FutureWarning: Pass the following variable as a keyword arg: x. From version 0.12, the only valid positional argument will be `data`, and passing other arguments without an explicit keyword will result in an error or misinterpretation.\n",
      "  warnings.warn(\n"
     ]
    },
    {
     "data": {
      "text/plain": [
       "Text(0.5, 0, 'Primary Histology')"
      ]
     },
     "execution_count": 32,
     "metadata": {},
     "output_type": "execute_result"
    },
    {
     "data": {
      "image/png": "[encoded data removed]",
      "text/plain": [
       "<Figure size 864x432 with 1 Axes>"
      ]
     },
     "metadata": {
      "needs_background": "light"
     },
     "output_type": "display_data"
    }
   ],
   "source": [
    "plt.figure(figsize=(12,6))\n",
    "sns.countplot(df2[' FATHMM_PREDICTION'],palette='Blues')\n",
    "plt.title('Primary Histology Distribution Plot')\n",
    "plt.xlabel('Primary Histology')"
   ]
  },
  {
   "cell_type": "code",
   "execution_count": 33,
   "id": "0c7d7c85",
   "metadata": {},
   "outputs": [
    {
     "data": {
      "text/plain": [
       "NEUTRAL       34514\n",
       "PATHOGENIC    13033\n",
       "Name:  FATHMM_PREDICTION, dtype: int64"
      ]
     },
     "execution_count": 33,
     "metadata": {},
     "output_type": "execute_result"
    }
   ],
   "source": [
    "df2[' FATHMM_PREDICTION'].value_counts()"
   ]
  },
  {
   "cell_type": "code",
   "execution_count": 34,
   "id": "338eb697",
   "metadata": {},
   "outputs": [],
   "source": [
    "# function to convert sequence strings into k-mer words, default size = 6 (hexamer words)\n",
    "def getKmers(sequence, size=6):\n",
    "    return [sequence[x:x+size].lower() for x in range(len(sequence) - size + 1)]"
   ]
  },
  {
   "cell_type": "code",
   "execution_count": 35,
   "id": "7ef845e9",
   "metadata": {},
   "outputs": [
    {
     "name": "stderr",
     "output_type": "stream",
     "text": [
      "C:\\Users\\harsh\\AppData\\Local\\Temp\\ipykernel_4232\\70774303.py:1: SettingWithCopyWarning: \n",
      "A value is trying to be set on a copy of a slice from a DataFrame.\n",
      "Try using .loc[row_indexer,col_indexer] = value instead\n",
      "\n",
      "See the caveats in the documentation: https://pandas.pydata.org/pandas-docs/stable/user_guide/indexing.html#returning-a-view-versus-a-copy\n",
      "  df2['words'] = df2.apply(lambda x: getKmers(x['Sequence']), axis=1)\n"
     ]
    }
   ],
   "source": [
    "df2['words'] = df2.apply(lambda x: getKmers(x['Sequence']), axis=1)"
   ]
  },
  {
   "cell_type": "code",
   "execution_count": 36,
   "id": "0f239455",
   "metadata": {},
   "outputs": [
    {
     "data": {
      "text/plain": [
       "2269"
      ]
     },
     "execution_count": 36,
     "metadata": {},
     "output_type": "execute_result"
    }
   ],
   "source": [
    "len(df2['words'][0])"
   ]
  },
  {
   "cell_type": "code",
   "execution_count": 37,
   "id": "09a720d4",
   "metadata": {},
   "outputs": [
    {
     "data": {
      "text/plain": [
       "7626"
      ]
     },
     "execution_count": 37,
     "metadata": {},
     "output_type": "execute_result"
    }
   ],
   "source": [
    "df2[' FATHMM_PREDICTION'].isna().sum()"
   ]
  },
  {
   "cell_type": "code",
   "execution_count": 38,
   "id": "a117f9cf",
   "metadata": {},
   "outputs": [
    {
     "data": {
      "text/plain": [
       "5490"
      ]
     },
     "execution_count": 38,
     "metadata": {},
     "output_type": "execute_result"
    }
   ],
   "source": [
    "df2[' FATHMM_SCORE'].isna().sum()"
   ]
  },
  {
   "cell_type": "code",
   "execution_count": 39,
   "id": "67da0de6",
   "metadata": {},
   "outputs": [
    {
     "name": "stderr",
     "output_type": "stream",
     "text": [
      "C:\\Users\\harsh\\AppData\\Local\\Temp\\ipykernel_4232\\872097019.py:1: SettingWithCopyWarning: \n",
      "A value is trying to be set on a copy of a slice from a DataFrame\n",
      "\n",
      "See the caveats in the documentation: https://pandas.pydata.org/pandas-docs/stable/user_guide/indexing.html#returning-a-view-versus-a-copy\n",
      "  df2[' FATHMM_PREDICTION'].fillna(\"PATHOGENIC\", inplace = True)\n"
     ]
    },
    {
     "data": {
      "text/plain": [
       "NEUTRAL       34514\n",
       "PATHOGENIC    20659\n",
       "Name:  FATHMM_PREDICTION, dtype: int64"
      ]
     },
     "execution_count": 39,
     "metadata": {},
     "output_type": "execute_result"
    }
   ],
   "source": [
    "df2[' FATHMM_PREDICTION'].fillna(\"PATHOGENIC\", inplace = True)\n",
    "df2[' FATHMM_PREDICTION'].value_counts()"
   ]
  },
  {
   "cell_type": "code",
   "execution_count": 40,
   "id": "a8837cd1",
   "metadata": {},
   "outputs": [
    {
     "data": {
      "text/plain": [
       "count    49683.000000\n",
       "mean         0.309524\n",
       "std          0.389559\n",
       "min          0.000000\n",
       "25%          0.009600\n",
       "50%          0.059040\n",
       "75%          0.744045\n",
       "max          0.999560\n",
       "Name:  FATHMM_SCORE, dtype: float64"
      ]
     },
     "execution_count": 40,
     "metadata": {},
     "output_type": "execute_result"
    }
   ],
   "source": [
    "df2[' FATHMM_SCORE'].describe()"
   ]
  },
  {
   "cell_type": "code",
   "execution_count": 41,
   "id": "23398d78",
   "metadata": {},
   "outputs": [
    {
     "name": "stderr",
     "output_type": "stream",
     "text": [
      "C:\\Users\\harsh\\AppData\\Local\\Temp\\ipykernel_4232\\1563915797.py:3: SettingWithCopyWarning: \n",
      "A value is trying to be set on a copy of a slice from a DataFrame.\n",
      "Try using .loc[row_indexer,col_indexer] = value instead\n",
      "\n",
      "See the caveats in the documentation: https://pandas.pydata.org/pandas-docs/stable/user_guide/indexing.html#returning-a-view-versus-a-copy\n",
      "  df2[' FATHMM_PREDICTION'] = labelencoder_Y.fit_transform(df2[' FATHMM_PREDICTION'])\n"
     ]
    },
    {
     "data": {
      "text/plain": [
       "0    34514\n",
       "1    20659\n",
       "Name:  FATHMM_PREDICTION, dtype: int64"
      ]
     },
     "execution_count": 41,
     "metadata": {},
     "output_type": "execute_result"
    }
   ],
   "source": [
    "from sklearn.preprocessing import LabelEncoder\n",
    "labelencoder_Y = LabelEncoder()\n",
    "df2[' FATHMM_PREDICTION'] = labelencoder_Y.fit_transform(df2[' FATHMM_PREDICTION'])\n",
    "df2[' FATHMM_PREDICTION'].value_counts()"
   ]
  },
  {
   "cell_type": "code",
   "execution_count": 42,
   "id": "812a8ca7",
   "metadata": {},
   "outputs": [
    {
     "data": {
      "text/html": [
       "<div>\n",
       "<style scoped>\n",
       "    .dataframe tbody tr th:only-of-type {\n",
       "        vertical-align: middle;\n",
       "    }\n",
       "\n",
       "    .dataframe tbody tr th {\n",
       "        vertical-align: top;\n",
       "    }\n",
       "\n",
       "    .dataframe thead th {\n",
       "        text-align: right;\n",
       "    }\n",
       "</style>\n",
       "<table border=\"1\" class=\"dataframe\">\n",
       "  <thead>\n",
       "    <tr style=\"text-align: right;\">\n",
       "      <th></th>\n",
       "      <th>words</th>\n",
       "      <th>FATHMM_PREDICTION</th>\n",
       "    </tr>\n",
       "  </thead>\n",
       "  <tbody>\n",
       "    <tr>\n",
       "      <th>0</th>\n",
       "      <td>[atgtcc, tgtccc, gtccct, tccctg, ccctgc, cctgc...</td>\n",
       "      <td>1</td>\n",
       "    </tr>\n",
       "    <tr>\n",
       "      <th>2</th>\n",
       "      <td>[atggcc, tggcca, ggccaa, gccaac, ccaact, caact...</td>\n",
       "      <td>0</td>\n",
       "    </tr>\n",
       "    <tr>\n",
       "      <th>3</th>\n",
       "      <td>[atgaga, tgagaa, gagaac, agaact, gaactt, aactt...</td>\n",
       "      <td>1</td>\n",
       "    </tr>\n",
       "    <tr>\n",
       "      <th>4</th>\n",
       "      <td>[atgtcg, tgtcgg, gtcggg, tcggga, cgggat, gggat...</td>\n",
       "      <td>0</td>\n",
       "    </tr>\n",
       "    <tr>\n",
       "      <th>13</th>\n",
       "      <td>[atgacg, tgacgg, gacggt, acggtg, cggtgc, ggtgc...</td>\n",
       "      <td>0</td>\n",
       "    </tr>\n",
       "  </tbody>\n",
       "</table>\n",
       "</div>"
      ],
      "text/plain": [
       "                                                words   FATHMM_PREDICTION\n",
       "0   [atgtcc, tgtccc, gtccct, tccctg, ccctgc, cctgc...                   1\n",
       "2   [atggcc, tggcca, ggccaa, gccaac, ccaact, caact...                   0\n",
       "3   [atgaga, tgagaa, gagaac, agaact, gaactt, aactt...                   1\n",
       "4   [atgtcg, tgtcgg, gtcggg, tcggga, cgggat, gggat...                   0\n",
       "13  [atgacg, tgacgg, gacggt, acggtg, cggtgc, ggtgc...                   0"
      ]
     },
     "execution_count": 42,
     "metadata": {},
     "output_type": "execute_result"
    }
   ],
   "source": [
    "prostatedata = df2[['words', ' FATHMM_PREDICTION']].copy()\n",
    "prostatedata.head()"
   ]
  },
  {
   "cell_type": "code",
   "execution_count": 43,
   "id": "7164f878",
   "metadata": {},
   "outputs": [
    {
     "data": {
      "text/html": [
       "<div>\n",
       "<style scoped>\n",
       "    .dataframe tbody tr th:only-of-type {\n",
       "        vertical-align: middle;\n",
       "    }\n",
       "\n",
       "    .dataframe tbody tr th {\n",
       "        vertical-align: top;\n",
       "    }\n",
       "\n",
       "    .dataframe thead th {\n",
       "        text-align: right;\n",
       "    }\n",
       "</style>\n",
       "<table border=\"1\" class=\"dataframe\">\n",
       "  <thead>\n",
       "    <tr style=\"text-align: right;\">\n",
       "      <th></th>\n",
       "      <th>words</th>\n",
       "      <th>IsCancer</th>\n",
       "    </tr>\n",
       "  </thead>\n",
       "  <tbody>\n",
       "    <tr>\n",
       "      <th>0</th>\n",
       "      <td>[atgtcc, tgtccc, gtccct, tccctg, ccctgc, cctgc...</td>\n",
       "      <td>1</td>\n",
       "    </tr>\n",
       "    <tr>\n",
       "      <th>1</th>\n",
       "      <td>[atggcc, tggcca, ggccaa, gccaac, ccaact, caact...</td>\n",
       "      <td>0</td>\n",
       "    </tr>\n",
       "    <tr>\n",
       "      <th>2</th>\n",
       "      <td>[atgaga, tgagaa, gagaac, agaact, gaactt, aactt...</td>\n",
       "      <td>1</td>\n",
       "    </tr>\n",
       "    <tr>\n",
       "      <th>3</th>\n",
       "      <td>[atgtcg, tgtcgg, gtcggg, tcggga, cgggat, gggat...</td>\n",
       "      <td>0</td>\n",
       "    </tr>\n",
       "    <tr>\n",
       "      <th>4</th>\n",
       "      <td>[atgacg, tgacgg, gacggt, acggtg, cggtgc, ggtgc...</td>\n",
       "      <td>0</td>\n",
       "    </tr>\n",
       "  </tbody>\n",
       "</table>\n",
       "</div>"
      ],
      "text/plain": [
       "                                               words  IsCancer\n",
       "0  [atgtcc, tgtccc, gtccct, tccctg, ccctgc, cctgc...         1\n",
       "1  [atggcc, tggcca, ggccaa, gccaac, ccaact, caact...         0\n",
       "2  [atgaga, tgagaa, gagaac, agaact, gaactt, aactt...         1\n",
       "3  [atgtcg, tgtcgg, gtcggg, tcggga, cgggat, gggat...         0\n",
       "4  [atgacg, tgacgg, gacggt, acggtg, cggtgc, ggtgc...         0"
      ]
     },
     "execution_count": 43,
     "metadata": {},
     "output_type": "execute_result"
    }
   ],
   "source": [
    "prostatedata.rename({' FATHMM_PREDICTION': 'IsCancer', 'words': 'words'}, axis=1, inplace=True)\n",
    "prostatedata.reset_index(drop=True,inplace=True)\n",
    "prostatedata.head()"
   ]
  },
  {
   "cell_type": "code",
   "execution_count": 44,
   "id": "c888dfd4",
   "metadata": {},
   "outputs": [],
   "source": [
    "texts = list(prostatedata['words'])\n",
    "for item in range(len(texts)):\n",
    "    texts[item] = ' '.join(texts[item])\n",
    "y_data = prostatedata.iloc[:, 1].values "
   ]
  },
  {
   "cell_type": "code",
   "execution_count": 45,
   "id": "c466ffa7",
   "metadata": {},
   "outputs": [
    {
     "name": "stdout",
     "output_type": "stream",
     "text": [
      "atgaga tgagaa gagaac agaact gaactt aactta acttac cttacc ttaccg taccgc accgct ccgcta cgctac gctact ctactt tacttc acttct cttctt ttcttg tcttgc cttgct ttgctg tgctgc gctgct ctgctc tgctct gctctt ctcttt tctttt cttttg ttttgg tttggg ttgggt tgggtg gggtgg ggtggg gtgggc tgggcc gggcca ggccag gccagc ccagcc cagccc agccct gcccta ccctac cctacc ctaccc taccca acccaa cccaac ccaact caactc aactct actctc ctctct tctctc ctctca tctcaa ctcaac tcaact caactc aactcc actcca ctccac tccact ccacta cactat actatc ctatca tatcaa atcaaa tcaaag caaaga aaagag aagagg agagga gaggac aggact ggacta gactag actagt ctagtg tagtgg agtggt gtggtt tggttt ggtttc gtttcc tttccc ttccca tcccag cccagc ccagca cagcaa agcaaa gcaaag caaaga aaagaa aagaaa agaaaa gaaaag aaaagg aaaggg aagggc agggcc gggccc ggccct gccctg ccctgg cctgga ctggag tggagc ggagct gagctc agctct gctctc ctctct tctctg ctctgg tctgga ctggaa tggaaa ggaaac gaaaca aaacag aacagc acagca cagcaa agcaaa gcaaaa caaaaa aaaaat aaaatg aaatga aatgag atgagc tgagct gagctg agctga gctgaa ctgaac tgaacc gaaccg aaccgt accgtt ccgttc cgttca gttcaa ttcaaa tcaaaa caaaaa aaaaag aaaagg aaagga aaggag aggagc ggagct gagctg agctgg gctgga ctggat tggatg ggatgt gatgtg atgtgg tgtgga gtggaa tggaat ggaatc gaatca aatcag atcagt tcagtt cagttc agttct gttctt ttcttt tctttc ctttct tttctc ttctcc tctcct ctcctg tcctgg cctgga ctggag tggagg ggagga gaggaa aggaat ggaata gaatac aataca atacac tacaca acacag cacagg acagga caggat aggatc ggatcc gatccg atccga tccgat ccgatt cgatta gattat attatc ttatca tatcag atcagt tcagta cagtat agtatg gtatgt tatgtg atgtgg tgtggg gtgggc tgggca gggcaa ggcaag gcaagt caagtt aagtta agttac gttaca ttacat tacatt acattc cattca attcag ttcaga tcagac cagacc agacca gaccag accagg ccagga caggat aggata ggatag gataga atagag tagagg agagga gaggag aggaga ggagat gagatg agatgg gatgga atggat tggatc ggatca gatcac atcact tcactt cactta acttaa cttaaa ttaaat taaata aaatat aatata atatat tatatc atatcc tatcct atcctt tccttt cctttc ctttca tttcag ttcagg tcagga caggag aggaga ggagat gagatg agatgg gatgga atggag tggagc ggagca gagcag agcagg gcagga caggag aggaga ggagat gagatc agatct gatctc atctct tctctt ctcttc tcttca cttcat ttcatt tcatta cattat attatt ttatta tattaa attaat ttaatg taatga aatgaa atgaaa tgaaaa gaaaac aaaaca aaacac aacaca acacag cacagg acaggc caggcg aggcga ggcgac gcgaca cgacat gacata acatac cataca atacag tacagg acaggc caggcc aggcca ggccac gccacc ccacca caccaa accaag ccaaga caagag aagagg agaggc gaggct aggctg ggctgg gctgga ctggac tggaca ggacag gacagg acaggg caggga agggaa gggaag ggaaga gaagaa aagaaa agaaaa gaaaaa aaaaac aaaacc aaaccc aacccg acccgt cccgtt ccgttt cgttta gtttac tttaca ttacat tacatc acatcc catcct atcctt tccttc ccttcg cttcga ttcgag tcgagc cgagct gagctc agctca gctcaa ctcaag tcaagc caagct aagcta agctat gctata ctataa tataaa ataaac taaaca aaacag aacaga acagaa cagaag agaagg gaagga aaggac aggaca ggacag gacagg acaggg caggga agggag gggaga ggagac gagacc agaccc gacccg acccgt cccgtg ccgtgg cgtgga gtggag tggagc ggagcc gagccc agcccg gcccga cccgag ccgagt cgagtc gagtct agtctg gtctga tctgaa ctgaat tgaatt gaattc aattca attcat ttcatc tcatca catcat atcatc tcatca catcaa atcaag tcaaga caagat aagatc agatcc gatcca atccat tccatg ccatga catgac atgaca tgacat gacatc acatca catcaa atcaat tcaatg caatga aatgac atgaca tgacaa gacaat acaatg caatga aatgaa atgaac tgaacc gaacca aaccaa accaat ccaata caatat aatatt atattc tattca attcac ttcacc tcacca caccaa accaag ccaagg caagga aaggag aggagg ggaggt gaggtt aggttt ggttta gtttac tttaca ttacac tacaca acacag cacagc acagcc cagcca agccac gccact ccactg cactgt actgtc ctgtcc tgtccc gtccct tccctg ccctga cctgaa ctgaaa tgaaat gaaatg aaatgt aatgtc atgtct tgtctg gtctga tctgat ctgatg tgatgt gatgtc atgtcg tgtcgg gtcggt tcggta cggtac ggtaca gtacat tacatt acattt catttg atttgt tttgtt ttgttg tgttgt gttgtc ttgtcc tgtcca gtccaa tccaag ccaagt caagtc aagtca agtcac gtcact tcactg cactgc actgcg ctgcga tgcgac gcgacg cgacgg gacgga acggat cggatg ggatgc gatgca atgcag tgcaga gcagat cagatg agatga gatgat atgatc tgatcc gatcca atccaa tccaac ccaaca caacat aacata acatat catatg atatgg tatggg atggga tgggaa gggaac ggaaca gaacag aacagt acagtg cagtgc agtgct gtgcta tgctaa gctaaa ctaaag taaagt aaagtt aagttg agttgt gttgtc ttgtct tgtcta gtctac tctaca ctacag tacagt acagta cagtat agtatt gtattc tattct attcta ttctac tctaca ctacag tacagg acaggg caggga agggac gggaca ggacag gacagc acagcc cagccc agccct gcccta ccctat cctatt ctattt tatttt attttt tttttc ttttca tttcag ttcagt tcagtt cagttg agttga gttgaa ttgaat tgaatc gaatca aatcag atcaga tcagaa cagaaa agaaac gaaaca aaacag aacagg acaggt caggta aggtat ggtatt gtatta tattat attatc ttatca tatcaa atcaag tcaaga caagac aagaca agacag gacagc acagct cagctt agcttt gctttg ctttgc tttgct ttgctc tgctca gctcaa ctcaac tcaaca caacat aacatg acatgg catgga atggat tggatc ggatcg gatcga atcgag tcgaga cgagaa gagaaa agaaaa gaaaac aaaaca aaacag aacagg acaggg caggga agggag gggagc ggagca gagcag agcagt gcagta cagtac agtacc gtacca taccaa accaag ccaagt caagtg aagtgg agtggt gtggtg tggtga ggtgat gtgatt tgattc gattca attcaa ttcaag tcaagc caagcc aagcca agccaa gccaag ccaagg caagga aaggat aggata ggatat gatatg atatgg tatggg atgggc tgggcg gggcgg ggcggc gcggcc cggcca ggccag gccaga ccagat cagatg agatgg gatggg atggga tgggag gggagg ggagga gaggat aggatt ggatta gattat attatc ttatct tatctg atctgg tctggg ctggga tgggac gggacc ggacca gaccac accacc ccacca caccac accacc ccaccg caccgt accgtg ccgtga cgtgaa gtgaac tgaaca gaacat aacatc acatca catcac atcaca tcacac cacact acactg cactga actgac ctgact tgactg gactga actgat ctgatg tgatgt gatgtc atgtca tgtcaa gtcaac tcaacg caacga aacgac acgaca cgacaa gacaac acaacc caaccc aaccct accctc ccctcc cctccc ctcccc tccccg ccccga cccgat ccgatt cgattc gattcc attccc ttcccc tccccc ccccca ccccag cccaga ccagag cagagt agagta gagtac agtaca gtacat tacata acatac catacc atacca taccag accagt ccagtt cagttt agttta gtttaa tttaaa ttaaaa taaaac aaaact aaactc aactcc actcct ctcctg tcctga cctgaa ctgaat tgaatc gaatct aatctt atcttc tcttct cttctc ttctcc tctcca ctccac tccacc ccaccg caccgg accggg ccgggg cgggga ggggac gggaca ggacac gacacc acacca caccaa accaat ccaatt caattg aattgg attggc ttggca tggcag ggcaga gcagaa cagaat agaatc gaatca aatcaa atcaaa tcaaag caaagc aaagcc aagcca agccag gccagc ccagcg cagcga agcgac gcgacg cgacgc gacgct acgctg cgctga gctgat ctgatg tgatgt gatgtg atgtgg tgtggg gtggga tgggag gggaga ggagaa gagaaa agaaaa gaaaat aaaatg aaatgc aatgct atgctg tgctga gctgaa ctgaaa tgaaat gaaatt aaattg aattga attgag ttgagt tgagta gagtac agtaca gtacag tacagc acagca cagcat agcatc gcatca catcac atcaca tcacag cacaga acagac cagacg agacgg gacggt acggtg cggtga ggtgag gtgagg tgaggg gagggg aggggc ggggct gggctg ggctgg gctgga ctggat tggata ggatat gatatg atatgt tatgtt atgttt tgtttg gtttga tttgat ttgatg tgatgt gatgtc atgtca tgtcat gtcatc tcatca catcac atcacc tcaccg caccga accgac ccgacc cgacca gaccag accagg ccagga caggaa aggaaa ggaaac gaaacc aaaccc aaccca acccag cccagg ccagga caggaa aggaag ggaagg gaaggg aaggga agggat gggatt ggatta gattat attata ttataa tataac ataact taactg aactgt actgtc ctgtca tgtcaa gtcaaa tcaaaa caaaaa aaaaag aaaagc aaagct aagctc agctct gctctt ctcttg tcttgg cttgga ttggac tggact ggactt gacttt actttg ctttga tttgaa ttgaaa tgaaaa gaaaag aaaaga aaagaa aagaag agaaga gaagaa aagaaa agaaag gaaagt aaagtg aagtgt agtgta gtgtat tgtata gtatac tatacc ataccc taccct accctt ccctta ccttaa cttaaa ttaaag taaagt aaagtg aagtgg agtgga gtggaa tggaag ggaagc gaagcc aagcct agcctc gcctcc cctcca ctccaa tccaat ccaatc caatcc aatcct atcctt tcctta ccttat cttatg ttatgt tatgtt atgttg tgttga gttgag ttgagc tgagcc gagcca agccac gccacg ccacga cacgat acgatt cgattt gatttc atttct tttctc ttctct tctcta ctctac tctact ctactt tacttg acttgg cttggg ttgggg tggggc ggggcc gggcct ggcctt gccttt cctttc ctttca tttcaa ttcaaa tcaaag caaaga aaagat aagatt agattc gattca attcag ttcagc tcagcc cagcca agccac gccacg ccacgg cacggt acggtt cggtta ggttag gttaga ttagaa tagaat agaatt gaattg aattgt attgtg ttgtgg tgtggt gtggtg tggtgg ggtgga gtggag tggagg ggagga gaggat aggatg ggatgt gatgta atgtag tgtaga gtagat tagatg agatga gatgag atgagc tgagcc gagcca agccac gccacc ccacct cacctg acctgt cctgtc ctgtct tgtctt gtcttc tcttca cttcag ttcagc tcagca cagcaa agcaaa gcaaac caaact aaactg aactgg actggc ctggcc tggcct ggccta gcctac cctaca ctacat tacatc acatct catctt atctta tcttac cttaca ttacaa tacaaa acaaat caaata aaataa aataag ataaga taagag aagaga agagaa gagaag agaaga gaagat aagatg agatgc gatgct atgctc tgctca gctcag ctcaga tcagat cagata agataa gataaa ataaac taaaca aaacac aacacc acacca caccac accaca ccacaa cacaat acaata caatag aatagg ataggc taggct aggctc ggctcc gctccg ctccgt tccgtc ccgtca cgtcac gtcaca tcacag cacagc acagcc cagccc agccca gcccaa cccaag ccaaga caagat aagatc agatcc gatcca atccag tccaga ccagat cagatg agatgc gatgct atgctg tgctgc gctgcc ctgcca tgccag gccagg ccagga caggaa aggaat ggaatc gaatcc aatcct atcctg tcctgt cctgtc ctgtca tgtcaa gtcaag tcaagt caagta aagtac agtact gtactc tactct actctg ctctgt tctgta ctgtag tgtaga gtagat tagatc agatcg gatcga atcgac tcgaca cgacac gacaca acacac cacaca acacag cacaga acagat cagata agatat gatatg atatgg tatgga atggac tggaca ggacag gacaga acagaa cagaat agaata gaatat aatatt atattc tattca attcaa ttcaac tcaaca caacat aacatt acattg cattga attgat ttgatt tgattc gattct attctg ttctgg tctgga ctggaa tggaaa ggaaat gaaatg aaatgg aatggt atggtt tggttc ggttcg gttcga ttcgat tcgatt cgattt gatttt attttt ttttta ttttac tttaca ttacat tacatc acatcg catcga atcgaa tcgaaa cgaaac gaaact aaactt aacttc acttct cttctt ttcttg tcttga cttgac ttgacc tgaccg gaccga accgag ccgaga cgagaa gagaaa agaaac gaaaca aaacac aacact acactg cactgc actgct ctgcta tgctat gctatg ctatgg tatggc atggca tggcac ggcaca gcacaa cacaac acaaca caacat aacatt acatta cattac attaca ttacag tacagt acagtg cagtga agtgat gtgata tgatag gatagc atagca tagcaa agcaac gcaaca caacag aacaga acagag cagaga agagat gagatc agatca gatcaa atcaat tcaata caataa aataat ataatc taatcc aatcca atccaa tccaaa ccaaag caaagc aaagca aagcaa agcaaa gcaaag caaagt aaagta aagtag agtagt gtagtc tagtcg agtcga gtcgag tcgagt cgagta gagtac agtacc gtacct tacctc acctct cctcta ctctat tctata ctatat tatata atatat tatatt atatta tattaa attaaa ttaaag taaagt aaagtt aagttc agttct gttcta ttctag tctaga ctagat tagatg agatgt gatgtc atgtca tgtcaa gtcaat tcaatg caatga aatgac atgaca tgacaa gacaac acaacg caacgc aacgcc acgccc cgcccc gcccca ccccag cccaga ccagaa cagaat agaatt gaattt aatttg atttgc tttgct ttgctg tgctga gctgag ctgagt tgagtt gagttc agttct gttcta ttctat tctatg ctatga tatgaa atgaaa tgaaac gaaact aaactt aacttt actttt cttttg ttttgt tttgtc ttgtct tgtctg gtctgt tctgtg ctgtga tgtgaa gtgaaa tgaaaa gaaaaa aaaaag aaaagc aaagca aagcaa agcaaa gcaaag caaagg aaaggc aaggca aggcag ggcaga gcagat cagatc agatca gatcag atcagt tcagtt cagttg agttga gttgat ttgatt tgattc gattca attcag ttcaga tcagac cagacc agaccc gaccct accctg ccctgc cctgca ctgcat tgcatg gcatgc catgct atgctg tgctgt gctgtt ctgttg tgttga gttgac ttgaca tgacaa gacaag acaagg caagga aaggat aggatg ggatga gatgac atgacc tgaccc gaccct accctt ccctta ccttat cttata ttatag tatagt atagtg tagtgg agtgga gtggac tggaca ggacac gacacc acacca caccaa accaat ccaatt caattt aatttt attttc ttttcg tttcgt ttcgtt tcgttt cgtttt gttttc ttttcc tttcct ttcctt tccttg ccttgg cttggc ttggcc tggccc ggcccc gcccct cccctg ccctga cctgaa ctgaag tgaagc gaagca aagcag agcagc gcagcc cagcca agccag gccagt ccagtg cagtgg agtggc gtggct tggctc ggctca gctcaa ctcaaa tcaaac caaact aaactt aacttt acttta ctttac tttacc ttacca taccat accatt ccattc cattca attcaa ttcaag tcaaga caagac aagaca agacaa gacaac acaaca caacaa aacaaa acaaag caaaga aaagac aagaca agacaa gacaac acaaca caacac aacacg acacgg cacggc acggcg cggcgg ggcggg gcggga cgggaa gggaat ggaatc gaatct aatctt atctta tcttaa cttaac ttaact taactc aactcg actcgg ctcgga tcggaa cggaaa ggaaaa gaaaaa aaaaat aaaatg aaatgg aatggc atggct tggcta ggctat gctata ctataa tataat ataata taatag aataga atagac tagaca agacac gacacg acacga cacgag acgaga cgagat gagatg agatga gatgag atgagc tgagca gagcac agcacc gcacct caccta acctat cctatc ctatct tatctc atctct tctctt ctcttg tcttgc cttgcc ttgcct tgcctg gcctgt cctgtg ctgtgg tgtggt gtggtc tggtca ggtcat gtcatt tcattt catttc atttca tttcag ttcaga tcagac cagaca agacaa gacaac acaacg caacga aacgac acgact cgacta gactac actacc ctaccc taccca acccag cccagt ccagtt cagttc agttca gttcaa ttcaaa tcaaag caaagc aaagca aagcag agcagc gcagca cagcac agcact gcactg cactgg actggg ctggga tgggac gggaca ggacag gacagt acagtg cagtga agtgac gtgact tgactg gactgt actgtc ctgtcc tgtccg gtccgg tccggg ccgggt cgggtc gggtct ggtctg gtctgt tctgtg ctgtgc tgtgca gtgcat tgcatg gcatgt catgtg atgtga tgtgac gtgacc tgacca gaccac accacc ccacca caccac accacg ccacgg cacggg acggga cgggaa gggaac ggaaca gaacat aacatg acatgc catgca atgcaa tgcaat gcaatc caatcc aatcct atcctg tcctgc cctgcc ctgcca tgccat gccatg ccatgc catgcg atgcgg tgcgga gcggag cggagg ggaggc gaggcg aggcgc ggcgct gcgctc cgctca gctcat ctcatc tcatcc catcca atccac tccacc ccaccc cacccc acccca ccccac cccacg ccacgg cacggg acggga cgggac gggact ggactg gactga actgag ctgagc tgagca gagcac agcacg gcacgg cacggg acgggg cggggg gggggc ggggct gggctc ggctct gctctg ctctgg tctggt ctggtt tggttg ggttgc gttgcc ttgcca tgccat gccatc ccatcc catcct atcctt tccttc ccttct cttctg ttctgt tctgtg ctgtgc tgtgca gtgcat tgcatc gcatcg catcgt atcgtg tcgtga cgtgat gtgatc tgatcc gatcct atccta tcctac cctact ctacta tactag actagt ctagtg tagtga agtgac gtgaca tgacag gacagt acagtg cagtgg agtggt gtggtg tggtgc ggtgct gtgctg tgctgt gctgtt ctgttt tgtttg gtttgc tttgca ttgcag tgcagc gcagct cagctc agctct gctctg ctctga tctgag ctgagg tgaggc gaggcg aggcgg ggcggc gcggca cggcag ggcagc gcagcg cagcga agcgaa gcgaaa cgaaaa gaaaaa aaaaaa aaaaaa aaaaag aaaaga aaagag aagagc agagcc gagcct agcctt gccttt cctttg ctttga tttgat ttgatc tgatca gatcat atcatt tcattt catttc atttcc tttcca ttccaa tccaaa ccaaag caaaga aaagag aagagg agagga gaggac aggaca ggacat gacatc acatca catcag atcaga tcagag cagaga agagat gagata agataa gataac ataaca taacat aacatt acattg cattgt attgtc ttgtca tgtcag gtcagt tcagtt cagtta agttac gttaca ttacaa tacaac acaacg caacga aacgac acgacg cgacga gacgaa acgaag cgaagg gaaggt aaggtg aggtgg ggtggt gtggtg tggtgg ggtgga gtggag tggaga ggagag gagagg agagga gaggag aggagg ggagga gaggac aggaca ggacac gacacc acaccc caccca acccag cccagg ccaggc caggct aggctt ggcttt gctttt cttttg ttttga tttgat ttgata tgatat gatatc atatcg tatcgg atcggc tcggca cggcac ggcacc gcaccc caccct accctg ccctga cctgag ctgagg tgagga gaggaa aggaat ggaatc gaatcc aatcct atcctg tcctga cctgaa ctgaag tgaagc gaagcc aagcca agccat gccata ccatag cataga atagag tagagg agagga gaggac aggaca ggacaa gacaac acaaca caacaa aacaaa acaaat caaatt aaatta aattac attacg ttacga tacgaa acgaag cgaagg gaaggg aaggga agggac gggaca ggacat gacatt acattg cattgt attgtg ttgtgc tgtgcc gtgccc tgcccg gcccga cccgaa ccgaag cgaagc gaagcc aagccc agccct gccctt cccttt cctttt cttttc ttttcc tttcct ttccta tcctac cctacc ctaccc tacccc accccg ccccga cccgac ccgacg cgacgg gacgga acggac cggact ggactc gactcc actcca ctccaa tccaac ccaaca caacag aacagc acagct cagctc agctcg gctcgc ctcgcg tcgcga cgcgac gcgaca cgacaa gacaac acaaca caacac aacacc acaccg caccga accgat ccgatg cgatgt gatgtc atgtca tgtcag gtcaga tcagag cagaga agagat gagatt agattt gatttc atttca tttcat ttcatt tcatta cattaa attaac ttaacc taacca aaccaa accaaa ccaaag caaagg aaaggt aaggtt aggtta ggttaa gttaaa ttaaag taaagg aaagga aaggaa aggaaa ggaaaa gaaaat aaaatg aaatga aatgac atgaca tgacac gacacg acacgg cacgga acggac cggacc ggaccc gacccc acccca ccccac cccact ccactg cactgc actgcc ctgccc tgcccc gccccg ccccgc cccgcc ccgcca cgccat gccata ccatac catacg atacga tacgac acgact cgactc gactcc actcct ctcctt tccttg ccttgg cttggc ttggcc tggcca ggccac gccact ccactt cactta acttac cttacg ttacgc tacgcc acgcct cgccta gcctat cctatg ctatga tatgaa atgaag tgaagg gaaggc aaggca aggcac ggcact gcactg cactgg actggc ctggct tggctc ggctcc gctccg ctccgt tccgtg ccgtgg cgtggc gtggcg tggcgg ggcgga gcggat cggatt ggattc gattcc attccc ttccct tccctg ccctga cctgag ctgagc tgagct gagctc agctcg gctcgc ctcgct tcgctg cgctgg gctgga ctggag tggagt ggagtc gagtca agtcag gtcagt tcagtg cagtga agtgac gtgacc tgacca gaccac accacg ccacgg cacgga acggat cggatg ggatgc gatgca atgcag tgcaga gcagat cagatc agatca gatcaa atcaag tcaaga caagac aagact agacta gactat actatg ctatga tatgat atgatt tgatta gattac attacc ttacct tacctt acctta ccttag cttagt ttagtg tagtga agtgac gtgact tgactg gactgg actggg ctgggg tgggga ggggac gggacc ggacct gacctc acctcg cctcga ctcgat tcgatt cgattc gattca attcaa ttcaaa tcaaaa caaaaa aaaaag aaaagc aaagct aagctt agcttg gcttgc cttgca ttgcag tgcaga gcagat cagata agatat gatatg atatgt tatgta atgtat tgtatg gtatgg tatgga atggag tggagg ggagga gaggag aggagt ggagtg gagtgg agtgga gtggac tggaca ggacag gacagt acagtg cagtga agtgac gtgaca tgacaa gacaaa acaaag caaaga aaagac aagact agactc gactcc actcct ctccta tcctaa\n",
      "[1 0 1 ... 1 0 0]\n"
     ]
    }
   ],
   "source": [
    "print(texts[2])\n",
    "print(y_data)"
   ]
  },
  {
   "cell_type": "code",
   "execution_count": 46,
   "id": "18d8a15a",
   "metadata": {},
   "outputs": [],
   "source": [
    "from sklearn.feature_extraction.text import CountVectorizer\n",
    "cv = CountVectorizer(ngram_range=(4,4))\n",
    "X = cv.fit_transform(texts)"
   ]
  },
  {
   "cell_type": "code",
   "execution_count": 47,
   "id": "f6ba3d35",
   "metadata": {},
   "outputs": [],
   "source": [
    "#y=Validation/test labels;z = prediction scores\n",
    "def plotROC(y,z,pstr=''):\n",
    "    #fpr=false positive rate;tpr = true positive rate;tt = threshold \n",
    "    fpr,tpr,tt=roc_curve(y,z)\n",
    "    #Find area under the curve for ROC\n",
    "    roc_auc = auc(fpr,tpr)\n",
    "    plt.figure()\n",
    "    plt.plot(tt,fpr,'o--',tt,tpr,'x--');plt.xlabel('threshold');plt.ylabel('Percentage');plt.legend(['FPR','TPR']);plt.grid();plt.title(pstr)\n",
    "    plt.figure()\n",
    "    plt.plot(fpr,tpr,'o--');plt.xlabel('FPR');plt.ylabel('TPR');plt.grid();plt.title('ROC '+pstr+' AUC: '+str(roc_auc))\n",
    "    return roc_auc\n",
    "\n",
    "#y=Validation/test labels;z = prediction scores\n",
    "def plotPRC(y,z,pstr=''):\n",
    "    P, R, tt = precision_recall_curve(y,z)\n",
    "    pr_auc = average_precision_score(y,z)\n",
    "    plt.figure()\n",
    "    plt.plot(tt,R[:-1],'o--',tt,P[:-1],'x--');plt.xlabel('threshold');plt.ylabel('Percentage');plt.legend(['Recall','Precision']);plt.grid();plt.title(pstr)\n",
    "    plt.figure()\n",
    "    plt.plot(R,P,'o--');plt.xlabel('Recall');plt.ylabel('Precision');plt.grid();plt.title('PRC '+pstr+' AUC: '+str(pr_auc))\n",
    "    return pr_auc"
   ]
  },
  {
   "cell_type": "code",
   "execution_count": 48,
   "id": "e1603c62",
   "metadata": {},
   "outputs": [],
   "source": [
    "# Splitting the dataset into the training set and test set\n",
    "from sklearn.model_selection import StratifiedKFold\n",
    "from sklearn.naive_bayes import MultinomialNB\n",
    "nbclassifier = MultinomialNB(alpha=0.1)\n",
    "# nbclassifier.fit(X_train, y_train)\n",
    "#Initialising the startified k-fold CV with 5 folds\n",
    "skf = StratifiedKFold(n_splits=5)\n",
    "#Lists to hold, Accuracy, AUC-ROC, AUC-PR for all the 5 folds\n",
    "accuracy_stratified = []\n",
    "roc_auc_stratified = []\n",
    "pr_auc_stratified = []\n",
    "from sklearn.model_selection import train_test_split\n",
    "X_train, X_test, y_train, y_test = train_test_split(texts, \n",
    "                                                    y_data, \n",
    "                                                    test_size = 0.20, \n",
    "                                                    random_state=42)"
   ]
  },
  {
   "cell_type": "code",
   "execution_count": 49,
   "id": "e49c5ed9",
   "metadata": {
    "scrolled": true
   },
   "outputs": [
    {
     "name": "stdout",
     "output_type": "stream",
     "text": [
      "Fold  0 Accuracy: 0.7555052106932487\n",
      "Fold  0 AUC ROC: 0.8281038176787763\n",
      "Fold  0 AUC PR: 0.7414115439006019\n",
      "Fold  1 Accuracy: 0.7422745808790213\n",
      "Fold  1 AUC ROC: 0.81765919569462\n",
      "Fold  1 AUC PR: 0.720944735699113\n",
      "Fold  2 Accuracy: 0.7650203896692342\n",
      "Fold  2 AUC ROC: 0.8367455912023323\n",
      "Fold  2 AUC PR: 0.7565939798984643\n",
      "Fold  3 Accuracy: 0.7228566249773427\n",
      "Fold  3 AUC ROC: 0.786697663008856\n",
      "Fold  3 AUC PR: 0.6817014325809735\n",
      "Fold  4 Accuracy: 0.7313757476889614\n",
      "Fold  4 AUC ROC: 0.7944524731878719\n",
      "Fold  4 AUC PR: 0.6931546321439989\n"
     ]
    },
    {
     "data": {
      "image/png": "[encoded data removed]",
      "text/plain": [
       "<Figure size 432x288 with 1 Axes>"
      ]
     },
     "metadata": {
      "needs_background": "light"
     },
     "output_type": "display_data"
    },
    {
     "data": {
      "image/png": "[encoded data removed]",
      "text/plain": [
       "<Figure size 432x288 with 1 Axes>"
      ]
     },
     "metadata": {
      "needs_background": "light"
     },
     "output_type": "display_data"
    },
    {
     "data": {
      "image/png": "[encoded data removed]",
      "text/plain": [
       "<Figure size 432x288 with 1 Axes>"
      ]
     },
     "metadata": {
      "needs_background": "light"
     },
     "output_type": "display_data"
    },
    {
     "data": {
      "image/png": "[encoded data removed]",
      "text/plain": [
       "<Figure size 432x288 with 1 Axes>"
      ]
     },
     "metadata": {
      "needs_background": "light"
     },
     "output_type": "display_data"
    },
    {
     "data": {
      "image/png": "[encoded data removed]",
      "text/plain": [
       "<Figure size 432x288 with 1 Axes>"
      ]
     },
     "metadata": {
      "needs_background": "light"
     },
     "output_type": "display_data"
    },
    {
     "data": {
      "image/png": "[encoded data removed]",
      "text/plain": [
       "<Figure size 432x288 with 1 Axes>"
      ]
     },
     "metadata": {
      "needs_background": "light"
     },
     "output_type": "display_data"
    },
    {
     "data": {
      "image/png": "[encoded data removed]",
      "text/plain": [
       "<Figure size 432x288 with 1 Axes>"
      ]
     },
     "metadata": {
      "needs_background": "light"
     },
     "output_type": "display_data"
    },
    {
     "data": {
      "image/png": "[encoded data removed]",
      "text/plain": [
       "<Figure size 432x288 with 1 Axes>"
      ]
     },
     "metadata": {
      "needs_background": "light"
     },
     "output_type": "display_data"
    },
    {
     "data": {
      "image/png": "[encoded data removed]",
      "text/plain": [
       "<Figure size 432x288 with 1 Axes>"
      ]
     },
     "metadata": {
      "needs_background": "light"
     },
     "output_type": "display_data"
    },
    {
     "data": {
      "image/png": "[encoded data removed]",
      "text/plain": [
       "<Figure size 432x288 with 1 Axes>"
      ]
     },
     "metadata": {
      "needs_background": "light"
     },
     "output_type": "display_data"
    },
    {
     "data": {
      "image/png": "[encoded data removed]",
      "text/plain": [
       "<Figure size 432x288 with 1 Axes>"
      ]
     },
     "metadata": {
      "needs_background": "light"
     },
     "output_type": "display_data"
    },
    {
     "data": {
      "image/png": "[encoded data removed]",
      "text/plain": [
       "<Figure size 432x288 with 1 Axes>"
      ]
     },
     "metadata": {
      "needs_background": "light"
     },
     "output_type": "display_data"
    },
    {
     "data": {
      "image/png": "[encoded data removed]",
      "text/plain": [
       "<Figure size 432x288 with 1 Axes>"
      ]
     },
     "metadata": {
      "needs_background": "light"
     },
     "output_type": "display_data"
    },
    {
     "data": {
      "image/png": "[encoded data removed]",
      "text/plain": [
       "<Figure size 432x288 with 1 Axes>"
      ]
     },
     "metadata": {
      "needs_background": "light"
     },
     "output_type": "display_data"
    },
    {
     "data": {
      "image/png": "[encoded data removed]",
      "text/plain": [
       "<Figure size 432x288 with 1 Axes>"
      ]
     },
     "metadata": {
      "needs_background": "light"
     },
     "output_type": "display_data"
    },
    {
     "data": {
      "image/png": "[encoded data removed]",
      "text/plain": [
       "<Figure size 432x288 with 1 Axes>"
      ]
     },
     "metadata": {
      "needs_background": "light"
     },
     "output_type": "display_data"
    },
    {
     "data": {
      "image/png": "[encoded data removed]",
      "text/plain": [
       "<Figure size 432x288 with 1 Axes>"
      ]
     },
     "metadata": {
      "needs_background": "light"
     },
     "output_type": "display_data"
    },
    {
     "data": {
      "image/png": "[encoded data removed]",
      "text/plain": [
       "<Figure size 432x288 with 1 Axes>"
      ]
     },
     "metadata": {
      "needs_background": "light"
     },
     "output_type": "display_data"
    },
    {
     "data": {
      "image/png": "[encoded data removed]",
      "text/plain": [
       "<Figure size 432x288 with 1 Axes>"
      ]
     },
     "metadata": {
      "needs_background": "light"
     },
     "output_type": "display_data"
    },
    {
     "data": {
      "image/png": "[encoded data removed]",
      "text/plain": [
       "<Figure size 432x288 with 1 Axes>"
      ]
     },
     "metadata": {
      "needs_background": "light"
     },
     "output_type": "display_data"
    }
   ],
   "source": [
    "# X : Training data and y : Is the training labels\n",
    "# Function to return the Accuracy, AUC-ROC, AUC-PR values in the form of list for all folds\n",
    "def modeloutputmetrics(X,y):\n",
    "    for i, (tr_idx, v_idx) in enumerate(skf.split(X, y)):\n",
    "        Xtr, Xv = X[tr_idx], X[v_idx]\n",
    "        ytr, yv = y[tr_idx], y[v_idx]\n",
    "        #Fit the model\n",
    "        nbclassifier.fit(Xtr, ytr)\n",
    "        #Finding the score\n",
    "        score_nb = nbclassifier.score(Xv,yv)\n",
    "        accuracy_stratified.append(score_nb)\n",
    "        print('Fold ',i,'Accuracy:',score_nb)\n",
    "        #Predicting the scores on the validation set\n",
    "        z = nbclassifier.predict_proba(Xv)[:,1]\n",
    "        #Plotting AUC-ROC curve\n",
    "        roc_auc = plotROC(yv,z,pstr='Validation fold: ' + str(i))\n",
    "        roc_auc_stratified.append(roc_auc)\n",
    "        print('Fold ',i,'AUC ROC:',roc_auc)\n",
    "        #Plotting AUC-PR curves\n",
    "        pr_auc = plotPRC(yv,z,pstr='Validation fold: ' + str(i))\n",
    "        pr_auc_stratified.append(pr_auc)\n",
    "        print('Fold ',i,'AUC PR:',pr_auc)\n",
    "    return accuracy_stratified,roc_auc_stratified,pr_auc_stratified\n",
    "\n",
    "# Calculating the Accuracy, AUC-ROC, AUC-PR values\n",
    "acc,roc,pr = modeloutputmetrics(X,y_data)"
   ]
  },
  {
   "cell_type": "code",
   "execution_count": 50,
   "id": "e0572747",
   "metadata": {},
   "outputs": [
    {
     "name": "stdout",
     "output_type": "stream",
     "text": [
      "The mean of accuracies across all folds is: 0.7434065107815616\n",
      "The standard deviation of accuracies across all folds is: 0.015374372394247592\n",
      "The mean of AUC-ROC across all folds is: 0.8127317481544912\n",
      "The standard deviation of AUC-ROC across all folds is: 0.019230966701245033\n",
      "The mean of AUC-PR across all folds is: 0.7187612648446303\n",
      "The standard deviation of AUC-PR across all folds is: 0.028207260839385975\n"
     ]
    }
   ],
   "source": [
    "import numpy as np\n",
    "# Calculating the mean and standard deviation for all the performance metrics across folds\n",
    "print('The mean of accuracies across all folds is: ' + str(np.mean(acc)))\n",
    "print('The standard deviation of accuracies across all folds is: ' + str(np.std(acc)))\n",
    "print('The mean of AUC-ROC across all folds is: ' + str(np.mean(roc)))\n",
    "print('The standard deviation of AUC-ROC across all folds is: ' + str(np.std(roc)))\n",
    "print('The mean of AUC-PR across all folds is: ' + str(np.mean(pr)))\n",
    "print('The standard deviation of AUC-PR across all folds is: ' + str(np.std(pr)))"
   ]
  },
  {
   "cell_type": "code",
   "execution_count": 51,
   "id": "94f6f98e",
   "metadata": {},
   "outputs": [],
   "source": [
    "#y_pred = nbclassifier.predict(X_test)"
   ]
  },
  {
   "cell_type": "code",
   "execution_count": 52,
   "id": "7574f6dc",
   "metadata": {},
   "outputs": [],
   "source": [
    "from sklearn.metrics import accuracy_score, f1_score, precision_score, recall_score\n",
    "# print(\"Confusion matrix\\n\")\n",
    "# print(pd.crosstab(pd.Series(y_test, name='Actual'), pd.Series(y_pred, name='Predicted')))\n",
    "# def get_metrics(y_test, y_predicted):\n",
    "#     accuracy = accuracy_score(y_test, y_predicted)\n",
    "#     precision = precision_score(y_test, y_predicted, average='weighted')\n",
    "#     recall = recall_score(y_test, y_predicted, average='weighted')\n",
    "#     f1 = f1_score(y_test, y_predicted, average='weighted')\n",
    "#     return accuracy, precision, recall, f1\n",
    "# accuracy, precision, recall, f1 = get_metrics(y_test, y_pred)\n",
    "# print(\"accuracy = %.3f \\nprecision = %.3f \\nrecall = %.3f \\nf1 = %.3f\" % (accuracy, precision, recall, f1))"
   ]
  },
  {
   "cell_type": "code",
   "execution_count": 53,
   "id": "8bae5224",
   "metadata": {},
   "outputs": [],
   "source": [
    "def ROC(y,z,pstr=''):\n",
    "    fpr,tpr,tt=roc_curve(y,z)\n",
    "    roc_auc = auc(fpr,tpr)\n",
    "    return roc_auc\n",
    "\n",
    "def PRC(y,z,pstr=''):\n",
    "    P, R, tt = precision_recall_curve(y,z)\n",
    "    pr_auc = average_precision_score(y,z)\n",
    "    return pr_auc"
   ]
  },
  {
   "cell_type": "code",
   "execution_count": 56,
   "id": "b68416f6",
   "metadata": {},
   "outputs": [],
   "source": [
    "from sklearn.svm import SVC\n",
    "from sklearn.linear_model import LogisticRegression,Perceptron\n",
    "pr = Perceptron(max_iter=100, tol=0.001)\n",
    "svc_linear = SVC(C = 2, kernel='linear')\n",
    "svc_kernel = SVC(C = 2, kernel='rbf', gamma='scale')\n",
    "lr=LogisticRegression(C = 0.0018329807108324356,max_iter = 1000,penalty = 'l2')\n",
    "acc_pr, acc_lr, acc_linsvc, acc_kersvc = [],[],[],[]\n",
    "roc_pr, roc_lr, roc_linsvc, roc_kersvc = [],[],[],[]\n",
    "pr_perc, pr_lr, pr_linsvc, pr_kersvc = [],[],[],[]"
   ]
  },
  {
   "cell_type": "code",
   "execution_count": 58,
   "id": "a3fddb95",
   "metadata": {},
   "outputs": [
    {
     "name": "stdout",
     "output_type": "stream",
     "text": [
      "Perceptron:\n",
      "Mean accuracy for Perceptron:  0.8561795969602215\n",
      "Standard deviation of accuracy for Perceptron:  0.0030088979707706826\n",
      "Mean AUC-ROC for Perceptron:  0.8984544828049208\n",
      "Standard deviation of AUC-ROC for Perceptron:  0.004202071951651967\n",
      "Mean AUC-PR for Perceptron:  0.856514930441534\n",
      "Standard deviation of AUC-PR for Perceptron:  0.0030589889902564137\n",
      "*****************************************************************************************\n",
      "Logistic Regression:\n",
      "Mean accuracy for Logistic Regression:  0.8405559124045388\n",
      "Standard deviation of accuracy for Logistic Regression:  0.004463919123685327\n",
      "Mean AUC-ROC for Logistic Regression:  0.9190001289530463\n",
      "Standard deviation of AUC-ROC for Logistic Regression:  0.0037815614685902305\n",
      "Mean AUC-PR for Logistic Regression:  0.8819505567615284\n",
      "Standard deviation of AUC-PR for Logistic Regression:  0.004256091281303137\n",
      "*****************************************************************************************\n"
     ]
    }
   ],
   "source": [
    "for i, (train_index, test_index) in enumerate(skf.split(X, y_data)):\n",
    "    Xtr_bst, Xv_bst, ytr_bst, yv_bst = X[train_index], X[test_index], y_data[train_index], y_data[test_index]\n",
    "    #############################################################################################\n",
    "    # Perceptron\n",
    "    pr.fit(Xtr_bst, ytr_bst)\n",
    "    acc_pr.append(pr.score(Xv_bst, yv_bst))\n",
    "    z_pr = pr.decision_function(Xv_bst)\n",
    "    roc_pr.append(ROC(yv_bst,z_pr,pstr='Validation fold: ' + str(i)))\n",
    "    pr_perc.append(PRC(yv_bst,z_pr,pstr='Validation fold: ' + str(i)))\n",
    "    #############################################################################################\n",
    "    # Logistic Regression\n",
    "    lr.fit(Xtr_bst, ytr_bst)\n",
    "    acc_lr.append(lr.score(Xv_bst, yv_bst))\n",
    "    z_lr = lr.decision_function(Xv_bst)\n",
    "    roc_lr.append(ROC(yv_bst,z_lr,pstr='Validation fold: ' + str(i)))\n",
    "    pr_lr.append(PRC(yv_bst,z_lr,pstr='Validation fold: ' + str(i)))\n",
    "    #############################################################################################\n",
    "#     # Linear SVM\n",
    "#     svc_linear.fit(Xtr_bst, ytr_bst)\n",
    "#     acc_linsvc.append(svc_linear.score(Xv_bst, yv_bst))\n",
    "#     z_lin = svc_linear.decision_function(Xv_bst)\n",
    "#     roc_linsvc.append(ROC(yv_bst,z_lin,pstr='Validation fold: ' + str(i)))\n",
    "#     pr_linsvc.append(PRC(yv_bst,z_lin,pstr='Validation fold: ' + str(i)))\n",
    "#     #############################################################################################\n",
    "#     # Kernel SVM\n",
    "#     svc_kernel.fit(Xtr_bst, ytr_bst)\n",
    "#     acc_kersvc.append(svc_kernel.score(Xv_bst, yv_bst))\n",
    "#     z_ker = svc_kernel.decision_function(Xv_bst)\n",
    "#     roc_kersvc.append(ROC(yv_bst,z_ker,pstr='Validation fold: ' + str(i)))\n",
    "#     pr_kersvc.append(PRC(yv_bst,z_ker,pstr='Validation fold: ' + str(i)))\n",
    "    #############################################################################################\n",
    "    \n",
    "print(\"Perceptron:\")\n",
    "print(\"Mean accuracy for Perceptron: \", np.mean(acc_pr))\n",
    "print(\"Standard deviation of accuracy for Perceptron: \", np.std(acc_pr))\n",
    "print(\"Mean AUC-ROC for Perceptron: \", np.mean(roc_pr))\n",
    "print(\"Standard deviation of AUC-ROC for Perceptron: \", np.std(roc_pr))\n",
    "print(\"Mean AUC-PR for Perceptron: \", np.mean(pr_perc))\n",
    "print(\"Standard deviation of AUC-PR for Perceptron: \", np.std(pr_perc))\n",
    "print(\"*****************************************************************************************\")\n",
    "print(\"Logistic Regression:\")\n",
    "print(\"Mean accuracy for Logistic Regression: \", np.mean(acc_lr))\n",
    "print(\"Standard deviation of accuracy for Logistic Regression: \", np.std(acc_lr))\n",
    "print(\"Mean AUC-ROC for Logistic Regression: \", np.mean(roc_lr))\n",
    "print(\"Standard deviation of AUC-ROC for Logistic Regression: \", np.std(roc_lr))\n",
    "print(\"Mean AUC-PR for Logistic Regression: \", np.mean(pr_lr))\n",
    "print(\"Standard deviation of AUC-PR for Logistic Regression: \", np.std(pr_lr))\n",
    "print(\"*****************************************************************************************\")\n",
    "# print(\"Linear SVM:\")\n",
    "# print(\"Mean accuracy for Linear SVM: \", np.mean(acc_linsvc))\n",
    "# print(\"Standard deviation of accuracy for Linear SVM: \", np.std(acc_linsvc))\n",
    "# print(\"Mean AUC-ROC for Linear SVM: \", np.mean(roc_linsvc))\n",
    "# print(\"Standard deviation of AUC-ROC for Linear SVM: \", np.std(roc_linsvc))\n",
    "# print(\"Mean AUC-PR for Linear SVM: \", np.mean(pr_linsvc))\n",
    "# print(\"Standard deviation of AUC-PR for Linear SVM: \", np.std(pr_linsvc))\n",
    "# print(\"*****************************************************************************************\")\n",
    "# print(\"Kernel SVM:\")\n",
    "# print(\"Mean accuracy for Kernel SVM: \", np.mean(acc_kersvc))\n",
    "# print(\"Standard deviation of accuracy for Kernel SVM: \", np.std(acc_kersvc))\n",
    "# print(\"Mean AUC-ROC for Kernel SVM: \", np.mean(roc_kersvc))\n",
    "# print(\"Standard deviation of AUC-ROC for Kernel SVM: \", np.std(roc_kersvc))\n",
    "# print(\"Mean AUC-PR for Kernel SVM: \", np.mean(pr_kersvc))\n",
    "# print(\"Standard deviation of AUC-PR for Kernel SVM: \", np.std(pr_kersvc))\n",
    "# print(\"*****************************************************************************************\")"
   ]
  },
  {
   "cell_type": "code",
   "execution_count": 59,
   "id": "9ba7d5fc",
   "metadata": {},
   "outputs": [],
   "source": [
    "# seperating the texts to train and test\n",
    "X_train, X_test, y_train, y_test = train_test_split(texts,\n",
    "                                                    y_data,\n",
    "                                                   random_state=42,\n",
    "                                                   test_size=0.3,\n",
    "                                                   stratify=y_data)"
   ]
  },
  {
   "cell_type": "code",
   "execution_count": 60,
   "id": "a9553433",
   "metadata": {},
   "outputs": [
    {
     "data": {
      "text/plain": [
       "(38621, 16552)"
      ]
     },
     "execution_count": 60,
     "metadata": {},
     "output_type": "execute_result"
    }
   ],
   "source": [
    "len(X_train), len(X_test)"
   ]
  },
  {
   "cell_type": "code",
   "execution_count": 86,
   "id": "93f7fb97",
   "metadata": {},
   "outputs": [
    {
     "name": "stderr",
     "output_type": "stream",
     "text": [
      "WARNING: Ignoring invalid distribution -rotobuf (c:\\users\\harsh\\anaconda3\\envs\\dissertation\\lib\\site-packages)\n",
      "WARNING: Ignoring invalid distribution -rotobuf (c:\\users\\harsh\\anaconda3\\envs\\dissertation\\lib\\site-packages)\n",
      "WARNING: Ignoring invalid distribution -rotobuf (c:\\users\\harsh\\anaconda3\\envs\\dissertation\\lib\\site-packages)\n",
      "    WARNING: Ignoring invalid distribution -rotobuf (c:\\users\\harsh\\anaconda3\\envs\\dissertation\\lib\\site-packages)\n",
      "WARNING: Ignoring invalid distribution -rotobuf (c:\\users\\harsh\\anaconda3\\envs\\dissertation\\lib\\site-packages)\n",
      "WARNING: Ignoring invalid distribution -rotobuf (c:\\users\\harsh\\anaconda3\\envs\\dissertation\\lib\\site-packages)\n",
      "WARNING: Ignoring invalid distribution -rotobuf (c:\\users\\harsh\\anaconda3\\envs\\dissertation\\lib\\site-packages)\n",
      "WARNING: Ignoring invalid distribution -rotobuf (c:\\users\\harsh\\anaconda3\\envs\\dissertation\\lib\\site-packages)\n"
     ]
    }
   ],
   "source": [
    "#!pip install setuptools --upgrade\n",
    "#!pip uninstall tensorflow\n",
    "#!pip install wrapt --upgrade --ignore-installed\n",
    "#import tensorflow\n",
    "#!pip install absl-py\n",
    "#!pip install google\n",
    "#!pip install --upgrade google-api-python-client\n",
    "#!pip install --upgrade pip\n",
    "#!pip install --upgrade \"protobuf==3.20.1\"\n",
    "!pip install tensorflow>=2.9.1\n",
    "#!pip install 'protobuf<=3.20.1' --force-reinstall"
   ]
  },
  {
   "cell_type": "code",
   "execution_count": 80,
   "id": "dc4de85c",
   "metadata": {},
   "outputs": [
    {
     "ename": "TypeError",
     "evalue": "Descriptors cannot not be created directly.\nIf this call came from a _pb2.py file, your generated code is out of date and must be regenerated with protoc >= 3.19.0.\nIf you cannot immediately regenerate your protos, some other possible workarounds are:\n 1. Downgrade the protobuf package to 3.20.x or lower.\n 2. Set PROTOCOL_BUFFERS_PYTHON_IMPLEMENTATION=python (but this will use pure-Python parsing and will be much slower).\n\nMore information: https://developers.google.com/protocol-buffers/docs/news/2022-05-06#python-updates",
     "output_type": "error",
     "traceback": [
      "\u001b[1;31m---------------------------------------------------------------------------\u001b[0m",
      "\u001b[1;31mTypeError\u001b[0m                                 Traceback (most recent call last)",
      "Input \u001b[1;32mIn [80]\u001b[0m, in \u001b[0;36m<cell line: 2>\u001b[1;34m()\u001b[0m\n\u001b[0;32m      1\u001b[0m \u001b[38;5;66;03m# converting the labels to categorical one hot encoded format\u001b[39;00m\n\u001b[1;32m----> 2\u001b[0m \u001b[38;5;28;01mfrom\u001b[39;00m \u001b[38;5;21;01mtensorflow\u001b[39;00m\u001b[38;5;21;01m.\u001b[39;00m\u001b[38;5;21;01mkeras\u001b[39;00m\u001b[38;5;21;01m.\u001b[39;00m\u001b[38;5;21;01mutils\u001b[39;00m \u001b[38;5;28;01mimport\u001b[39;00m to_categorical\n\u001b[0;32m      3\u001b[0m y_train \u001b[38;5;241m=\u001b[39m to_categorical(y_train)\n\u001b[0;32m      4\u001b[0m y_test \u001b[38;5;241m=\u001b[39m to_categorical(y_test)\n",
      "File \u001b[1;32m~\\AppData\\Roaming\\Python\\Python39\\site-packages\\tensorflow\\__init__.py:37\u001b[0m, in \u001b[0;36m<module>\u001b[1;34m\u001b[0m\n\u001b[0;32m     34\u001b[0m \u001b[38;5;28;01mimport\u001b[39;00m \u001b[38;5;21;01msys\u001b[39;00m \u001b[38;5;28;01mas\u001b[39;00m \u001b[38;5;21;01m_sys\u001b[39;00m\n\u001b[0;32m     35\u001b[0m \u001b[38;5;28;01mimport\u001b[39;00m \u001b[38;5;21;01mtyping\u001b[39;00m \u001b[38;5;28;01mas\u001b[39;00m \u001b[38;5;21;01m_typing\u001b[39;00m\n\u001b[1;32m---> 37\u001b[0m \u001b[38;5;28;01mfrom\u001b[39;00m \u001b[38;5;21;01mtensorflow\u001b[39;00m\u001b[38;5;21;01m.\u001b[39;00m\u001b[38;5;21;01mpython\u001b[39;00m\u001b[38;5;21;01m.\u001b[39;00m\u001b[38;5;21;01mtools\u001b[39;00m \u001b[38;5;28;01mimport\u001b[39;00m module_util \u001b[38;5;28;01mas\u001b[39;00m _module_util\n\u001b[0;32m     38\u001b[0m \u001b[38;5;28;01mfrom\u001b[39;00m \u001b[38;5;21;01mtensorflow\u001b[39;00m\u001b[38;5;21;01m.\u001b[39;00m\u001b[38;5;21;01mpython\u001b[39;00m\u001b[38;5;21;01m.\u001b[39;00m\u001b[38;5;21;01mutil\u001b[39;00m\u001b[38;5;21;01m.\u001b[39;00m\u001b[38;5;21;01mlazy_loader\u001b[39;00m \u001b[38;5;28;01mimport\u001b[39;00m LazyLoader \u001b[38;5;28;01mas\u001b[39;00m _LazyLoader\n\u001b[0;32m     40\u001b[0m \u001b[38;5;66;03m# Make sure code inside the TensorFlow codebase can use tf2.enabled() at import.\u001b[39;00m\n",
      "File \u001b[1;32m~\\AppData\\Roaming\\Python\\Python39\\site-packages\\tensorflow\\python\\__init__.py:37\u001b[0m, in \u001b[0;36m<module>\u001b[1;34m\u001b[0m\n\u001b[0;32m     29\u001b[0m \u001b[38;5;66;03m# We aim to keep this file minimal and ideally remove completely.\u001b[39;00m\n\u001b[0;32m     30\u001b[0m \u001b[38;5;66;03m# If you are adding a new file with @tf_export decorators,\u001b[39;00m\n\u001b[0;32m     31\u001b[0m \u001b[38;5;66;03m# import it in modules_with_exports.py instead.\u001b[39;00m\n\u001b[0;32m     32\u001b[0m \n\u001b[0;32m     33\u001b[0m \u001b[38;5;66;03m# go/tf-wildcard-import\u001b[39;00m\n\u001b[0;32m     34\u001b[0m \u001b[38;5;66;03m# pylint: disable=wildcard-import,g-bad-import-order,g-import-not-at-top\u001b[39;00m\n\u001b[0;32m     36\u001b[0m \u001b[38;5;28;01mfrom\u001b[39;00m \u001b[38;5;21;01mtensorflow\u001b[39;00m\u001b[38;5;21;01m.\u001b[39;00m\u001b[38;5;21;01mpython\u001b[39;00m \u001b[38;5;28;01mimport\u001b[39;00m pywrap_tensorflow \u001b[38;5;28;01mas\u001b[39;00m _pywrap_tensorflow\n\u001b[1;32m---> 37\u001b[0m \u001b[38;5;28;01mfrom\u001b[39;00m \u001b[38;5;21;01mtensorflow\u001b[39;00m\u001b[38;5;21;01m.\u001b[39;00m\u001b[38;5;21;01mpython\u001b[39;00m\u001b[38;5;21;01m.\u001b[39;00m\u001b[38;5;21;01meager\u001b[39;00m \u001b[38;5;28;01mimport\u001b[39;00m context\n\u001b[0;32m     39\u001b[0m \u001b[38;5;66;03m# pylint: enable=wildcard-import\u001b[39;00m\n\u001b[0;32m     40\u001b[0m \n\u001b[0;32m     41\u001b[0m \u001b[38;5;66;03m# Bring in subpackages.\u001b[39;00m\n\u001b[0;32m     42\u001b[0m \u001b[38;5;28;01mfrom\u001b[39;00m \u001b[38;5;21;01mtensorflow\u001b[39;00m\u001b[38;5;21;01m.\u001b[39;00m\u001b[38;5;21;01mpython\u001b[39;00m \u001b[38;5;28;01mimport\u001b[39;00m data\n",
      "File \u001b[1;32m~\\AppData\\Roaming\\Python\\Python39\\site-packages\\tensorflow\\python\\eager\\context.py:29\u001b[0m, in \u001b[0;36m<module>\u001b[1;34m\u001b[0m\n\u001b[0;32m     26\u001b[0m \u001b[38;5;28;01mimport\u001b[39;00m \u001b[38;5;21;01mnumpy\u001b[39;00m \u001b[38;5;28;01mas\u001b[39;00m \u001b[38;5;21;01mnp\u001b[39;00m\n\u001b[0;32m     27\u001b[0m \u001b[38;5;28;01mimport\u001b[39;00m \u001b[38;5;21;01msix\u001b[39;00m\n\u001b[1;32m---> 29\u001b[0m \u001b[38;5;28;01mfrom\u001b[39;00m \u001b[38;5;21;01mtensorflow\u001b[39;00m\u001b[38;5;21;01m.\u001b[39;00m\u001b[38;5;21;01mcore\u001b[39;00m\u001b[38;5;21;01m.\u001b[39;00m\u001b[38;5;21;01mframework\u001b[39;00m \u001b[38;5;28;01mimport\u001b[39;00m function_pb2\n\u001b[0;32m     30\u001b[0m \u001b[38;5;28;01mfrom\u001b[39;00m \u001b[38;5;21;01mtensorflow\u001b[39;00m\u001b[38;5;21;01m.\u001b[39;00m\u001b[38;5;21;01mcore\u001b[39;00m\u001b[38;5;21;01m.\u001b[39;00m\u001b[38;5;21;01mprotobuf\u001b[39;00m \u001b[38;5;28;01mimport\u001b[39;00m config_pb2\n\u001b[0;32m     31\u001b[0m \u001b[38;5;28;01mfrom\u001b[39;00m \u001b[38;5;21;01mtensorflow\u001b[39;00m\u001b[38;5;21;01m.\u001b[39;00m\u001b[38;5;21;01mcore\u001b[39;00m\u001b[38;5;21;01m.\u001b[39;00m\u001b[38;5;21;01mprotobuf\u001b[39;00m \u001b[38;5;28;01mimport\u001b[39;00m coordination_config_pb2\n",
      "File \u001b[1;32m~\\AppData\\Roaming\\Python\\Python39\\site-packages\\tensorflow\\core\\framework\\function_pb2.py:16\u001b[0m, in \u001b[0;36m<module>\u001b[1;34m\u001b[0m\n\u001b[0;32m     11\u001b[0m \u001b[38;5;66;03m# @@protoc_insertion_point(imports)\u001b[39;00m\n\u001b[0;32m     13\u001b[0m _sym_db \u001b[38;5;241m=\u001b[39m _symbol_database\u001b[38;5;241m.\u001b[39mDefault()\n\u001b[1;32m---> 16\u001b[0m \u001b[38;5;28;01mfrom\u001b[39;00m \u001b[38;5;21;01mtensorflow\u001b[39;00m\u001b[38;5;21;01m.\u001b[39;00m\u001b[38;5;21;01mcore\u001b[39;00m\u001b[38;5;21;01m.\u001b[39;00m\u001b[38;5;21;01mframework\u001b[39;00m \u001b[38;5;28;01mimport\u001b[39;00m attr_value_pb2 \u001b[38;5;28;01mas\u001b[39;00m tensorflow_dot_core_dot_framework_dot_attr__value__pb2\n\u001b[0;32m     17\u001b[0m \u001b[38;5;28;01mfrom\u001b[39;00m \u001b[38;5;21;01mtensorflow\u001b[39;00m\u001b[38;5;21;01m.\u001b[39;00m\u001b[38;5;21;01mcore\u001b[39;00m\u001b[38;5;21;01m.\u001b[39;00m\u001b[38;5;21;01mframework\u001b[39;00m \u001b[38;5;28;01mimport\u001b[39;00m node_def_pb2 \u001b[38;5;28;01mas\u001b[39;00m tensorflow_dot_core_dot_framework_dot_node__def__pb2\n\u001b[0;32m     18\u001b[0m \u001b[38;5;28;01mfrom\u001b[39;00m \u001b[38;5;21;01mtensorflow\u001b[39;00m\u001b[38;5;21;01m.\u001b[39;00m\u001b[38;5;21;01mcore\u001b[39;00m\u001b[38;5;21;01m.\u001b[39;00m\u001b[38;5;21;01mframework\u001b[39;00m \u001b[38;5;28;01mimport\u001b[39;00m op_def_pb2 \u001b[38;5;28;01mas\u001b[39;00m tensorflow_dot_core_dot_framework_dot_op__def__pb2\n",
      "File \u001b[1;32m~\\AppData\\Roaming\\Python\\Python39\\site-packages\\tensorflow\\core\\framework\\attr_value_pb2.py:16\u001b[0m, in \u001b[0;36m<module>\u001b[1;34m\u001b[0m\n\u001b[0;32m     11\u001b[0m \u001b[38;5;66;03m# @@protoc_insertion_point(imports)\u001b[39;00m\n\u001b[0;32m     13\u001b[0m _sym_db \u001b[38;5;241m=\u001b[39m _symbol_database\u001b[38;5;241m.\u001b[39mDefault()\n\u001b[1;32m---> 16\u001b[0m \u001b[38;5;28;01mfrom\u001b[39;00m \u001b[38;5;21;01mtensorflow\u001b[39;00m\u001b[38;5;21;01m.\u001b[39;00m\u001b[38;5;21;01mcore\u001b[39;00m\u001b[38;5;21;01m.\u001b[39;00m\u001b[38;5;21;01mframework\u001b[39;00m \u001b[38;5;28;01mimport\u001b[39;00m tensor_pb2 \u001b[38;5;28;01mas\u001b[39;00m tensorflow_dot_core_dot_framework_dot_tensor__pb2\n\u001b[0;32m     17\u001b[0m \u001b[38;5;28;01mfrom\u001b[39;00m \u001b[38;5;21;01mtensorflow\u001b[39;00m\u001b[38;5;21;01m.\u001b[39;00m\u001b[38;5;21;01mcore\u001b[39;00m\u001b[38;5;21;01m.\u001b[39;00m\u001b[38;5;21;01mframework\u001b[39;00m \u001b[38;5;28;01mimport\u001b[39;00m tensor_shape_pb2 \u001b[38;5;28;01mas\u001b[39;00m tensorflow_dot_core_dot_framework_dot_tensor__shape__pb2\n\u001b[0;32m     18\u001b[0m \u001b[38;5;28;01mfrom\u001b[39;00m \u001b[38;5;21;01mtensorflow\u001b[39;00m\u001b[38;5;21;01m.\u001b[39;00m\u001b[38;5;21;01mcore\u001b[39;00m\u001b[38;5;21;01m.\u001b[39;00m\u001b[38;5;21;01mframework\u001b[39;00m \u001b[38;5;28;01mimport\u001b[39;00m types_pb2 \u001b[38;5;28;01mas\u001b[39;00m tensorflow_dot_core_dot_framework_dot_types__pb2\n",
      "File \u001b[1;32m~\\AppData\\Roaming\\Python\\Python39\\site-packages\\tensorflow\\core\\framework\\tensor_pb2.py:16\u001b[0m, in \u001b[0;36m<module>\u001b[1;34m\u001b[0m\n\u001b[0;32m     11\u001b[0m \u001b[38;5;66;03m# @@protoc_insertion_point(imports)\u001b[39;00m\n\u001b[0;32m     13\u001b[0m _sym_db \u001b[38;5;241m=\u001b[39m _symbol_database\u001b[38;5;241m.\u001b[39mDefault()\n\u001b[1;32m---> 16\u001b[0m \u001b[38;5;28;01mfrom\u001b[39;00m \u001b[38;5;21;01mtensorflow\u001b[39;00m\u001b[38;5;21;01m.\u001b[39;00m\u001b[38;5;21;01mcore\u001b[39;00m\u001b[38;5;21;01m.\u001b[39;00m\u001b[38;5;21;01mframework\u001b[39;00m \u001b[38;5;28;01mimport\u001b[39;00m resource_handle_pb2 \u001b[38;5;28;01mas\u001b[39;00m tensorflow_dot_core_dot_framework_dot_resource__handle__pb2\n\u001b[0;32m     17\u001b[0m \u001b[38;5;28;01mfrom\u001b[39;00m \u001b[38;5;21;01mtensorflow\u001b[39;00m\u001b[38;5;21;01m.\u001b[39;00m\u001b[38;5;21;01mcore\u001b[39;00m\u001b[38;5;21;01m.\u001b[39;00m\u001b[38;5;21;01mframework\u001b[39;00m \u001b[38;5;28;01mimport\u001b[39;00m tensor_shape_pb2 \u001b[38;5;28;01mas\u001b[39;00m tensorflow_dot_core_dot_framework_dot_tensor__shape__pb2\n\u001b[0;32m     18\u001b[0m \u001b[38;5;28;01mfrom\u001b[39;00m \u001b[38;5;21;01mtensorflow\u001b[39;00m\u001b[38;5;21;01m.\u001b[39;00m\u001b[38;5;21;01mcore\u001b[39;00m\u001b[38;5;21;01m.\u001b[39;00m\u001b[38;5;21;01mframework\u001b[39;00m \u001b[38;5;28;01mimport\u001b[39;00m types_pb2 \u001b[38;5;28;01mas\u001b[39;00m tensorflow_dot_core_dot_framework_dot_types__pb2\n",
      "File \u001b[1;32m~\\AppData\\Roaming\\Python\\Python39\\site-packages\\tensorflow\\core\\framework\\resource_handle_pb2.py:16\u001b[0m, in \u001b[0;36m<module>\u001b[1;34m\u001b[0m\n\u001b[0;32m     11\u001b[0m \u001b[38;5;66;03m# @@protoc_insertion_point(imports)\u001b[39;00m\n\u001b[0;32m     13\u001b[0m _sym_db \u001b[38;5;241m=\u001b[39m _symbol_database\u001b[38;5;241m.\u001b[39mDefault()\n\u001b[1;32m---> 16\u001b[0m \u001b[38;5;28;01mfrom\u001b[39;00m \u001b[38;5;21;01mtensorflow\u001b[39;00m\u001b[38;5;21;01m.\u001b[39;00m\u001b[38;5;21;01mcore\u001b[39;00m\u001b[38;5;21;01m.\u001b[39;00m\u001b[38;5;21;01mframework\u001b[39;00m \u001b[38;5;28;01mimport\u001b[39;00m tensor_shape_pb2 \u001b[38;5;28;01mas\u001b[39;00m tensorflow_dot_core_dot_framework_dot_tensor__shape__pb2\n\u001b[0;32m     17\u001b[0m \u001b[38;5;28;01mfrom\u001b[39;00m \u001b[38;5;21;01mtensorflow\u001b[39;00m\u001b[38;5;21;01m.\u001b[39;00m\u001b[38;5;21;01mcore\u001b[39;00m\u001b[38;5;21;01m.\u001b[39;00m\u001b[38;5;21;01mframework\u001b[39;00m \u001b[38;5;28;01mimport\u001b[39;00m types_pb2 \u001b[38;5;28;01mas\u001b[39;00m tensorflow_dot_core_dot_framework_dot_types__pb2\n\u001b[0;32m     20\u001b[0m DESCRIPTOR \u001b[38;5;241m=\u001b[39m _descriptor\u001b[38;5;241m.\u001b[39mFileDescriptor(\n\u001b[0;32m     21\u001b[0m   name\u001b[38;5;241m=\u001b[39m\u001b[38;5;124m'\u001b[39m\u001b[38;5;124mtensorflow/core/framework/resource_handle.proto\u001b[39m\u001b[38;5;124m'\u001b[39m,\n\u001b[0;32m     22\u001b[0m   package\u001b[38;5;241m=\u001b[39m\u001b[38;5;124m'\u001b[39m\u001b[38;5;124mtensorflow\u001b[39m\u001b[38;5;124m'\u001b[39m,\n\u001b[1;32m   (...)\u001b[0m\n\u001b[0;32m     26\u001b[0m   ,\n\u001b[0;32m     27\u001b[0m   dependencies\u001b[38;5;241m=\u001b[39m[tensorflow_dot_core_dot_framework_dot_tensor__shape__pb2\u001b[38;5;241m.\u001b[39mDESCRIPTOR,tensorflow_dot_core_dot_framework_dot_types__pb2\u001b[38;5;241m.\u001b[39mDESCRIPTOR,])\n",
      "File \u001b[1;32m~\\AppData\\Roaming\\Python\\Python39\\site-packages\\tensorflow\\core\\framework\\tensor_shape_pb2.py:36\u001b[0m, in \u001b[0;36m<module>\u001b[1;34m\u001b[0m\n\u001b[0;32m     13\u001b[0m _sym_db \u001b[38;5;241m=\u001b[39m _symbol_database\u001b[38;5;241m.\u001b[39mDefault()\n\u001b[0;32m     18\u001b[0m DESCRIPTOR \u001b[38;5;241m=\u001b[39m _descriptor\u001b[38;5;241m.\u001b[39mFileDescriptor(\n\u001b[0;32m     19\u001b[0m   name\u001b[38;5;241m=\u001b[39m\u001b[38;5;124m'\u001b[39m\u001b[38;5;124mtensorflow/core/framework/tensor_shape.proto\u001b[39m\u001b[38;5;124m'\u001b[39m,\n\u001b[0;32m     20\u001b[0m   package\u001b[38;5;241m=\u001b[39m\u001b[38;5;124m'\u001b[39m\u001b[38;5;124mtensorflow\u001b[39m\u001b[38;5;124m'\u001b[39m,\n\u001b[1;32m   (...)\u001b[0m\n\u001b[0;32m     23\u001b[0m   serialized_pb\u001b[38;5;241m=\u001b[39m_b(\u001b[38;5;124m'\u001b[39m\u001b[38;5;130;01m\\n\u001b[39;00m\u001b[38;5;124m,tensorflow/core/framework/tensor_shape.proto\u001b[39m\u001b[38;5;130;01m\\x12\u001b[39;00m\u001b[38;5;130;01m\\n\u001b[39;00m\u001b[38;5;124mtensorflow\u001b[39m\u001b[38;5;130;01m\\\"\u001b[39;00m\u001b[38;5;124mz\u001b[39m\u001b[38;5;130;01m\\n\u001b[39;00m\u001b[38;5;130;01m\\x10\u001b[39;00m\u001b[38;5;124mTensorShapeProto\u001b[39m\u001b[38;5;130;01m\\x12\u001b[39;00m\u001b[38;5;124m-\u001b[39m\u001b[38;5;130;01m\\n\u001b[39;00m\u001b[38;5;130;01m\\x03\u001b[39;00m\u001b[38;5;130;01m\\x64\u001b[39;00m\u001b[38;5;124mim\u001b[39m\u001b[38;5;130;01m\\x18\u001b[39;00m\u001b[38;5;130;01m\\x02\u001b[39;00m\u001b[38;5;124m \u001b[39m\u001b[38;5;130;01m\\x03\u001b[39;00m\u001b[38;5;124m(\u001b[39m\u001b[38;5;130;01m\\x0b\u001b[39;00m\u001b[38;5;130;01m\\x32\u001b[39;00m\u001b[38;5;124m .tensorflow.TensorShapeProto.Dim\u001b[39m\u001b[38;5;130;01m\\x12\u001b[39;00m\u001b[38;5;130;01m\\x14\u001b[39;00m\u001b[38;5;130;01m\\n\u001b[39;00m\u001b[38;5;130;01m\\x0c\u001b[39;00m\u001b[38;5;124munknown_rank\u001b[39m\u001b[38;5;130;01m\\x18\u001b[39;00m\u001b[38;5;130;01m\\x03\u001b[39;00m\u001b[38;5;124m \u001b[39m\u001b[38;5;130;01m\\x01\u001b[39;00m\u001b[38;5;124m(\u001b[39m\u001b[38;5;130;01m\\x08\u001b[39;00m\u001b[38;5;130;01m\\x1a\u001b[39;00m\u001b[38;5;124m!\u001b[39m\u001b[38;5;130;01m\\n\u001b[39;00m\u001b[38;5;130;01m\\x03\u001b[39;00m\u001b[38;5;130;01m\\x44\u001b[39;00m\u001b[38;5;124mim\u001b[39m\u001b[38;5;130;01m\\x12\u001b[39;00m\u001b[38;5;130;01m\\x0c\u001b[39;00m\u001b[38;5;130;01m\\n\u001b[39;00m\u001b[38;5;130;01m\\x04\u001b[39;00m\u001b[38;5;124msize\u001b[39m\u001b[38;5;130;01m\\x18\u001b[39;00m\u001b[38;5;130;01m\\x01\u001b[39;00m\u001b[38;5;124m \u001b[39m\u001b[38;5;130;01m\\x01\u001b[39;00m\u001b[38;5;124m(\u001b[39m\u001b[38;5;130;01m\\x03\u001b[39;00m\u001b[38;5;130;01m\\x12\u001b[39;00m\u001b[38;5;130;01m\\x0c\u001b[39;00m\u001b[38;5;130;01m\\n\u001b[39;00m\u001b[38;5;130;01m\\x04\u001b[39;00m\u001b[38;5;124mname\u001b[39m\u001b[38;5;130;01m\\x18\u001b[39;00m\u001b[38;5;130;01m\\x02\u001b[39;00m\u001b[38;5;124m \u001b[39m\u001b[38;5;130;01m\\x01\u001b[39;00m\u001b[38;5;124m(\u001b[39m\u001b[38;5;130;01m\\t\u001b[39;00m\u001b[38;5;124mB\u001b[39m\u001b[38;5;130;01m\\x87\u001b[39;00m\u001b[38;5;130;01m\\x01\u001b[39;00m\u001b[38;5;130;01m\\n\u001b[39;00m\u001b[38;5;130;01m\\x18\u001b[39;00m\u001b[38;5;124morg.tensorflow.frameworkB\u001b[39m\u001b[38;5;130;01m\\x11\u001b[39;00m\u001b[38;5;124mTensorShapeProtosP\u001b[39m\u001b[38;5;130;01m\\x01\u001b[39;00m\u001b[38;5;124mZSgithub.com/tensorflow/tensorflow/tensorflow/go/core/framework/tensor_shape_go_proto\u001b[39m\u001b[38;5;130;01m\\xf8\u001b[39;00m\u001b[38;5;130;01m\\x01\u001b[39;00m\u001b[38;5;130;01m\\x01\u001b[39;00m\u001b[38;5;130;01m\\x62\u001b[39;00m\u001b[38;5;130;01m\\x06\u001b[39;00m\u001b[38;5;124mproto3\u001b[39m\u001b[38;5;124m'\u001b[39m)\n\u001b[0;32m     24\u001b[0m )\n\u001b[0;32m     29\u001b[0m _TENSORSHAPEPROTO_DIM \u001b[38;5;241m=\u001b[39m _descriptor\u001b[38;5;241m.\u001b[39mDescriptor(\n\u001b[0;32m     30\u001b[0m   name\u001b[38;5;241m=\u001b[39m\u001b[38;5;124m'\u001b[39m\u001b[38;5;124mDim\u001b[39m\u001b[38;5;124m'\u001b[39m,\n\u001b[0;32m     31\u001b[0m   full_name\u001b[38;5;241m=\u001b[39m\u001b[38;5;124m'\u001b[39m\u001b[38;5;124mtensorflow.TensorShapeProto.Dim\u001b[39m\u001b[38;5;124m'\u001b[39m,\n\u001b[0;32m     32\u001b[0m   filename\u001b[38;5;241m=\u001b[39m\u001b[38;5;28;01mNone\u001b[39;00m,\n\u001b[0;32m     33\u001b[0m   file\u001b[38;5;241m=\u001b[39mDESCRIPTOR,\n\u001b[0;32m     34\u001b[0m   containing_type\u001b[38;5;241m=\u001b[39m\u001b[38;5;28;01mNone\u001b[39;00m,\n\u001b[0;32m     35\u001b[0m   fields\u001b[38;5;241m=\u001b[39m[\n\u001b[1;32m---> 36\u001b[0m     \u001b[43m_descriptor\u001b[49m\u001b[38;5;241;43m.\u001b[39;49m\u001b[43mFieldDescriptor\u001b[49m\u001b[43m(\u001b[49m\n\u001b[0;32m     37\u001b[0m \u001b[43m      \u001b[49m\u001b[43mname\u001b[49m\u001b[38;5;241;43m=\u001b[39;49m\u001b[38;5;124;43m'\u001b[39;49m\u001b[38;5;124;43msize\u001b[39;49m\u001b[38;5;124;43m'\u001b[39;49m\u001b[43m,\u001b[49m\u001b[43m \u001b[49m\u001b[43mfull_name\u001b[49m\u001b[38;5;241;43m=\u001b[39;49m\u001b[38;5;124;43m'\u001b[39;49m\u001b[38;5;124;43mtensorflow.TensorShapeProto.Dim.size\u001b[39;49m\u001b[38;5;124;43m'\u001b[39;49m\u001b[43m,\u001b[49m\u001b[43m \u001b[49m\u001b[43mindex\u001b[49m\u001b[38;5;241;43m=\u001b[39;49m\u001b[38;5;241;43m0\u001b[39;49m\u001b[43m,\u001b[49m\n\u001b[0;32m     38\u001b[0m \u001b[43m      \u001b[49m\u001b[43mnumber\u001b[49m\u001b[38;5;241;43m=\u001b[39;49m\u001b[38;5;241;43m1\u001b[39;49m\u001b[43m,\u001b[49m\u001b[43m \u001b[49m\u001b[38;5;28;43mtype\u001b[39;49m\u001b[38;5;241;43m=\u001b[39;49m\u001b[38;5;241;43m3\u001b[39;49m\u001b[43m,\u001b[49m\u001b[43m \u001b[49m\u001b[43mcpp_type\u001b[49m\u001b[38;5;241;43m=\u001b[39;49m\u001b[38;5;241;43m2\u001b[39;49m\u001b[43m,\u001b[49m\u001b[43m \u001b[49m\u001b[43mlabel\u001b[49m\u001b[38;5;241;43m=\u001b[39;49m\u001b[38;5;241;43m1\u001b[39;49m\u001b[43m,\u001b[49m\n\u001b[0;32m     39\u001b[0m \u001b[43m      \u001b[49m\u001b[43mhas_default_value\u001b[49m\u001b[38;5;241;43m=\u001b[39;49m\u001b[38;5;28;43;01mFalse\u001b[39;49;00m\u001b[43m,\u001b[49m\u001b[43m \u001b[49m\u001b[43mdefault_value\u001b[49m\u001b[38;5;241;43m=\u001b[39;49m\u001b[38;5;241;43m0\u001b[39;49m\u001b[43m,\u001b[49m\n\u001b[0;32m     40\u001b[0m \u001b[43m      \u001b[49m\u001b[43mmessage_type\u001b[49m\u001b[38;5;241;43m=\u001b[39;49m\u001b[38;5;28;43;01mNone\u001b[39;49;00m\u001b[43m,\u001b[49m\u001b[43m \u001b[49m\u001b[43menum_type\u001b[49m\u001b[38;5;241;43m=\u001b[39;49m\u001b[38;5;28;43;01mNone\u001b[39;49;00m\u001b[43m,\u001b[49m\u001b[43m \u001b[49m\u001b[43mcontaining_type\u001b[49m\u001b[38;5;241;43m=\u001b[39;49m\u001b[38;5;28;43;01mNone\u001b[39;49;00m\u001b[43m,\u001b[49m\n\u001b[0;32m     41\u001b[0m \u001b[43m      \u001b[49m\u001b[43mis_extension\u001b[49m\u001b[38;5;241;43m=\u001b[39;49m\u001b[38;5;28;43;01mFalse\u001b[39;49;00m\u001b[43m,\u001b[49m\u001b[43m \u001b[49m\u001b[43mextension_scope\u001b[49m\u001b[38;5;241;43m=\u001b[39;49m\u001b[38;5;28;43;01mNone\u001b[39;49;00m\u001b[43m,\u001b[49m\n\u001b[0;32m     42\u001b[0m \u001b[43m      \u001b[49m\u001b[43mserialized_options\u001b[49m\u001b[38;5;241;43m=\u001b[39;49m\u001b[38;5;28;43;01mNone\u001b[39;49;00m\u001b[43m,\u001b[49m\u001b[43m \u001b[49m\u001b[43mfile\u001b[49m\u001b[38;5;241;43m=\u001b[39;49m\u001b[43mDESCRIPTOR\u001b[49m\u001b[43m)\u001b[49m,\n\u001b[0;32m     43\u001b[0m     _descriptor\u001b[38;5;241m.\u001b[39mFieldDescriptor(\n\u001b[0;32m     44\u001b[0m       name\u001b[38;5;241m=\u001b[39m\u001b[38;5;124m'\u001b[39m\u001b[38;5;124mname\u001b[39m\u001b[38;5;124m'\u001b[39m, full_name\u001b[38;5;241m=\u001b[39m\u001b[38;5;124m'\u001b[39m\u001b[38;5;124mtensorflow.TensorShapeProto.Dim.name\u001b[39m\u001b[38;5;124m'\u001b[39m, index\u001b[38;5;241m=\u001b[39m\u001b[38;5;241m1\u001b[39m,\n\u001b[0;32m     45\u001b[0m       number\u001b[38;5;241m=\u001b[39m\u001b[38;5;241m2\u001b[39m, \u001b[38;5;28mtype\u001b[39m\u001b[38;5;241m=\u001b[39m\u001b[38;5;241m9\u001b[39m, cpp_type\u001b[38;5;241m=\u001b[39m\u001b[38;5;241m9\u001b[39m, label\u001b[38;5;241m=\u001b[39m\u001b[38;5;241m1\u001b[39m,\n\u001b[0;32m     46\u001b[0m       has_default_value\u001b[38;5;241m=\u001b[39m\u001b[38;5;28;01mFalse\u001b[39;00m, default_value\u001b[38;5;241m=\u001b[39m_b(\u001b[38;5;124m\"\u001b[39m\u001b[38;5;124m\"\u001b[39m)\u001b[38;5;241m.\u001b[39mdecode(\u001b[38;5;124m'\u001b[39m\u001b[38;5;124mutf-8\u001b[39m\u001b[38;5;124m'\u001b[39m),\n\u001b[0;32m     47\u001b[0m       message_type\u001b[38;5;241m=\u001b[39m\u001b[38;5;28;01mNone\u001b[39;00m, enum_type\u001b[38;5;241m=\u001b[39m\u001b[38;5;28;01mNone\u001b[39;00m, containing_type\u001b[38;5;241m=\u001b[39m\u001b[38;5;28;01mNone\u001b[39;00m,\n\u001b[0;32m     48\u001b[0m       is_extension\u001b[38;5;241m=\u001b[39m\u001b[38;5;28;01mFalse\u001b[39;00m, extension_scope\u001b[38;5;241m=\u001b[39m\u001b[38;5;28;01mNone\u001b[39;00m,\n\u001b[0;32m     49\u001b[0m       serialized_options\u001b[38;5;241m=\u001b[39m\u001b[38;5;28;01mNone\u001b[39;00m, file\u001b[38;5;241m=\u001b[39mDESCRIPTOR),\n\u001b[0;32m     50\u001b[0m   ],\n\u001b[0;32m     51\u001b[0m   extensions\u001b[38;5;241m=\u001b[39m[\n\u001b[0;32m     52\u001b[0m   ],\n\u001b[0;32m     53\u001b[0m   nested_types\u001b[38;5;241m=\u001b[39m[],\n\u001b[0;32m     54\u001b[0m   enum_types\u001b[38;5;241m=\u001b[39m[\n\u001b[0;32m     55\u001b[0m   ],\n\u001b[0;32m     56\u001b[0m   serialized_options\u001b[38;5;241m=\u001b[39m\u001b[38;5;28;01mNone\u001b[39;00m,\n\u001b[0;32m     57\u001b[0m   is_extendable\u001b[38;5;241m=\u001b[39m\u001b[38;5;28;01mFalse\u001b[39;00m,\n\u001b[0;32m     58\u001b[0m   syntax\u001b[38;5;241m=\u001b[39m\u001b[38;5;124m'\u001b[39m\u001b[38;5;124mproto3\u001b[39m\u001b[38;5;124m'\u001b[39m,\n\u001b[0;32m     59\u001b[0m   extension_ranges\u001b[38;5;241m=\u001b[39m[],\n\u001b[0;32m     60\u001b[0m   oneofs\u001b[38;5;241m=\u001b[39m[\n\u001b[0;32m     61\u001b[0m   ],\n\u001b[0;32m     62\u001b[0m   serialized_start\u001b[38;5;241m=\u001b[39m\u001b[38;5;241m149\u001b[39m,\n\u001b[0;32m     63\u001b[0m   serialized_end\u001b[38;5;241m=\u001b[39m\u001b[38;5;241m182\u001b[39m,\n\u001b[0;32m     64\u001b[0m )\n\u001b[0;32m     66\u001b[0m _TENSORSHAPEPROTO \u001b[38;5;241m=\u001b[39m _descriptor\u001b[38;5;241m.\u001b[39mDescriptor(\n\u001b[0;32m     67\u001b[0m   name\u001b[38;5;241m=\u001b[39m\u001b[38;5;124m'\u001b[39m\u001b[38;5;124mTensorShapeProto\u001b[39m\u001b[38;5;124m'\u001b[39m,\n\u001b[0;32m     68\u001b[0m   full_name\u001b[38;5;241m=\u001b[39m\u001b[38;5;124m'\u001b[39m\u001b[38;5;124mtensorflow.TensorShapeProto\u001b[39m\u001b[38;5;124m'\u001b[39m,\n\u001b[1;32m   (...)\u001b[0m\n\u001b[0;32m    100\u001b[0m   serialized_end\u001b[38;5;241m=\u001b[39m\u001b[38;5;241m182\u001b[39m,\n\u001b[0;32m    101\u001b[0m )\n\u001b[0;32m    103\u001b[0m _TENSORSHAPEPROTO_DIM\u001b[38;5;241m.\u001b[39mcontaining_type \u001b[38;5;241m=\u001b[39m _TENSORSHAPEPROTO\n",
      "File \u001b[1;32m~\\anaconda3\\envs\\Dissertation\\lib\\site-packages\\google\\protobuf\\descriptor.py:560\u001b[0m, in \u001b[0;36mFieldDescriptor.__new__\u001b[1;34m(cls, name, full_name, index, number, type, cpp_type, label, default_value, message_type, enum_type, containing_type, is_extension, extension_scope, options, serialized_options, has_default_value, containing_oneof, json_name, file, create_key)\u001b[0m\n\u001b[0;32m    554\u001b[0m \u001b[38;5;28;01mdef\u001b[39;00m \u001b[38;5;21m__new__\u001b[39m(\u001b[38;5;28mcls\u001b[39m, name, full_name, index, number, \u001b[38;5;28mtype\u001b[39m, cpp_type, label,\n\u001b[0;32m    555\u001b[0m             default_value, message_type, enum_type, containing_type,\n\u001b[0;32m    556\u001b[0m             is_extension, extension_scope, options\u001b[38;5;241m=\u001b[39m\u001b[38;5;28;01mNone\u001b[39;00m,\n\u001b[0;32m    557\u001b[0m             serialized_options\u001b[38;5;241m=\u001b[39m\u001b[38;5;28;01mNone\u001b[39;00m,\n\u001b[0;32m    558\u001b[0m             has_default_value\u001b[38;5;241m=\u001b[39m\u001b[38;5;28;01mTrue\u001b[39;00m, containing_oneof\u001b[38;5;241m=\u001b[39m\u001b[38;5;28;01mNone\u001b[39;00m, json_name\u001b[38;5;241m=\u001b[39m\u001b[38;5;28;01mNone\u001b[39;00m,\n\u001b[0;32m    559\u001b[0m             file\u001b[38;5;241m=\u001b[39m\u001b[38;5;28;01mNone\u001b[39;00m, create_key\u001b[38;5;241m=\u001b[39m\u001b[38;5;28;01mNone\u001b[39;00m):  \u001b[38;5;66;03m# pylint: disable=redefined-builtin\u001b[39;00m\n\u001b[1;32m--> 560\u001b[0m   \u001b[43m_message\u001b[49m\u001b[38;5;241;43m.\u001b[39;49m\u001b[43mMessage\u001b[49m\u001b[38;5;241;43m.\u001b[39;49m\u001b[43m_CheckCalledFromGeneratedFile\u001b[49m\u001b[43m(\u001b[49m\u001b[43m)\u001b[49m\n\u001b[0;32m    561\u001b[0m   \u001b[38;5;28;01mif\u001b[39;00m is_extension:\n\u001b[0;32m    562\u001b[0m     \u001b[38;5;28;01mreturn\u001b[39;00m _message\u001b[38;5;241m.\u001b[39mdefault_pool\u001b[38;5;241m.\u001b[39mFindExtensionByName(full_name)\n",
      "\u001b[1;31mTypeError\u001b[0m: Descriptors cannot not be created directly.\nIf this call came from a _pb2.py file, your generated code is out of date and must be regenerated with protoc >= 3.19.0.\nIf you cannot immediately regenerate your protos, some other possible workarounds are:\n 1. Downgrade the protobuf package to 3.20.x or lower.\n 2. Set PROTOCOL_BUFFERS_PYTHON_IMPLEMENTATION=python (but this will use pure-Python parsing and will be much slower).\n\nMore information: https://developers.google.com/protocol-buffers/docs/news/2022-05-06#python-updates"
     ]
    }
   ],
   "source": [
    "# converting the labels to categorical one hot encoded format\n",
    "from tensorflow.keras.utils import to_categorical\n",
    "y_train = to_categorical(y_train)\n",
    "y_test = to_categorical(y_test)\n",
    "y_train.shape, y_test.shape"
   ]
  },
  {
   "cell_type": "code",
   "execution_count": 77,
   "id": "5342246b",
   "metadata": {},
   "outputs": [
    {
     "ename": "TypeError",
     "evalue": "Descriptors cannot not be created directly.\nIf this call came from a _pb2.py file, your generated code is out of date and must be regenerated with protoc >= 3.19.0.\nIf you cannot immediately regenerate your protos, some other possible workarounds are:\n 1. Downgrade the protobuf package to 3.20.x or lower.\n 2. Set PROTOCOL_BUFFERS_PYTHON_IMPLEMENTATION=python (but this will use pure-Python parsing and will be much slower).\n\nMore information: https://developers.google.com/protocol-buffers/docs/news/2022-05-06#python-updates",
     "output_type": "error",
     "traceback": [
      "\u001b[1;31m---------------------------------------------------------------------------\u001b[0m",
      "\u001b[1;31mTypeError\u001b[0m                                 Traceback (most recent call last)",
      "Input \u001b[1;32mIn [77]\u001b[0m, in \u001b[0;36m<cell line: 1>\u001b[1;34m()\u001b[0m\n\u001b[1;32m----> 1\u001b[0m \u001b[38;5;28;01mfrom\u001b[39;00m \u001b[38;5;21;01mtensorflow\u001b[39;00m\u001b[38;5;21;01m.\u001b[39;00m\u001b[38;5;21;01mkeras\u001b[39;00m\u001b[38;5;21;01m.\u001b[39;00m\u001b[38;5;21;01mpreprocessing\u001b[39;00m\u001b[38;5;21;01m.\u001b[39;00m\u001b[38;5;21;01mtext\u001b[39;00m \u001b[38;5;28;01mimport\u001b[39;00m Tokenizer\n\u001b[0;32m      2\u001b[0m \u001b[38;5;28;01mfrom\u001b[39;00m \u001b[38;5;21;01mtensorflow\u001b[39;00m\u001b[38;5;21;01m.\u001b[39;00m\u001b[38;5;21;01mkeras\u001b[39;00m\u001b[38;5;21;01m.\u001b[39;00m\u001b[38;5;21;01mpreprocessing\u001b[39;00m\u001b[38;5;21;01m.\u001b[39;00m\u001b[38;5;21;01msequence\u001b[39;00m \u001b[38;5;28;01mimport\u001b[39;00m pad_sequences\n\u001b[0;32m      4\u001b[0m tokenizer \u001b[38;5;241m=\u001b[39m Tokenizer()\n",
      "File \u001b[1;32m~\\AppData\\Roaming\\Python\\Python39\\site-packages\\tensorflow\\__init__.py:37\u001b[0m, in \u001b[0;36m<module>\u001b[1;34m\u001b[0m\n\u001b[0;32m     34\u001b[0m \u001b[38;5;28;01mimport\u001b[39;00m \u001b[38;5;21;01msys\u001b[39;00m \u001b[38;5;28;01mas\u001b[39;00m \u001b[38;5;21;01m_sys\u001b[39;00m\n\u001b[0;32m     35\u001b[0m \u001b[38;5;28;01mimport\u001b[39;00m \u001b[38;5;21;01mtyping\u001b[39;00m \u001b[38;5;28;01mas\u001b[39;00m \u001b[38;5;21;01m_typing\u001b[39;00m\n\u001b[1;32m---> 37\u001b[0m \u001b[38;5;28;01mfrom\u001b[39;00m \u001b[38;5;21;01mtensorflow\u001b[39;00m\u001b[38;5;21;01m.\u001b[39;00m\u001b[38;5;21;01mpython\u001b[39;00m\u001b[38;5;21;01m.\u001b[39;00m\u001b[38;5;21;01mtools\u001b[39;00m \u001b[38;5;28;01mimport\u001b[39;00m module_util \u001b[38;5;28;01mas\u001b[39;00m _module_util\n\u001b[0;32m     38\u001b[0m \u001b[38;5;28;01mfrom\u001b[39;00m \u001b[38;5;21;01mtensorflow\u001b[39;00m\u001b[38;5;21;01m.\u001b[39;00m\u001b[38;5;21;01mpython\u001b[39;00m\u001b[38;5;21;01m.\u001b[39;00m\u001b[38;5;21;01mutil\u001b[39;00m\u001b[38;5;21;01m.\u001b[39;00m\u001b[38;5;21;01mlazy_loader\u001b[39;00m \u001b[38;5;28;01mimport\u001b[39;00m LazyLoader \u001b[38;5;28;01mas\u001b[39;00m _LazyLoader\n\u001b[0;32m     40\u001b[0m \u001b[38;5;66;03m# Make sure code inside the TensorFlow codebase can use tf2.enabled() at import.\u001b[39;00m\n",
      "File \u001b[1;32m~\\AppData\\Roaming\\Python\\Python39\\site-packages\\tensorflow\\python\\__init__.py:37\u001b[0m, in \u001b[0;36m<module>\u001b[1;34m\u001b[0m\n\u001b[0;32m     29\u001b[0m \u001b[38;5;66;03m# We aim to keep this file minimal and ideally remove completely.\u001b[39;00m\n\u001b[0;32m     30\u001b[0m \u001b[38;5;66;03m# If you are adding a new file with @tf_export decorators,\u001b[39;00m\n\u001b[0;32m     31\u001b[0m \u001b[38;5;66;03m# import it in modules_with_exports.py instead.\u001b[39;00m\n\u001b[0;32m     32\u001b[0m \n\u001b[0;32m     33\u001b[0m \u001b[38;5;66;03m# go/tf-wildcard-import\u001b[39;00m\n\u001b[0;32m     34\u001b[0m \u001b[38;5;66;03m# pylint: disable=wildcard-import,g-bad-import-order,g-import-not-at-top\u001b[39;00m\n\u001b[0;32m     36\u001b[0m \u001b[38;5;28;01mfrom\u001b[39;00m \u001b[38;5;21;01mtensorflow\u001b[39;00m\u001b[38;5;21;01m.\u001b[39;00m\u001b[38;5;21;01mpython\u001b[39;00m \u001b[38;5;28;01mimport\u001b[39;00m pywrap_tensorflow \u001b[38;5;28;01mas\u001b[39;00m _pywrap_tensorflow\n\u001b[1;32m---> 37\u001b[0m \u001b[38;5;28;01mfrom\u001b[39;00m \u001b[38;5;21;01mtensorflow\u001b[39;00m\u001b[38;5;21;01m.\u001b[39;00m\u001b[38;5;21;01mpython\u001b[39;00m\u001b[38;5;21;01m.\u001b[39;00m\u001b[38;5;21;01meager\u001b[39;00m \u001b[38;5;28;01mimport\u001b[39;00m context\n\u001b[0;32m     39\u001b[0m \u001b[38;5;66;03m# pylint: enable=wildcard-import\u001b[39;00m\n\u001b[0;32m     40\u001b[0m \n\u001b[0;32m     41\u001b[0m \u001b[38;5;66;03m# Bring in subpackages.\u001b[39;00m\n\u001b[0;32m     42\u001b[0m \u001b[38;5;28;01mfrom\u001b[39;00m \u001b[38;5;21;01mtensorflow\u001b[39;00m\u001b[38;5;21;01m.\u001b[39;00m\u001b[38;5;21;01mpython\u001b[39;00m \u001b[38;5;28;01mimport\u001b[39;00m data\n",
      "File \u001b[1;32m~\\AppData\\Roaming\\Python\\Python39\\site-packages\\tensorflow\\python\\eager\\context.py:29\u001b[0m, in \u001b[0;36m<module>\u001b[1;34m\u001b[0m\n\u001b[0;32m     26\u001b[0m \u001b[38;5;28;01mimport\u001b[39;00m \u001b[38;5;21;01mnumpy\u001b[39;00m \u001b[38;5;28;01mas\u001b[39;00m \u001b[38;5;21;01mnp\u001b[39;00m\n\u001b[0;32m     27\u001b[0m \u001b[38;5;28;01mimport\u001b[39;00m \u001b[38;5;21;01msix\u001b[39;00m\n\u001b[1;32m---> 29\u001b[0m \u001b[38;5;28;01mfrom\u001b[39;00m \u001b[38;5;21;01mtensorflow\u001b[39;00m\u001b[38;5;21;01m.\u001b[39;00m\u001b[38;5;21;01mcore\u001b[39;00m\u001b[38;5;21;01m.\u001b[39;00m\u001b[38;5;21;01mframework\u001b[39;00m \u001b[38;5;28;01mimport\u001b[39;00m function_pb2\n\u001b[0;32m     30\u001b[0m \u001b[38;5;28;01mfrom\u001b[39;00m \u001b[38;5;21;01mtensorflow\u001b[39;00m\u001b[38;5;21;01m.\u001b[39;00m\u001b[38;5;21;01mcore\u001b[39;00m\u001b[38;5;21;01m.\u001b[39;00m\u001b[38;5;21;01mprotobuf\u001b[39;00m \u001b[38;5;28;01mimport\u001b[39;00m config_pb2\n\u001b[0;32m     31\u001b[0m \u001b[38;5;28;01mfrom\u001b[39;00m \u001b[38;5;21;01mtensorflow\u001b[39;00m\u001b[38;5;21;01m.\u001b[39;00m\u001b[38;5;21;01mcore\u001b[39;00m\u001b[38;5;21;01m.\u001b[39;00m\u001b[38;5;21;01mprotobuf\u001b[39;00m \u001b[38;5;28;01mimport\u001b[39;00m coordination_config_pb2\n",
      "File \u001b[1;32m~\\AppData\\Roaming\\Python\\Python39\\site-packages\\tensorflow\\core\\framework\\function_pb2.py:16\u001b[0m, in \u001b[0;36m<module>\u001b[1;34m\u001b[0m\n\u001b[0;32m     11\u001b[0m \u001b[38;5;66;03m# @@protoc_insertion_point(imports)\u001b[39;00m\n\u001b[0;32m     13\u001b[0m _sym_db \u001b[38;5;241m=\u001b[39m _symbol_database\u001b[38;5;241m.\u001b[39mDefault()\n\u001b[1;32m---> 16\u001b[0m \u001b[38;5;28;01mfrom\u001b[39;00m \u001b[38;5;21;01mtensorflow\u001b[39;00m\u001b[38;5;21;01m.\u001b[39;00m\u001b[38;5;21;01mcore\u001b[39;00m\u001b[38;5;21;01m.\u001b[39;00m\u001b[38;5;21;01mframework\u001b[39;00m \u001b[38;5;28;01mimport\u001b[39;00m attr_value_pb2 \u001b[38;5;28;01mas\u001b[39;00m tensorflow_dot_core_dot_framework_dot_attr__value__pb2\n\u001b[0;32m     17\u001b[0m \u001b[38;5;28;01mfrom\u001b[39;00m \u001b[38;5;21;01mtensorflow\u001b[39;00m\u001b[38;5;21;01m.\u001b[39;00m\u001b[38;5;21;01mcore\u001b[39;00m\u001b[38;5;21;01m.\u001b[39;00m\u001b[38;5;21;01mframework\u001b[39;00m \u001b[38;5;28;01mimport\u001b[39;00m node_def_pb2 \u001b[38;5;28;01mas\u001b[39;00m tensorflow_dot_core_dot_framework_dot_node__def__pb2\n\u001b[0;32m     18\u001b[0m \u001b[38;5;28;01mfrom\u001b[39;00m \u001b[38;5;21;01mtensorflow\u001b[39;00m\u001b[38;5;21;01m.\u001b[39;00m\u001b[38;5;21;01mcore\u001b[39;00m\u001b[38;5;21;01m.\u001b[39;00m\u001b[38;5;21;01mframework\u001b[39;00m \u001b[38;5;28;01mimport\u001b[39;00m op_def_pb2 \u001b[38;5;28;01mas\u001b[39;00m tensorflow_dot_core_dot_framework_dot_op__def__pb2\n",
      "File \u001b[1;32m~\\AppData\\Roaming\\Python\\Python39\\site-packages\\tensorflow\\core\\framework\\attr_value_pb2.py:16\u001b[0m, in \u001b[0;36m<module>\u001b[1;34m\u001b[0m\n\u001b[0;32m     11\u001b[0m \u001b[38;5;66;03m# @@protoc_insertion_point(imports)\u001b[39;00m\n\u001b[0;32m     13\u001b[0m _sym_db \u001b[38;5;241m=\u001b[39m _symbol_database\u001b[38;5;241m.\u001b[39mDefault()\n\u001b[1;32m---> 16\u001b[0m \u001b[38;5;28;01mfrom\u001b[39;00m \u001b[38;5;21;01mtensorflow\u001b[39;00m\u001b[38;5;21;01m.\u001b[39;00m\u001b[38;5;21;01mcore\u001b[39;00m\u001b[38;5;21;01m.\u001b[39;00m\u001b[38;5;21;01mframework\u001b[39;00m \u001b[38;5;28;01mimport\u001b[39;00m tensor_pb2 \u001b[38;5;28;01mas\u001b[39;00m tensorflow_dot_core_dot_framework_dot_tensor__pb2\n\u001b[0;32m     17\u001b[0m \u001b[38;5;28;01mfrom\u001b[39;00m \u001b[38;5;21;01mtensorflow\u001b[39;00m\u001b[38;5;21;01m.\u001b[39;00m\u001b[38;5;21;01mcore\u001b[39;00m\u001b[38;5;21;01m.\u001b[39;00m\u001b[38;5;21;01mframework\u001b[39;00m \u001b[38;5;28;01mimport\u001b[39;00m tensor_shape_pb2 \u001b[38;5;28;01mas\u001b[39;00m tensorflow_dot_core_dot_framework_dot_tensor__shape__pb2\n\u001b[0;32m     18\u001b[0m \u001b[38;5;28;01mfrom\u001b[39;00m \u001b[38;5;21;01mtensorflow\u001b[39;00m\u001b[38;5;21;01m.\u001b[39;00m\u001b[38;5;21;01mcore\u001b[39;00m\u001b[38;5;21;01m.\u001b[39;00m\u001b[38;5;21;01mframework\u001b[39;00m \u001b[38;5;28;01mimport\u001b[39;00m types_pb2 \u001b[38;5;28;01mas\u001b[39;00m tensorflow_dot_core_dot_framework_dot_types__pb2\n",
      "File \u001b[1;32m~\\AppData\\Roaming\\Python\\Python39\\site-packages\\tensorflow\\core\\framework\\tensor_pb2.py:16\u001b[0m, in \u001b[0;36m<module>\u001b[1;34m\u001b[0m\n\u001b[0;32m     11\u001b[0m \u001b[38;5;66;03m# @@protoc_insertion_point(imports)\u001b[39;00m\n\u001b[0;32m     13\u001b[0m _sym_db \u001b[38;5;241m=\u001b[39m _symbol_database\u001b[38;5;241m.\u001b[39mDefault()\n\u001b[1;32m---> 16\u001b[0m \u001b[38;5;28;01mfrom\u001b[39;00m \u001b[38;5;21;01mtensorflow\u001b[39;00m\u001b[38;5;21;01m.\u001b[39;00m\u001b[38;5;21;01mcore\u001b[39;00m\u001b[38;5;21;01m.\u001b[39;00m\u001b[38;5;21;01mframework\u001b[39;00m \u001b[38;5;28;01mimport\u001b[39;00m resource_handle_pb2 \u001b[38;5;28;01mas\u001b[39;00m tensorflow_dot_core_dot_framework_dot_resource__handle__pb2\n\u001b[0;32m     17\u001b[0m \u001b[38;5;28;01mfrom\u001b[39;00m \u001b[38;5;21;01mtensorflow\u001b[39;00m\u001b[38;5;21;01m.\u001b[39;00m\u001b[38;5;21;01mcore\u001b[39;00m\u001b[38;5;21;01m.\u001b[39;00m\u001b[38;5;21;01mframework\u001b[39;00m \u001b[38;5;28;01mimport\u001b[39;00m tensor_shape_pb2 \u001b[38;5;28;01mas\u001b[39;00m tensorflow_dot_core_dot_framework_dot_tensor__shape__pb2\n\u001b[0;32m     18\u001b[0m \u001b[38;5;28;01mfrom\u001b[39;00m \u001b[38;5;21;01mtensorflow\u001b[39;00m\u001b[38;5;21;01m.\u001b[39;00m\u001b[38;5;21;01mcore\u001b[39;00m\u001b[38;5;21;01m.\u001b[39;00m\u001b[38;5;21;01mframework\u001b[39;00m \u001b[38;5;28;01mimport\u001b[39;00m types_pb2 \u001b[38;5;28;01mas\u001b[39;00m tensorflow_dot_core_dot_framework_dot_types__pb2\n",
      "File \u001b[1;32m~\\AppData\\Roaming\\Python\\Python39\\site-packages\\tensorflow\\core\\framework\\resource_handle_pb2.py:16\u001b[0m, in \u001b[0;36m<module>\u001b[1;34m\u001b[0m\n\u001b[0;32m     11\u001b[0m \u001b[38;5;66;03m# @@protoc_insertion_point(imports)\u001b[39;00m\n\u001b[0;32m     13\u001b[0m _sym_db \u001b[38;5;241m=\u001b[39m _symbol_database\u001b[38;5;241m.\u001b[39mDefault()\n\u001b[1;32m---> 16\u001b[0m \u001b[38;5;28;01mfrom\u001b[39;00m \u001b[38;5;21;01mtensorflow\u001b[39;00m\u001b[38;5;21;01m.\u001b[39;00m\u001b[38;5;21;01mcore\u001b[39;00m\u001b[38;5;21;01m.\u001b[39;00m\u001b[38;5;21;01mframework\u001b[39;00m \u001b[38;5;28;01mimport\u001b[39;00m tensor_shape_pb2 \u001b[38;5;28;01mas\u001b[39;00m tensorflow_dot_core_dot_framework_dot_tensor__shape__pb2\n\u001b[0;32m     17\u001b[0m \u001b[38;5;28;01mfrom\u001b[39;00m \u001b[38;5;21;01mtensorflow\u001b[39;00m\u001b[38;5;21;01m.\u001b[39;00m\u001b[38;5;21;01mcore\u001b[39;00m\u001b[38;5;21;01m.\u001b[39;00m\u001b[38;5;21;01mframework\u001b[39;00m \u001b[38;5;28;01mimport\u001b[39;00m types_pb2 \u001b[38;5;28;01mas\u001b[39;00m tensorflow_dot_core_dot_framework_dot_types__pb2\n\u001b[0;32m     20\u001b[0m DESCRIPTOR \u001b[38;5;241m=\u001b[39m _descriptor\u001b[38;5;241m.\u001b[39mFileDescriptor(\n\u001b[0;32m     21\u001b[0m   name\u001b[38;5;241m=\u001b[39m\u001b[38;5;124m'\u001b[39m\u001b[38;5;124mtensorflow/core/framework/resource_handle.proto\u001b[39m\u001b[38;5;124m'\u001b[39m,\n\u001b[0;32m     22\u001b[0m   package\u001b[38;5;241m=\u001b[39m\u001b[38;5;124m'\u001b[39m\u001b[38;5;124mtensorflow\u001b[39m\u001b[38;5;124m'\u001b[39m,\n\u001b[1;32m   (...)\u001b[0m\n\u001b[0;32m     26\u001b[0m   ,\n\u001b[0;32m     27\u001b[0m   dependencies\u001b[38;5;241m=\u001b[39m[tensorflow_dot_core_dot_framework_dot_tensor__shape__pb2\u001b[38;5;241m.\u001b[39mDESCRIPTOR,tensorflow_dot_core_dot_framework_dot_types__pb2\u001b[38;5;241m.\u001b[39mDESCRIPTOR,])\n",
      "File \u001b[1;32m~\\AppData\\Roaming\\Python\\Python39\\site-packages\\tensorflow\\core\\framework\\tensor_shape_pb2.py:36\u001b[0m, in \u001b[0;36m<module>\u001b[1;34m\u001b[0m\n\u001b[0;32m     13\u001b[0m _sym_db \u001b[38;5;241m=\u001b[39m _symbol_database\u001b[38;5;241m.\u001b[39mDefault()\n\u001b[0;32m     18\u001b[0m DESCRIPTOR \u001b[38;5;241m=\u001b[39m _descriptor\u001b[38;5;241m.\u001b[39mFileDescriptor(\n\u001b[0;32m     19\u001b[0m   name\u001b[38;5;241m=\u001b[39m\u001b[38;5;124m'\u001b[39m\u001b[38;5;124mtensorflow/core/framework/tensor_shape.proto\u001b[39m\u001b[38;5;124m'\u001b[39m,\n\u001b[0;32m     20\u001b[0m   package\u001b[38;5;241m=\u001b[39m\u001b[38;5;124m'\u001b[39m\u001b[38;5;124mtensorflow\u001b[39m\u001b[38;5;124m'\u001b[39m,\n\u001b[1;32m   (...)\u001b[0m\n\u001b[0;32m     23\u001b[0m   serialized_pb\u001b[38;5;241m=\u001b[39m_b(\u001b[38;5;124m'\u001b[39m\u001b[38;5;130;01m\\n\u001b[39;00m\u001b[38;5;124m,tensorflow/core/framework/tensor_shape.proto\u001b[39m\u001b[38;5;130;01m\\x12\u001b[39;00m\u001b[38;5;130;01m\\n\u001b[39;00m\u001b[38;5;124mtensorflow\u001b[39m\u001b[38;5;130;01m\\\"\u001b[39;00m\u001b[38;5;124mz\u001b[39m\u001b[38;5;130;01m\\n\u001b[39;00m\u001b[38;5;130;01m\\x10\u001b[39;00m\u001b[38;5;124mTensorShapeProto\u001b[39m\u001b[38;5;130;01m\\x12\u001b[39;00m\u001b[38;5;124m-\u001b[39m\u001b[38;5;130;01m\\n\u001b[39;00m\u001b[38;5;130;01m\\x03\u001b[39;00m\u001b[38;5;130;01m\\x64\u001b[39;00m\u001b[38;5;124mim\u001b[39m\u001b[38;5;130;01m\\x18\u001b[39;00m\u001b[38;5;130;01m\\x02\u001b[39;00m\u001b[38;5;124m \u001b[39m\u001b[38;5;130;01m\\x03\u001b[39;00m\u001b[38;5;124m(\u001b[39m\u001b[38;5;130;01m\\x0b\u001b[39;00m\u001b[38;5;130;01m\\x32\u001b[39;00m\u001b[38;5;124m .tensorflow.TensorShapeProto.Dim\u001b[39m\u001b[38;5;130;01m\\x12\u001b[39;00m\u001b[38;5;130;01m\\x14\u001b[39;00m\u001b[38;5;130;01m\\n\u001b[39;00m\u001b[38;5;130;01m\\x0c\u001b[39;00m\u001b[38;5;124munknown_rank\u001b[39m\u001b[38;5;130;01m\\x18\u001b[39;00m\u001b[38;5;130;01m\\x03\u001b[39;00m\u001b[38;5;124m \u001b[39m\u001b[38;5;130;01m\\x01\u001b[39;00m\u001b[38;5;124m(\u001b[39m\u001b[38;5;130;01m\\x08\u001b[39;00m\u001b[38;5;130;01m\\x1a\u001b[39;00m\u001b[38;5;124m!\u001b[39m\u001b[38;5;130;01m\\n\u001b[39;00m\u001b[38;5;130;01m\\x03\u001b[39;00m\u001b[38;5;130;01m\\x44\u001b[39;00m\u001b[38;5;124mim\u001b[39m\u001b[38;5;130;01m\\x12\u001b[39;00m\u001b[38;5;130;01m\\x0c\u001b[39;00m\u001b[38;5;130;01m\\n\u001b[39;00m\u001b[38;5;130;01m\\x04\u001b[39;00m\u001b[38;5;124msize\u001b[39m\u001b[38;5;130;01m\\x18\u001b[39;00m\u001b[38;5;130;01m\\x01\u001b[39;00m\u001b[38;5;124m \u001b[39m\u001b[38;5;130;01m\\x01\u001b[39;00m\u001b[38;5;124m(\u001b[39m\u001b[38;5;130;01m\\x03\u001b[39;00m\u001b[38;5;130;01m\\x12\u001b[39;00m\u001b[38;5;130;01m\\x0c\u001b[39;00m\u001b[38;5;130;01m\\n\u001b[39;00m\u001b[38;5;130;01m\\x04\u001b[39;00m\u001b[38;5;124mname\u001b[39m\u001b[38;5;130;01m\\x18\u001b[39;00m\u001b[38;5;130;01m\\x02\u001b[39;00m\u001b[38;5;124m \u001b[39m\u001b[38;5;130;01m\\x01\u001b[39;00m\u001b[38;5;124m(\u001b[39m\u001b[38;5;130;01m\\t\u001b[39;00m\u001b[38;5;124mB\u001b[39m\u001b[38;5;130;01m\\x87\u001b[39;00m\u001b[38;5;130;01m\\x01\u001b[39;00m\u001b[38;5;130;01m\\n\u001b[39;00m\u001b[38;5;130;01m\\x18\u001b[39;00m\u001b[38;5;124morg.tensorflow.frameworkB\u001b[39m\u001b[38;5;130;01m\\x11\u001b[39;00m\u001b[38;5;124mTensorShapeProtosP\u001b[39m\u001b[38;5;130;01m\\x01\u001b[39;00m\u001b[38;5;124mZSgithub.com/tensorflow/tensorflow/tensorflow/go/core/framework/tensor_shape_go_proto\u001b[39m\u001b[38;5;130;01m\\xf8\u001b[39;00m\u001b[38;5;130;01m\\x01\u001b[39;00m\u001b[38;5;130;01m\\x01\u001b[39;00m\u001b[38;5;130;01m\\x62\u001b[39;00m\u001b[38;5;130;01m\\x06\u001b[39;00m\u001b[38;5;124mproto3\u001b[39m\u001b[38;5;124m'\u001b[39m)\n\u001b[0;32m     24\u001b[0m )\n\u001b[0;32m     29\u001b[0m _TENSORSHAPEPROTO_DIM \u001b[38;5;241m=\u001b[39m _descriptor\u001b[38;5;241m.\u001b[39mDescriptor(\n\u001b[0;32m     30\u001b[0m   name\u001b[38;5;241m=\u001b[39m\u001b[38;5;124m'\u001b[39m\u001b[38;5;124mDim\u001b[39m\u001b[38;5;124m'\u001b[39m,\n\u001b[0;32m     31\u001b[0m   full_name\u001b[38;5;241m=\u001b[39m\u001b[38;5;124m'\u001b[39m\u001b[38;5;124mtensorflow.TensorShapeProto.Dim\u001b[39m\u001b[38;5;124m'\u001b[39m,\n\u001b[0;32m     32\u001b[0m   filename\u001b[38;5;241m=\u001b[39m\u001b[38;5;28;01mNone\u001b[39;00m,\n\u001b[0;32m     33\u001b[0m   file\u001b[38;5;241m=\u001b[39mDESCRIPTOR,\n\u001b[0;32m     34\u001b[0m   containing_type\u001b[38;5;241m=\u001b[39m\u001b[38;5;28;01mNone\u001b[39;00m,\n\u001b[0;32m     35\u001b[0m   fields\u001b[38;5;241m=\u001b[39m[\n\u001b[1;32m---> 36\u001b[0m     \u001b[43m_descriptor\u001b[49m\u001b[38;5;241;43m.\u001b[39;49m\u001b[43mFieldDescriptor\u001b[49m\u001b[43m(\u001b[49m\n\u001b[0;32m     37\u001b[0m \u001b[43m      \u001b[49m\u001b[43mname\u001b[49m\u001b[38;5;241;43m=\u001b[39;49m\u001b[38;5;124;43m'\u001b[39;49m\u001b[38;5;124;43msize\u001b[39;49m\u001b[38;5;124;43m'\u001b[39;49m\u001b[43m,\u001b[49m\u001b[43m \u001b[49m\u001b[43mfull_name\u001b[49m\u001b[38;5;241;43m=\u001b[39;49m\u001b[38;5;124;43m'\u001b[39;49m\u001b[38;5;124;43mtensorflow.TensorShapeProto.Dim.size\u001b[39;49m\u001b[38;5;124;43m'\u001b[39;49m\u001b[43m,\u001b[49m\u001b[43m \u001b[49m\u001b[43mindex\u001b[49m\u001b[38;5;241;43m=\u001b[39;49m\u001b[38;5;241;43m0\u001b[39;49m\u001b[43m,\u001b[49m\n\u001b[0;32m     38\u001b[0m \u001b[43m      \u001b[49m\u001b[43mnumber\u001b[49m\u001b[38;5;241;43m=\u001b[39;49m\u001b[38;5;241;43m1\u001b[39;49m\u001b[43m,\u001b[49m\u001b[43m \u001b[49m\u001b[38;5;28;43mtype\u001b[39;49m\u001b[38;5;241;43m=\u001b[39;49m\u001b[38;5;241;43m3\u001b[39;49m\u001b[43m,\u001b[49m\u001b[43m \u001b[49m\u001b[43mcpp_type\u001b[49m\u001b[38;5;241;43m=\u001b[39;49m\u001b[38;5;241;43m2\u001b[39;49m\u001b[43m,\u001b[49m\u001b[43m \u001b[49m\u001b[43mlabel\u001b[49m\u001b[38;5;241;43m=\u001b[39;49m\u001b[38;5;241;43m1\u001b[39;49m\u001b[43m,\u001b[49m\n\u001b[0;32m     39\u001b[0m \u001b[43m      \u001b[49m\u001b[43mhas_default_value\u001b[49m\u001b[38;5;241;43m=\u001b[39;49m\u001b[38;5;28;43;01mFalse\u001b[39;49;00m\u001b[43m,\u001b[49m\u001b[43m \u001b[49m\u001b[43mdefault_value\u001b[49m\u001b[38;5;241;43m=\u001b[39;49m\u001b[38;5;241;43m0\u001b[39;49m\u001b[43m,\u001b[49m\n\u001b[0;32m     40\u001b[0m \u001b[43m      \u001b[49m\u001b[43mmessage_type\u001b[49m\u001b[38;5;241;43m=\u001b[39;49m\u001b[38;5;28;43;01mNone\u001b[39;49;00m\u001b[43m,\u001b[49m\u001b[43m \u001b[49m\u001b[43menum_type\u001b[49m\u001b[38;5;241;43m=\u001b[39;49m\u001b[38;5;28;43;01mNone\u001b[39;49;00m\u001b[43m,\u001b[49m\u001b[43m \u001b[49m\u001b[43mcontaining_type\u001b[49m\u001b[38;5;241;43m=\u001b[39;49m\u001b[38;5;28;43;01mNone\u001b[39;49;00m\u001b[43m,\u001b[49m\n\u001b[0;32m     41\u001b[0m \u001b[43m      \u001b[49m\u001b[43mis_extension\u001b[49m\u001b[38;5;241;43m=\u001b[39;49m\u001b[38;5;28;43;01mFalse\u001b[39;49;00m\u001b[43m,\u001b[49m\u001b[43m \u001b[49m\u001b[43mextension_scope\u001b[49m\u001b[38;5;241;43m=\u001b[39;49m\u001b[38;5;28;43;01mNone\u001b[39;49;00m\u001b[43m,\u001b[49m\n\u001b[0;32m     42\u001b[0m \u001b[43m      \u001b[49m\u001b[43mserialized_options\u001b[49m\u001b[38;5;241;43m=\u001b[39;49m\u001b[38;5;28;43;01mNone\u001b[39;49;00m\u001b[43m,\u001b[49m\u001b[43m \u001b[49m\u001b[43mfile\u001b[49m\u001b[38;5;241;43m=\u001b[39;49m\u001b[43mDESCRIPTOR\u001b[49m\u001b[43m)\u001b[49m,\n\u001b[0;32m     43\u001b[0m     _descriptor\u001b[38;5;241m.\u001b[39mFieldDescriptor(\n\u001b[0;32m     44\u001b[0m       name\u001b[38;5;241m=\u001b[39m\u001b[38;5;124m'\u001b[39m\u001b[38;5;124mname\u001b[39m\u001b[38;5;124m'\u001b[39m, full_name\u001b[38;5;241m=\u001b[39m\u001b[38;5;124m'\u001b[39m\u001b[38;5;124mtensorflow.TensorShapeProto.Dim.name\u001b[39m\u001b[38;5;124m'\u001b[39m, index\u001b[38;5;241m=\u001b[39m\u001b[38;5;241m1\u001b[39m,\n\u001b[0;32m     45\u001b[0m       number\u001b[38;5;241m=\u001b[39m\u001b[38;5;241m2\u001b[39m, \u001b[38;5;28mtype\u001b[39m\u001b[38;5;241m=\u001b[39m\u001b[38;5;241m9\u001b[39m, cpp_type\u001b[38;5;241m=\u001b[39m\u001b[38;5;241m9\u001b[39m, label\u001b[38;5;241m=\u001b[39m\u001b[38;5;241m1\u001b[39m,\n\u001b[0;32m     46\u001b[0m       has_default_value\u001b[38;5;241m=\u001b[39m\u001b[38;5;28;01mFalse\u001b[39;00m, default_value\u001b[38;5;241m=\u001b[39m_b(\u001b[38;5;124m\"\u001b[39m\u001b[38;5;124m\"\u001b[39m)\u001b[38;5;241m.\u001b[39mdecode(\u001b[38;5;124m'\u001b[39m\u001b[38;5;124mutf-8\u001b[39m\u001b[38;5;124m'\u001b[39m),\n\u001b[0;32m     47\u001b[0m       message_type\u001b[38;5;241m=\u001b[39m\u001b[38;5;28;01mNone\u001b[39;00m, enum_type\u001b[38;5;241m=\u001b[39m\u001b[38;5;28;01mNone\u001b[39;00m, containing_type\u001b[38;5;241m=\u001b[39m\u001b[38;5;28;01mNone\u001b[39;00m,\n\u001b[0;32m     48\u001b[0m       is_extension\u001b[38;5;241m=\u001b[39m\u001b[38;5;28;01mFalse\u001b[39;00m, extension_scope\u001b[38;5;241m=\u001b[39m\u001b[38;5;28;01mNone\u001b[39;00m,\n\u001b[0;32m     49\u001b[0m       serialized_options\u001b[38;5;241m=\u001b[39m\u001b[38;5;28;01mNone\u001b[39;00m, file\u001b[38;5;241m=\u001b[39mDESCRIPTOR),\n\u001b[0;32m     50\u001b[0m   ],\n\u001b[0;32m     51\u001b[0m   extensions\u001b[38;5;241m=\u001b[39m[\n\u001b[0;32m     52\u001b[0m   ],\n\u001b[0;32m     53\u001b[0m   nested_types\u001b[38;5;241m=\u001b[39m[],\n\u001b[0;32m     54\u001b[0m   enum_types\u001b[38;5;241m=\u001b[39m[\n\u001b[0;32m     55\u001b[0m   ],\n\u001b[0;32m     56\u001b[0m   serialized_options\u001b[38;5;241m=\u001b[39m\u001b[38;5;28;01mNone\u001b[39;00m,\n\u001b[0;32m     57\u001b[0m   is_extendable\u001b[38;5;241m=\u001b[39m\u001b[38;5;28;01mFalse\u001b[39;00m,\n\u001b[0;32m     58\u001b[0m   syntax\u001b[38;5;241m=\u001b[39m\u001b[38;5;124m'\u001b[39m\u001b[38;5;124mproto3\u001b[39m\u001b[38;5;124m'\u001b[39m,\n\u001b[0;32m     59\u001b[0m   extension_ranges\u001b[38;5;241m=\u001b[39m[],\n\u001b[0;32m     60\u001b[0m   oneofs\u001b[38;5;241m=\u001b[39m[\n\u001b[0;32m     61\u001b[0m   ],\n\u001b[0;32m     62\u001b[0m   serialized_start\u001b[38;5;241m=\u001b[39m\u001b[38;5;241m149\u001b[39m,\n\u001b[0;32m     63\u001b[0m   serialized_end\u001b[38;5;241m=\u001b[39m\u001b[38;5;241m182\u001b[39m,\n\u001b[0;32m     64\u001b[0m )\n\u001b[0;32m     66\u001b[0m _TENSORSHAPEPROTO \u001b[38;5;241m=\u001b[39m _descriptor\u001b[38;5;241m.\u001b[39mDescriptor(\n\u001b[0;32m     67\u001b[0m   name\u001b[38;5;241m=\u001b[39m\u001b[38;5;124m'\u001b[39m\u001b[38;5;124mTensorShapeProto\u001b[39m\u001b[38;5;124m'\u001b[39m,\n\u001b[0;32m     68\u001b[0m   full_name\u001b[38;5;241m=\u001b[39m\u001b[38;5;124m'\u001b[39m\u001b[38;5;124mtensorflow.TensorShapeProto\u001b[39m\u001b[38;5;124m'\u001b[39m,\n\u001b[1;32m   (...)\u001b[0m\n\u001b[0;32m    100\u001b[0m   serialized_end\u001b[38;5;241m=\u001b[39m\u001b[38;5;241m182\u001b[39m,\n\u001b[0;32m    101\u001b[0m )\n\u001b[0;32m    103\u001b[0m _TENSORSHAPEPROTO_DIM\u001b[38;5;241m.\u001b[39mcontaining_type \u001b[38;5;241m=\u001b[39m _TENSORSHAPEPROTO\n",
      "File \u001b[1;32m~\\anaconda3\\envs\\Dissertation\\lib\\site-packages\\google\\protobuf\\descriptor.py:560\u001b[0m, in \u001b[0;36mFieldDescriptor.__new__\u001b[1;34m(cls, name, full_name, index, number, type, cpp_type, label, default_value, message_type, enum_type, containing_type, is_extension, extension_scope, options, serialized_options, has_default_value, containing_oneof, json_name, file, create_key)\u001b[0m\n\u001b[0;32m    554\u001b[0m \u001b[38;5;28;01mdef\u001b[39;00m \u001b[38;5;21m__new__\u001b[39m(\u001b[38;5;28mcls\u001b[39m, name, full_name, index, number, \u001b[38;5;28mtype\u001b[39m, cpp_type, label,\n\u001b[0;32m    555\u001b[0m             default_value, message_type, enum_type, containing_type,\n\u001b[0;32m    556\u001b[0m             is_extension, extension_scope, options\u001b[38;5;241m=\u001b[39m\u001b[38;5;28;01mNone\u001b[39;00m,\n\u001b[0;32m    557\u001b[0m             serialized_options\u001b[38;5;241m=\u001b[39m\u001b[38;5;28;01mNone\u001b[39;00m,\n\u001b[0;32m    558\u001b[0m             has_default_value\u001b[38;5;241m=\u001b[39m\u001b[38;5;28;01mTrue\u001b[39;00m, containing_oneof\u001b[38;5;241m=\u001b[39m\u001b[38;5;28;01mNone\u001b[39;00m, json_name\u001b[38;5;241m=\u001b[39m\u001b[38;5;28;01mNone\u001b[39;00m,\n\u001b[0;32m    559\u001b[0m             file\u001b[38;5;241m=\u001b[39m\u001b[38;5;28;01mNone\u001b[39;00m, create_key\u001b[38;5;241m=\u001b[39m\u001b[38;5;28;01mNone\u001b[39;00m):  \u001b[38;5;66;03m# pylint: disable=redefined-builtin\u001b[39;00m\n\u001b[1;32m--> 560\u001b[0m   \u001b[43m_message\u001b[49m\u001b[38;5;241;43m.\u001b[39;49m\u001b[43mMessage\u001b[49m\u001b[38;5;241;43m.\u001b[39;49m\u001b[43m_CheckCalledFromGeneratedFile\u001b[49m\u001b[43m(\u001b[49m\u001b[43m)\u001b[49m\n\u001b[0;32m    561\u001b[0m   \u001b[38;5;28;01mif\u001b[39;00m is_extension:\n\u001b[0;32m    562\u001b[0m     \u001b[38;5;28;01mreturn\u001b[39;00m _message\u001b[38;5;241m.\u001b[39mdefault_pool\u001b[38;5;241m.\u001b[39mFindExtensionByName(full_name)\n",
      "\u001b[1;31mTypeError\u001b[0m: Descriptors cannot not be created directly.\nIf this call came from a _pb2.py file, your generated code is out of date and must be regenerated with protoc >= 3.19.0.\nIf you cannot immediately regenerate your protos, some other possible workarounds are:\n 1. Downgrade the protobuf package to 3.20.x or lower.\n 2. Set PROTOCOL_BUFFERS_PYTHON_IMPLEMENTATION=python (but this will use pure-Python parsing and will be much slower).\n\nMore information: https://developers.google.com/protocol-buffers/docs/news/2022-05-06#python-updates"
     ]
    }
   ],
   "source": [
    "from tensorflow.keras.preprocessing.text import Tokenizer\n",
    "from tensorflow.keras.preprocessing.sequence import pad_sequences\n",
    "\n",
    "tokenizer = Tokenizer()\n",
    "tokenizer.fit_on_texts(X_train)\n",
    "word_index = tokenizer.word_index\n",
    "print('Found %s unique tokens.' % len(word_index))\n",
    "VOCAB_SIZE = len(word_index)"
   ]
  },
  {
   "cell_type": "code",
   "execution_count": null,
   "id": "9896ddf0",
   "metadata": {
    "scrolled": true
   },
   "outputs": [],
   "source": [
    "X_train_seq = tokenizer.texts_to_sequences(X_train)\n",
    "print('Sample 1 sequence: ', X_train_seq[0])\n",
    "print()\n",
    "X_train_padded = pad_sequences(X_train_seq, maxlen=len(X_train[0]))\n",
    "print('Shape of train data tensor:', X_train_padded.shape)"
   ]
  },
  {
   "cell_type": "code",
   "execution_count": null,
   "id": "604c3a20",
   "metadata": {
    "scrolled": true
   },
   "outputs": [],
   "source": [
    "X_test_seq = tokenizer.texts_to_sequences(X_test)\n",
    "print('Sample 1 sequence: ',X_test_seq[0])\n",
    "print()\n",
    "X_test_padded = pad_sequences(X_test_seq, maxlen= len(X_train[0]))\n",
    "print('Shape of test data tensor:', X_test_padded.shape)"
   ]
  },
  {
   "cell_type": "code",
   "execution_count": null,
   "id": "e1fe62d9",
   "metadata": {},
   "outputs": [],
   "source": [
    "from sklearn.metrics import confusion_matrix\n",
    "from mlxtend.plotting import plot_confusion_matrix\n",
    "CLASS_NUM = 2\n",
    "# the funciton will draw a heat map\n",
    "def eval_NN_model(model, X_test, y_test, title= 'Heat map'):\n",
    "    predictions = model.predict(X_test)\n",
    "    preds_int = np.argmax(predictions, axis = 1)\n",
    "    y_test_int = np.argmax(y_test, axis = 1)\n",
    "    cm = confusion_matrix(y_test_int, preds_int)\n",
    "    plot_confusion_matrix(cm, figsize=(4,4), hide_ticks=True ,cmap=plt.cm.Blues)\n",
    "    plt.title(title)\n",
    "    plt.xticks(range(CLASS_NUM), [str(i) for i in range(CLASS_NUM)], fontsize=12)\n",
    "    plt.yticks(range(CLASS_NUM), [str(i) for i in range(CLASS_NUM)], fontsize=12)\n",
    "    plt.show()\n",
    "    \n",
    "    f1_test = f1_score(y_test_int, preds_int, average = 'macro')\n",
    "    print('test F1 score: {:.3f}'.format(f1_test))"
   ]
  },
  {
   "cell_type": "code",
   "execution_count": null,
   "id": "0068f95e",
   "metadata": {},
   "outputs": [],
   "source": [
    "import tensorflow as tf\n",
    "from tensorflow.keras.models import Sequential\n",
    "from tensorflow.keras.layers import Dense, LSTM, Embedding, Conv1D\n",
    "from tensorflow.keras.layers import MaxPool1D, Flatten, Dropout\n",
    "es = tf.keras.callbacks.EarlyStopping(monitor='val_accuracy',\n",
    "                                      patience= 5, restore_best_weights= True)"
   ]
  },
  {
   "cell_type": "code",
   "execution_count": null,
   "id": "982e916b",
   "metadata": {},
   "outputs": [],
   "source": [
    "chkpt1 = tf.keras.callbacks.ModelCheckpoint(\n",
    "    'weights/ANN_weights', monitor='val_accuracy', verbose=0, save_best_only=True,\n",
    "    save_weights_only=True\n",
    ")"
   ]
  },
  {
   "cell_type": "code",
   "execution_count": null,
   "id": "a6d1f42d",
   "metadata": {},
   "outputs": [],
   "source": [
    "EMB_DIM = 50\n",
    "model_ANN = Sequential()\n",
    "model_ANN.add(Embedding(VOCAB_SIZE+1, EMB_DIM, input_length = X_train_padded.shape[1]))\n",
    "model_ANN.add(Flatten())\n",
    "model_ANN.add(Dense(12, activation='relu'))\n",
    "model_ANN.add(Dense(8, activation='relu'))\n",
    "model_ANN.add(Dense(2, activation='softmax'))\n",
    "\n",
    "model_ANN.compile(loss='categorical_crossentropy', optimizer='adam', metrics=['accuracy'])\n",
    "model_ANN.summary()"
   ]
  },
  {
   "cell_type": "code",
   "execution_count": null,
   "id": "bd08b614",
   "metadata": {
    "scrolled": true
   },
   "outputs": [],
   "source": [
    "import time\n",
    "\n",
    "eps = 100\n",
    "start = time.time()\n",
    "history1 = model_ANN.fit(X_train_padded, y_train, validation_data = (X_test_padded, y_test),\n",
    "          epochs = eps, batch_size = 32, shuffle = True, callbacks = [es, chkpt1])\n",
    "\n",
    "end = time.time()\n",
    "print('Took {:.3f} seconds to train'.format(end-start))"
   ]
  },
  {
   "cell_type": "code",
   "execution_count": null,
   "id": "2eecf6c5",
   "metadata": {},
   "outputs": [],
   "source": [
    "model_ANN.load_weights('weights/ANN_weights')"
   ]
  },
  {
   "cell_type": "code",
   "execution_count": null,
   "id": "8593b78f",
   "metadata": {},
   "outputs": [],
   "source": [
    "eval_NN_model(model_ANN, X_test_padded, y_test)"
   ]
  },
  {
   "cell_type": "code",
   "execution_count": null,
   "id": "1bc88643",
   "metadata": {},
   "outputs": [],
   "source": [
    "chkpt2 = tf.keras.callbacks.ModelCheckpoint(\n",
    "    'weights/RNN_weights', monitor='val_accuracy', verbose=0, save_best_only=True,\n",
    "    save_weights_only=True\n",
    ")"
   ]
  },
  {
   "cell_type": "code",
   "execution_count": null,
   "id": "d13f241d",
   "metadata": {},
   "outputs": [],
   "source": [
    "LSTM_UNITS = 50\n",
    "\n",
    "model_RNN = Sequential()\n",
    "model_RNN.add(Embedding(VOCAB_SIZE+1, EMB_DIM, input_length = X_train_padded.shape[1]))\n",
    "model_RNN.add(LSTM(units = LSTM_UNITS, return_sequences = True))\n",
    "model_RNN.add(LSTM(units = LSTM_UNITS))\n",
    "model_RNN.add(Dense(CLASS_NUM, activation = 'softmax'))\n",
    "\n",
    "model_RNN.compile(loss = 'categorical_crossentropy', \n",
    "                  optimizer = 'adam', metrics = ['accuracy'])\n",
    "model_RNN.summary()"
   ]
  },
  {
   "cell_type": "code",
   "execution_count": null,
   "id": "7e6af558",
   "metadata": {},
   "outputs": [],
   "source": [
    "start = time.time()\n",
    "history2 = model_RNN.fit(X_train_padded, y_train, validation_data = (X_test_padded, y_test),\n",
    "          epochs = 5, batch_size = 40, shuffle = True, callbacks = [es, chkpt2])\n",
    "end = time.time()\n",
    "print('Took {:.3f} seconds to train'.format(end-start))"
   ]
  },
  {
   "cell_type": "code",
   "execution_count": null,
   "id": "b6e10d58",
   "metadata": {},
   "outputs": [],
   "source": [
    "model_RNN.load_weights('weights/RNN_weights')\n",
    "eval_NN_model(model_RNN, X_test_padded, y_test)"
   ]
  },
  {
   "cell_type": "code",
   "execution_count": null,
   "id": "8b29e4d7",
   "metadata": {},
   "outputs": [],
   "source": [
    "chkpt3 = tf.keras.callbacks.ModelCheckpoint(\n",
    "    'weights/CNN_weights', monitor='val_accuracy', verbose=0, save_best_only=True,\n",
    "    save_weights_only=True\n",
    ")"
   ]
  },
  {
   "cell_type": "code",
   "execution_count": null,
   "id": "a63ba5be",
   "metadata": {},
   "outputs": [],
   "source": [
    "model_CNN = Sequential()\n",
    "model_CNN.add(Embedding(VOCAB_SIZE+1, EMB_DIM, input_length = X_train_padded.shape[1]))\n",
    "model_CNN.add(Conv1D(filters = 100, kernel_size = 3, activation='relu'))\n",
    "model_CNN.add(MaxPool1D(pool_size = 2, strides=2))\n",
    "model_CNN.add(Flatten())\n",
    "model_CNN.add(Dropout(0.5))\n",
    "model_CNN.add(Dense(CLASS_NUM, activation= 'softmax'))\n",
    "\n",
    "model_CNN.compile(loss = 'categorical_crossentropy', \n",
    "                  optimizer = 'adam', metrics = ['accuracy'])\n",
    "model_CNN.summary()"
   ]
  },
  {
   "cell_type": "code",
   "execution_count": null,
   "id": "a1117cce",
   "metadata": {
    "scrolled": true
   },
   "outputs": [],
   "source": [
    "start = time.time()\n",
    "history3 = model_CNN.fit(X_train_padded, y_train, validation_data = (X_test_padded, y_test),\n",
    "          epochs = eps, batch_size = 32\n",
    "                         , shuffle = True, callbacks = [es, chkpt3])\n",
    "end = time.time()\n",
    "print('Took {:.3f} seconds to train'.format(end-start, eps))"
   ]
  },
  {
   "cell_type": "code",
   "execution_count": null,
   "id": "3c88ebb7",
   "metadata": {},
   "outputs": [],
   "source": [
    "model_CNN.load_weights('weights/CNN_weights')"
   ]
  },
  {
   "cell_type": "code",
   "execution_count": null,
   "id": "94fd29cd",
   "metadata": {},
   "outputs": [],
   "source": [
    "eval_NN_model(model_CNN, X_test_padded, y_test)"
   ]
  },
  {
   "cell_type": "code",
   "execution_count": null,
   "id": "9617d4de",
   "metadata": {},
   "outputs": [],
   "source": []
  }
 ],
 "metadata": {
  "kernelspec": {
   "display_name": "Python 3 (ipykernel)",
   "language": "python",
   "name": "python3"
  },
  "language_info": {
   "codemirror_mode": {
    "name": "ipython",
    "version": 3
   },
   "file_extension": ".py",
   "mimetype": "text/x-python",
   "name": "python",
   "nbconvert_exporter": "python",
   "pygments_lexer": "ipython3",
   "version": "3.9.12"
  }
 },
 "nbformat": 4,
 "nbformat_minor": 5
}
